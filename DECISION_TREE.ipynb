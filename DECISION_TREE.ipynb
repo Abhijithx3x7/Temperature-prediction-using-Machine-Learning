{
  "nbformat": 4,
  "nbformat_minor": 0,
  "metadata": {
    "colab": {
      "name": "DECISION_TREE.ipynb",
      "provenance": [],
      "collapsed_sections": []
    },
    "kernelspec": {
      "display_name": "Python 3",
      "name": "python3"
    },
    "language_info": {
      "name": "python"
    }
  },
  "cells": [
    {
      "cell_type": "code",
      "metadata": {
        "id": "yfUpmb9sYzDX"
      },
      "source": [
        "import pandas as pd\n",
        "# Importing required libraries.\n",
        "import pandas as pd\n",
        "import numpy as np\n",
        "import seaborn as sns #visualisation\n",
        "import matplotlib.pyplot as plt #visualisation\n",
        "%matplotlib inline \n",
        "sns.set(color_codes=True)"
      ],
      "execution_count": null,
      "outputs": []
    },
    {
      "cell_type": "code",
      "metadata": {
        "colab": {
          "base_uri": "https://localhost:8080/",
          "height": 200
        },
        "id": "udfDmuGtY4-s",
        "outputId": "c703aeba-d1d8-4bfd-fb52-92ec8944be44"
      },
      "source": [
        "df = pd.read_csv('/content/archivetemptestset.csv')\n",
        "df.head()"
      ],
      "execution_count": null,
      "outputs": [
        {
          "output_type": "execute_result",
          "data": {
            "text/html": [
              "<div>\n",
              "<style scoped>\n",
              "    .dataframe tbody tr th:only-of-type {\n",
              "        vertical-align: middle;\n",
              "    }\n",
              "\n",
              "    .dataframe tbody tr th {\n",
              "        vertical-align: top;\n",
              "    }\n",
              "\n",
              "    .dataframe thead th {\n",
              "        text-align: right;\n",
              "    }\n",
              "</style>\n",
              "<table border=\"1\" class=\"dataframe\">\n",
              "  <thead>\n",
              "    <tr style=\"text-align: right;\">\n",
              "      <th></th>\n",
              "      <th>datetime_utc</th>\n",
              "      <th>_conds</th>\n",
              "      <th>_dewptm</th>\n",
              "      <th>_fog</th>\n",
              "      <th>_hail</th>\n",
              "      <th>_heatindexm</th>\n",
              "      <th>_hum</th>\n",
              "      <th>_precipm</th>\n",
              "      <th>_pressurem</th>\n",
              "      <th>_rain</th>\n",
              "      <th>_snow</th>\n",
              "      <th>_tempm</th>\n",
              "      <th>_thunder</th>\n",
              "      <th>_tornado</th>\n",
              "      <th>_vism</th>\n",
              "      <th>_wdird</th>\n",
              "      <th>_wdire</th>\n",
              "      <th>_wgustm</th>\n",
              "      <th>_windchillm</th>\n",
              "      <th>_wspdm</th>\n",
              "    </tr>\n",
              "  </thead>\n",
              "  <tbody>\n",
              "    <tr>\n",
              "      <th>0</th>\n",
              "      <td>19961101-11:00</td>\n",
              "      <td>Smoke</td>\n",
              "      <td>9.0</td>\n",
              "      <td>0</td>\n",
              "      <td>0</td>\n",
              "      <td>NaN</td>\n",
              "      <td>27.0</td>\n",
              "      <td>NaN</td>\n",
              "      <td>1010.0</td>\n",
              "      <td>0</td>\n",
              "      <td>0</td>\n",
              "      <td>30.0</td>\n",
              "      <td>0</td>\n",
              "      <td>0</td>\n",
              "      <td>5.0</td>\n",
              "      <td>280.0</td>\n",
              "      <td>West</td>\n",
              "      <td>NaN</td>\n",
              "      <td>NaN</td>\n",
              "      <td>7.4</td>\n",
              "    </tr>\n",
              "    <tr>\n",
              "      <th>1</th>\n",
              "      <td>19961101-12:00</td>\n",
              "      <td>Smoke</td>\n",
              "      <td>10.0</td>\n",
              "      <td>0</td>\n",
              "      <td>0</td>\n",
              "      <td>NaN</td>\n",
              "      <td>32.0</td>\n",
              "      <td>NaN</td>\n",
              "      <td>-9999.0</td>\n",
              "      <td>0</td>\n",
              "      <td>0</td>\n",
              "      <td>28.0</td>\n",
              "      <td>0</td>\n",
              "      <td>0</td>\n",
              "      <td>NaN</td>\n",
              "      <td>0.0</td>\n",
              "      <td>North</td>\n",
              "      <td>NaN</td>\n",
              "      <td>NaN</td>\n",
              "      <td>NaN</td>\n",
              "    </tr>\n",
              "    <tr>\n",
              "      <th>2</th>\n",
              "      <td>19961101-13:00</td>\n",
              "      <td>Smoke</td>\n",
              "      <td>11.0</td>\n",
              "      <td>0</td>\n",
              "      <td>0</td>\n",
              "      <td>NaN</td>\n",
              "      <td>44.0</td>\n",
              "      <td>NaN</td>\n",
              "      <td>-9999.0</td>\n",
              "      <td>0</td>\n",
              "      <td>0</td>\n",
              "      <td>24.0</td>\n",
              "      <td>0</td>\n",
              "      <td>0</td>\n",
              "      <td>NaN</td>\n",
              "      <td>0.0</td>\n",
              "      <td>North</td>\n",
              "      <td>NaN</td>\n",
              "      <td>NaN</td>\n",
              "      <td>NaN</td>\n",
              "    </tr>\n",
              "    <tr>\n",
              "      <th>3</th>\n",
              "      <td>19961101-14:00</td>\n",
              "      <td>Smoke</td>\n",
              "      <td>10.0</td>\n",
              "      <td>0</td>\n",
              "      <td>0</td>\n",
              "      <td>NaN</td>\n",
              "      <td>41.0</td>\n",
              "      <td>NaN</td>\n",
              "      <td>1010.0</td>\n",
              "      <td>0</td>\n",
              "      <td>0</td>\n",
              "      <td>24.0</td>\n",
              "      <td>0</td>\n",
              "      <td>0</td>\n",
              "      <td>2.0</td>\n",
              "      <td>0.0</td>\n",
              "      <td>North</td>\n",
              "      <td>NaN</td>\n",
              "      <td>NaN</td>\n",
              "      <td>NaN</td>\n",
              "    </tr>\n",
              "    <tr>\n",
              "      <th>4</th>\n",
              "      <td>19961101-16:00</td>\n",
              "      <td>Smoke</td>\n",
              "      <td>11.0</td>\n",
              "      <td>0</td>\n",
              "      <td>0</td>\n",
              "      <td>NaN</td>\n",
              "      <td>47.0</td>\n",
              "      <td>NaN</td>\n",
              "      <td>1011.0</td>\n",
              "      <td>0</td>\n",
              "      <td>0</td>\n",
              "      <td>23.0</td>\n",
              "      <td>0</td>\n",
              "      <td>0</td>\n",
              "      <td>1.2</td>\n",
              "      <td>0.0</td>\n",
              "      <td>North</td>\n",
              "      <td>NaN</td>\n",
              "      <td>NaN</td>\n",
              "      <td>0.0</td>\n",
              "    </tr>\n",
              "  </tbody>\n",
              "</table>\n",
              "</div>"
            ],
            "text/plain": [
              "     datetime_utc _conds  _dewptm  _fog  ...  _wdire  _wgustm  _windchillm  _wspdm\n",
              "0  19961101-11:00  Smoke      9.0     0  ...    West      NaN          NaN     7.4\n",
              "1  19961101-12:00  Smoke     10.0     0  ...   North      NaN          NaN     NaN\n",
              "2  19961101-13:00  Smoke     11.0     0  ...   North      NaN          NaN     NaN\n",
              "3  19961101-14:00  Smoke     10.0     0  ...   North      NaN          NaN     NaN\n",
              "4  19961101-16:00  Smoke     11.0     0  ...   North      NaN          NaN     0.0\n",
              "\n",
              "[5 rows x 20 columns]"
            ]
          },
          "metadata": {
            "tags": []
          },
          "execution_count": 33
        }
      ]
    },
    {
      "cell_type": "code",
      "metadata": {
        "colab": {
          "base_uri": "https://localhost:8080/"
        },
        "id": "XDHNhOwghOWf",
        "outputId": "ba99931e-1b21-40e8-ca64-1df30c3522df"
      },
      "source": [
        "# We can see all the column name has space in there names, lets assign new names with removed space.\n",
        "df.columns"
      ],
      "execution_count": null,
      "outputs": [
        {
          "output_type": "execute_result",
          "data": {
            "text/plain": [
              "Index(['datetime_utc', '_conds', '_dewptm', '_fog', '_hail', '_heatindexm',\n",
              "       '_hum', '_precipm', '_pressurem', '_rain', '_snow', '_tempm',\n",
              "       '_thunder', '_tornado', '_vism', '_wdird', '_wdire', '_wgustm',\n",
              "       '_windchillm', '_wspdm'],\n",
              "      dtype='object')"
            ]
          },
          "metadata": {
            "tags": []
          },
          "execution_count": 34
        }
      ]
    },
    {
      "cell_type": "code",
      "metadata": {
        "id": "heBHxvY_ha0J"
      },
      "source": [
        "df.columns = map(lambda x: x.strip(), df.columns)"
      ],
      "execution_count": null,
      "outputs": []
    },
    {
      "cell_type": "code",
      "metadata": {
        "colab": {
          "base_uri": "https://localhost:8080/"
        },
        "id": "2xaNgcdrhtjT",
        "outputId": "bbcd9881-db2e-4f7c-a457-e3a5304b9971"
      },
      "source": [
        "df.columns # Space removed"
      ],
      "execution_count": null,
      "outputs": [
        {
          "output_type": "execute_result",
          "data": {
            "text/plain": [
              "Index(['datetime_utc', '_conds', '_dewptm', '_fog', '_hail', '_heatindexm',\n",
              "       '_hum', '_precipm', '_pressurem', '_rain', '_snow', '_tempm',\n",
              "       '_thunder', '_tornado', '_vism', '_wdird', '_wdire', '_wgustm',\n",
              "       '_windchillm', '_wspdm'],\n",
              "      dtype='object')"
            ]
          },
          "metadata": {
            "tags": []
          },
          "execution_count": 36
        }
      ]
    },
    {
      "cell_type": "code",
      "metadata": {
        "colab": {
          "base_uri": "https://localhost:8080/"
        },
        "id": "pouo1fyshxOu",
        "outputId": "d91c8118-d572-4880-ac01-1dc3414f3d45"
      },
      "source": [
        "# Lets check the usual whether codition. We can see usually delhi's weather is either Haze, Smoke. Not good\n",
        "# for health. :()\n",
        "df._conds.value_counts(ascending=False)"
      ],
      "execution_count": null,
      "outputs": [
        {
          "output_type": "execute_result",
          "data": {
            "text/plain": [
              "Haze                             47602\n",
              "Smoke                            20760\n",
              "Mist                              9375\n",
              "Clear                             3129\n",
              "Widespread Dust                   2856\n",
              "Fog                               2760\n",
              "Scattered Clouds                  2209\n",
              "Partly Cloudy                     2091\n",
              "Shallow Fog                       1860\n",
              "Mostly Cloudy                     1537\n",
              "Light Rain                        1302\n",
              "Partial Fog                       1031\n",
              "Patches of Fog                     901\n",
              "Thunderstorms and Rain             486\n",
              "Heavy Fog                          421\n",
              "Light Drizzle                      414\n",
              "Rain                               394\n",
              "Unknown                            383\n",
              "Blowing Sand                       378\n",
              "Overcast                           326\n",
              "Thunderstorm                       192\n",
              "Light Thunderstorms and Rain       176\n",
              "Drizzle                            112\n",
              "Light Fog                           64\n",
              "Light Thunderstorm                  64\n",
              "Heavy Rain                          28\n",
              "Heavy Thunderstorms and Rain        22\n",
              "Thunderstorms with Hail             11\n",
              "Squalls                              6\n",
              "Light Sandstorm                      6\n",
              "Light Rain Showers                   5\n",
              "Volcanic Ash                         4\n",
              "Light Haze                           4\n",
              "Sandstorm                            2\n",
              "Rain Showers                         2\n",
              "Funnel Cloud                         2\n",
              "Light Hail Showers                   1\n",
              "Light Freezing Rain                  1\n",
              "Heavy Thunderstorms with Hail        1\n",
              "Name: _conds, dtype: int64"
            ]
          },
          "metadata": {
            "tags": []
          },
          "execution_count": 37
        }
      ]
    },
    {
      "cell_type": "code",
      "metadata": {
        "colab": {
          "base_uri": "https://localhost:8080/",
          "height": 693
        },
        "id": "KuQzEyqPh3aR",
        "outputId": "fc5a3ba1-eb7d-44cb-de10-25c6c57d4e7b"
      },
      "source": [
        "# Lets plot top 10 weather condition in delhi.\n",
        "plt.figure(figsize=(15, 10));\n",
        "df._conds.value_counts().head(10).plot(kind='bar');\n",
        "plt.title(\"Top 10 most common weather condition\")\n",
        "plt.plot();\n",
        "# We can clearly see that haze and smoe are the most commo weather condition in delhi."
      ],
      "execution_count": null,
      "outputs": [
        {
          "output_type": "display_data",
          "data": {
            "image/png": "[encoded data removed]",
            "text/plain": [
              "<Figure size 1080x720 with 1 Axes>"
            ]
          },
          "metadata": {
            "tags": []
          }
        }
      ]
    },
    {
      "cell_type": "code",
      "metadata": {
        "colab": {
          "base_uri": "https://localhost:8080/",
          "height": 773
        },
        "id": "-TdoGqvCiCe2",
        "outputId": "75376150-b1c8-4c67-cf69-97c080720eae"
      },
      "source": [
        "# Lets see top 10 least condition\n",
        "plt.figure(figsize=(15, 10));\n",
        "df._conds.value_counts(ascending=True).head(10).plot(kind=\"bar\");\n",
        "plt.title(\"Top 10 least whether condition in delhi\");\n",
        "plt.plot();"
      ],
      "execution_count": null,
      "outputs": [
        {
          "output_type": "display_data",
          "data": {
            "image/png": "[encoded data removed]",
            "text/plain": [
              "<Figure size 1080x720 with 1 Axes>"
            ]
          },
          "metadata": {
            "tags": []
          }
        }
      ]
    },
    {
      "cell_type": "code",
      "metadata": {
        "colab": {
          "base_uri": "https://localhost:8080/"
        },
        "id": "px7jcLwiiKga",
        "outputId": "cbcd6b0d-2acb-4dea-ab16-c5288f27297f"
      },
      "source": [
        "# common wind direction\n",
        "df._wdire.value_counts()"
      ],
      "execution_count": null,
      "outputs": [
        {
          "output_type": "execute_result",
          "data": {
            "text/plain": [
              "North       19034\n",
              "West        11888\n",
              "WNW          7464\n",
              "East         7233\n",
              "NW           7117\n",
              "WSW          5466\n",
              "ESE          5336\n",
              "ENE          3721\n",
              "SE           3513\n",
              "SW           3200\n",
              "NNW          2696\n",
              "NE           2500\n",
              "SSE          2052\n",
              "NNE          1752\n",
              "SSW          1715\n",
              "South        1543\n",
              "Variable        5\n",
              "Name: _wdire, dtype: int64"
            ]
          },
          "metadata": {
            "tags": []
          },
          "execution_count": 40
        }
      ]
    },
    {
      "cell_type": "code",
      "metadata": {
        "colab": {
          "base_uri": "https://localhost:8080/",
          "height": 645
        },
        "id": "co4CzMPbiU17",
        "outputId": "d5cad524-9dcc-4f3f-8869-2d9e033693a0"
      },
      "source": [
        "plt.figure(figsize=(15, 10));\n",
        "plt.title(\"Common wind direction in delhi\");\n",
        "df._wdire.value_counts().head(30).plot(kind=\"bar\");\n",
        "plt.plot();"
      ],
      "execution_count": null,
      "outputs": [
        {
          "output_type": "display_data",
          "data": {
            "image/png": "[encoded data removed]",
            "text/plain": [
              "<Figure size 1080x720 with 1 Axes>"
            ]
          },
          "metadata": {
            "tags": []
          }
        }
      ]
    },
    {
      "cell_type": "code",
      "metadata": {
        "colab": {
          "base_uri": "https://localhost:8080/"
        },
        "id": "9tQTbzeyialb",
        "outputId": "0c31d812-f5c1-438b-938c-f133f81f6683"
      },
      "source": [
        "# Average temprature\n",
        "print(\"average temprature in delhi:\", round(df._tempm.mean(axis=0),2))"
      ],
      "execution_count": null,
      "outputs": [
        {
          "output_type": "stream",
          "text": [
            "average temprature in delhi: 25.45\n"
          ],
          "name": "stdout"
        }
      ]
    },
    {
      "cell_type": "code",
      "metadata": {
        "id": "dyQfNuijigFH"
      },
      "source": [
        "# As we can see there is datetime column, We can extract year from it. Year can ve an important feature\n",
        "# for us to calculate how temprature is changing according to year\n",
        "def extract_year(value):        #a function to extract year part from the whole date\n",
        "    return (value[0:4])"
      ],
      "execution_count": null,
      "outputs": []
    },
    {
      "cell_type": "code",
      "metadata": {
        "colab": {
          "base_uri": "https://localhost:8080/",
          "height": 200
        },
        "id": "aLQiqkveildq",
        "outputId": "f163eeac-1af1-4433-c00e-ae238c959f64"
      },
      "source": [
        "df.head()"
      ],
      "execution_count": null,
      "outputs": [
        {
          "output_type": "execute_result",
          "data": {
            "text/html": [
              "<div>\n",
              "<style scoped>\n",
              "    .dataframe tbody tr th:only-of-type {\n",
              "        vertical-align: middle;\n",
              "    }\n",
              "\n",
              "    .dataframe tbody tr th {\n",
              "        vertical-align: top;\n",
              "    }\n",
              "\n",
              "    .dataframe thead th {\n",
              "        text-align: right;\n",
              "    }\n",
              "</style>\n",
              "<table border=\"1\" class=\"dataframe\">\n",
              "  <thead>\n",
              "    <tr style=\"text-align: right;\">\n",
              "      <th></th>\n",
              "      <th>datetime_utc</th>\n",
              "      <th>_conds</th>\n",
              "      <th>_dewptm</th>\n",
              "      <th>_fog</th>\n",
              "      <th>_hail</th>\n",
              "      <th>_heatindexm</th>\n",
              "      <th>_hum</th>\n",
              "      <th>_precipm</th>\n",
              "      <th>_pressurem</th>\n",
              "      <th>_rain</th>\n",
              "      <th>_snow</th>\n",
              "      <th>_tempm</th>\n",
              "      <th>_thunder</th>\n",
              "      <th>_tornado</th>\n",
              "      <th>_vism</th>\n",
              "      <th>_wdird</th>\n",
              "      <th>_wdire</th>\n",
              "      <th>_wgustm</th>\n",
              "      <th>_windchillm</th>\n",
              "      <th>_wspdm</th>\n",
              "    </tr>\n",
              "  </thead>\n",
              "  <tbody>\n",
              "    <tr>\n",
              "      <th>0</th>\n",
              "      <td>19961101-11:00</td>\n",
              "      <td>Smoke</td>\n",
              "      <td>9.0</td>\n",
              "      <td>0</td>\n",
              "      <td>0</td>\n",
              "      <td>NaN</td>\n",
              "      <td>27.0</td>\n",
              "      <td>NaN</td>\n",
              "      <td>1010.0</td>\n",
              "      <td>0</td>\n",
              "      <td>0</td>\n",
              "      <td>30.0</td>\n",
              "      <td>0</td>\n",
              "      <td>0</td>\n",
              "      <td>5.0</td>\n",
              "      <td>280.0</td>\n",
              "      <td>West</td>\n",
              "      <td>NaN</td>\n",
              "      <td>NaN</td>\n",
              "      <td>7.4</td>\n",
              "    </tr>\n",
              "    <tr>\n",
              "      <th>1</th>\n",
              "      <td>19961101-12:00</td>\n",
              "      <td>Smoke</td>\n",
              "      <td>10.0</td>\n",
              "      <td>0</td>\n",
              "      <td>0</td>\n",
              "      <td>NaN</td>\n",
              "      <td>32.0</td>\n",
              "      <td>NaN</td>\n",
              "      <td>-9999.0</td>\n",
              "      <td>0</td>\n",
              "      <td>0</td>\n",
              "      <td>28.0</td>\n",
              "      <td>0</td>\n",
              "      <td>0</td>\n",
              "      <td>NaN</td>\n",
              "      <td>0.0</td>\n",
              "      <td>North</td>\n",
              "      <td>NaN</td>\n",
              "      <td>NaN</td>\n",
              "      <td>NaN</td>\n",
              "    </tr>\n",
              "    <tr>\n",
              "      <th>2</th>\n",
              "      <td>19961101-13:00</td>\n",
              "      <td>Smoke</td>\n",
              "      <td>11.0</td>\n",
              "      <td>0</td>\n",
              "      <td>0</td>\n",
              "      <td>NaN</td>\n",
              "      <td>44.0</td>\n",
              "      <td>NaN</td>\n",
              "      <td>-9999.0</td>\n",
              "      <td>0</td>\n",
              "      <td>0</td>\n",
              "      <td>24.0</td>\n",
              "      <td>0</td>\n",
              "      <td>0</td>\n",
              "      <td>NaN</td>\n",
              "      <td>0.0</td>\n",
              "      <td>North</td>\n",
              "      <td>NaN</td>\n",
              "      <td>NaN</td>\n",
              "      <td>NaN</td>\n",
              "    </tr>\n",
              "    <tr>\n",
              "      <th>3</th>\n",
              "      <td>19961101-14:00</td>\n",
              "      <td>Smoke</td>\n",
              "      <td>10.0</td>\n",
              "      <td>0</td>\n",
              "      <td>0</td>\n",
              "      <td>NaN</td>\n",
              "      <td>41.0</td>\n",
              "      <td>NaN</td>\n",
              "      <td>1010.0</td>\n",
              "      <td>0</td>\n",
              "      <td>0</td>\n",
              "      <td>24.0</td>\n",
              "      <td>0</td>\n",
              "      <td>0</td>\n",
              "      <td>2.0</td>\n",
              "      <td>0.0</td>\n",
              "      <td>North</td>\n",
              "      <td>NaN</td>\n",
              "      <td>NaN</td>\n",
              "      <td>NaN</td>\n",
              "    </tr>\n",
              "    <tr>\n",
              "      <th>4</th>\n",
              "      <td>19961101-16:00</td>\n",
              "      <td>Smoke</td>\n",
              "      <td>11.0</td>\n",
              "      <td>0</td>\n",
              "      <td>0</td>\n",
              "      <td>NaN</td>\n",
              "      <td>47.0</td>\n",
              "      <td>NaN</td>\n",
              "      <td>1011.0</td>\n",
              "      <td>0</td>\n",
              "      <td>0</td>\n",
              "      <td>23.0</td>\n",
              "      <td>0</td>\n",
              "      <td>0</td>\n",
              "      <td>1.2</td>\n",
              "      <td>0.0</td>\n",
              "      <td>North</td>\n",
              "      <td>NaN</td>\n",
              "      <td>NaN</td>\n",
              "      <td>0.0</td>\n",
              "    </tr>\n",
              "  </tbody>\n",
              "</table>\n",
              "</div>"
            ],
            "text/plain": [
              "     datetime_utc _conds  _dewptm  _fog  ...  _wdire  _wgustm  _windchillm  _wspdm\n",
              "0  19961101-11:00  Smoke      9.0     0  ...    West      NaN          NaN     7.4\n",
              "1  19961101-12:00  Smoke     10.0     0  ...   North      NaN          NaN     NaN\n",
              "2  19961101-13:00  Smoke     11.0     0  ...   North      NaN          NaN     NaN\n",
              "3  19961101-14:00  Smoke     10.0     0  ...   North      NaN          NaN     NaN\n",
              "4  19961101-16:00  Smoke     11.0     0  ...   North      NaN          NaN     0.0\n",
              "\n",
              "[5 rows x 20 columns]"
            ]
          },
          "metadata": {
            "tags": []
          },
          "execution_count": 44
        }
      ]
    },
    {
      "cell_type": "code",
      "metadata": {
        "id": "HF18BaJbipea"
      },
      "source": [
        "# a function to extract month part from the whole date\n",
        "def extract_month(value):\n",
        "    return (value[4:6])"
      ],
      "execution_count": null,
      "outputs": []
    },
    {
      "cell_type": "code",
      "metadata": {
        "id": "U2QaR5paCvrg"
      },
      "source": [
        "def extract_day(value):\n",
        "    return (value[6:8])"
      ],
      "execution_count": null,
      "outputs": []
    },
    {
      "cell_type": "code",
      "metadata": {
        "id": "UnMFuFQjCwes"
      },
      "source": [
        "def extract_hour(value):\n",
        "    return (value[9:14])"
      ],
      "execution_count": null,
      "outputs": []
    },
    {
      "cell_type": "code",
      "metadata": {
        "id": "xy0wj__RiwVA"
      },
      "source": [
        "# Lets check our method\n",
        "df[\"year\"] = df[\"datetime_utc\"].apply(lambda x:extract_year(x)) #making and adding new features like year and month\n",
        "df[\"month\"] = df[\"datetime_utc\"].apply(lambda x:extract_month(x))\n",
        "df[\"day\"] = df[\"datetime_utc\"].apply(lambda x:extract_day(x))\n",
        "df[\"hour\"] = df[\"datetime_utc\"].apply(lambda x:extract_hour(x))"
      ],
      "execution_count": null,
      "outputs": []
    },
    {
      "cell_type": "code",
      "metadata": {
        "colab": {
          "base_uri": "https://localhost:8080/",
          "height": 200
        },
        "id": "htPmXFmei0zb",
        "outputId": "db1a00c9-a3a8-44f1-9ad6-f19dfe92e176"
      },
      "source": [
        "df.head() # So we can see a new column with year added"
      ],
      "execution_count": null,
      "outputs": [
        {
          "output_type": "execute_result",
          "data": {
            "text/html": [
              "<div>\n",
              "<style scoped>\n",
              "    .dataframe tbody tr th:only-of-type {\n",
              "        vertical-align: middle;\n",
              "    }\n",
              "\n",
              "    .dataframe tbody tr th {\n",
              "        vertical-align: top;\n",
              "    }\n",
              "\n",
              "    .dataframe thead th {\n",
              "        text-align: right;\n",
              "    }\n",
              "</style>\n",
              "<table border=\"1\" class=\"dataframe\">\n",
              "  <thead>\n",
              "    <tr style=\"text-align: right;\">\n",
              "      <th></th>\n",
              "      <th>datetime_utc</th>\n",
              "      <th>_conds</th>\n",
              "      <th>_dewptm</th>\n",
              "      <th>_fog</th>\n",
              "      <th>_hail</th>\n",
              "      <th>_heatindexm</th>\n",
              "      <th>_hum</th>\n",
              "      <th>_precipm</th>\n",
              "      <th>_pressurem</th>\n",
              "      <th>_rain</th>\n",
              "      <th>_snow</th>\n",
              "      <th>_tempm</th>\n",
              "      <th>_thunder</th>\n",
              "      <th>_tornado</th>\n",
              "      <th>_vism</th>\n",
              "      <th>_wdird</th>\n",
              "      <th>_wdire</th>\n",
              "      <th>_wgustm</th>\n",
              "      <th>_windchillm</th>\n",
              "      <th>_wspdm</th>\n",
              "      <th>year</th>\n",
              "      <th>month</th>\n",
              "      <th>day</th>\n",
              "      <th>hour</th>\n",
              "    </tr>\n",
              "  </thead>\n",
              "  <tbody>\n",
              "    <tr>\n",
              "      <th>0</th>\n",
              "      <td>19961101-11:00</td>\n",
              "      <td>Smoke</td>\n",
              "      <td>9.0</td>\n",
              "      <td>0</td>\n",
              "      <td>0</td>\n",
              "      <td>NaN</td>\n",
              "      <td>27.0</td>\n",
              "      <td>NaN</td>\n",
              "      <td>1010.0</td>\n",
              "      <td>0</td>\n",
              "      <td>0</td>\n",
              "      <td>30.0</td>\n",
              "      <td>0</td>\n",
              "      <td>0</td>\n",
              "      <td>5.0</td>\n",
              "      <td>280.0</td>\n",
              "      <td>West</td>\n",
              "      <td>NaN</td>\n",
              "      <td>NaN</td>\n",
              "      <td>7.4</td>\n",
              "      <td>1996</td>\n",
              "      <td>11</td>\n",
              "      <td>01</td>\n",
              "      <td>11:00</td>\n",
              "    </tr>\n",
              "    <tr>\n",
              "      <th>1</th>\n",
              "      <td>19961101-12:00</td>\n",
              "      <td>Smoke</td>\n",
              "      <td>10.0</td>\n",
              "      <td>0</td>\n",
              "      <td>0</td>\n",
              "      <td>NaN</td>\n",
              "      <td>32.0</td>\n",
              "      <td>NaN</td>\n",
              "      <td>-9999.0</td>\n",
              "      <td>0</td>\n",
              "      <td>0</td>\n",
              "      <td>28.0</td>\n",
              "      <td>0</td>\n",
              "      <td>0</td>\n",
              "      <td>NaN</td>\n",
              "      <td>0.0</td>\n",
              "      <td>North</td>\n",
              "      <td>NaN</td>\n",
              "      <td>NaN</td>\n",
              "      <td>NaN</td>\n",
              "      <td>1996</td>\n",
              "      <td>11</td>\n",
              "      <td>01</td>\n",
              "      <td>12:00</td>\n",
              "    </tr>\n",
              "    <tr>\n",
              "      <th>2</th>\n",
              "      <td>19961101-13:00</td>\n",
              "      <td>Smoke</td>\n",
              "      <td>11.0</td>\n",
              "      <td>0</td>\n",
              "      <td>0</td>\n",
              "      <td>NaN</td>\n",
              "      <td>44.0</td>\n",
              "      <td>NaN</td>\n",
              "      <td>-9999.0</td>\n",
              "      <td>0</td>\n",
              "      <td>0</td>\n",
              "      <td>24.0</td>\n",
              "      <td>0</td>\n",
              "      <td>0</td>\n",
              "      <td>NaN</td>\n",
              "      <td>0.0</td>\n",
              "      <td>North</td>\n",
              "      <td>NaN</td>\n",
              "      <td>NaN</td>\n",
              "      <td>NaN</td>\n",
              "      <td>1996</td>\n",
              "      <td>11</td>\n",
              "      <td>01</td>\n",
              "      <td>13:00</td>\n",
              "    </tr>\n",
              "    <tr>\n",
              "      <th>3</th>\n",
              "      <td>19961101-14:00</td>\n",
              "      <td>Smoke</td>\n",
              "      <td>10.0</td>\n",
              "      <td>0</td>\n",
              "      <td>0</td>\n",
              "      <td>NaN</td>\n",
              "      <td>41.0</td>\n",
              "      <td>NaN</td>\n",
              "      <td>1010.0</td>\n",
              "      <td>0</td>\n",
              "      <td>0</td>\n",
              "      <td>24.0</td>\n",
              "      <td>0</td>\n",
              "      <td>0</td>\n",
              "      <td>2.0</td>\n",
              "      <td>0.0</td>\n",
              "      <td>North</td>\n",
              "      <td>NaN</td>\n",
              "      <td>NaN</td>\n",
              "      <td>NaN</td>\n",
              "      <td>1996</td>\n",
              "      <td>11</td>\n",
              "      <td>01</td>\n",
              "      <td>14:00</td>\n",
              "    </tr>\n",
              "    <tr>\n",
              "      <th>4</th>\n",
              "      <td>19961101-16:00</td>\n",
              "      <td>Smoke</td>\n",
              "      <td>11.0</td>\n",
              "      <td>0</td>\n",
              "      <td>0</td>\n",
              "      <td>NaN</td>\n",
              "      <td>47.0</td>\n",
              "      <td>NaN</td>\n",
              "      <td>1011.0</td>\n",
              "      <td>0</td>\n",
              "      <td>0</td>\n",
              "      <td>23.0</td>\n",
              "      <td>0</td>\n",
              "      <td>0</td>\n",
              "      <td>1.2</td>\n",
              "      <td>0.0</td>\n",
              "      <td>North</td>\n",
              "      <td>NaN</td>\n",
              "      <td>NaN</td>\n",
              "      <td>0.0</td>\n",
              "      <td>1996</td>\n",
              "      <td>11</td>\n",
              "      <td>01</td>\n",
              "      <td>16:00</td>\n",
              "    </tr>\n",
              "  </tbody>\n",
              "</table>\n",
              "</div>"
            ],
            "text/plain": [
              "     datetime_utc _conds  _dewptm  _fog  _hail  ...  _wspdm  year  month  day   hour\n",
              "0  19961101-11:00  Smoke      9.0     0      0  ...     7.4  1996     11   01  11:00\n",
              "1  19961101-12:00  Smoke     10.0     0      0  ...     NaN  1996     11   01  12:00\n",
              "2  19961101-13:00  Smoke     11.0     0      0  ...     NaN  1996     11   01  13:00\n",
              "3  19961101-14:00  Smoke     10.0     0      0  ...     NaN  1996     11   01  14:00\n",
              "4  19961101-16:00  Smoke     11.0     0      0  ...     0.0  1996     11   01  16:00\n",
              "\n",
              "[5 rows x 24 columns]"
            ]
          },
          "metadata": {
            "tags": []
          },
          "execution_count": 49
        }
      ]
    },
    {
      "cell_type": "code",
      "metadata": {
        "colab": {
          "base_uri": "https://localhost:8080/"
        },
        "id": "3OEfN7_Ri4oT",
        "outputId": "4a0d2517-3e10-4e04-9163-a15e397b483d"
      },
      "source": [
        "# lets check out data range\n",
        "print(\"max, min: \", df.year.max(), \",\", df.year.min())"
      ],
      "execution_count": null,
      "outputs": [
        {
          "output_type": "stream",
          "text": [
            "max, min:  2017 , 1996\n"
          ],
          "name": "stdout"
        }
      ]
    },
    {
      "cell_type": "code",
      "metadata": {
        "colab": {
          "base_uri": "https://localhost:8080/"
        },
        "id": "l5p4UHikjA05",
        "outputId": "a071ae80-b00e-438e-a7c4-49045b969a2b"
      },
      "source": [
        "# Number of records for paticular year\n",
        "df.year.value_counts()"
      ],
      "execution_count": null,
      "outputs": [
        {
          "output_type": "execute_result",
          "data": {
            "text/plain": [
              "2003    13186\n",
              "2004     9151\n",
              "2002     8503\n",
              "2001     8403\n",
              "2016     6634\n",
              "1997     6513\n",
              "1999     6300\n",
              "2000     5391\n",
              "1998     3579\n",
              "2014     2973\n",
              "2015     2936\n",
              "2005     2920\n",
              "2007     2865\n",
              "2006     2858\n",
              "2008     2857\n",
              "2009     2851\n",
              "2010     2768\n",
              "2011     2738\n",
              "2012     2438\n",
              "2013     2428\n",
              "2017     1420\n",
              "1996     1278\n",
              "Name: year, dtype: int64"
            ]
          },
          "metadata": {
            "tags": []
          },
          "execution_count": 51
        }
      ]
    },
    {
      "cell_type": "code",
      "metadata": {
        "colab": {
          "base_uri": "https://localhost:8080/"
        },
        "id": "q0z9y87cjECm",
        "outputId": "84f3a089-689d-431b-f0d7-e6eb1fe6e403"
      },
      "source": [
        "df.groupby(\"year\")._tempm.mean()"
      ],
      "execution_count": null,
      "outputs": [
        {
          "output_type": "execute_result",
          "data": {
            "text/plain": [
              "year\n",
              "1996    16.518636\n",
              "1997    24.444635\n",
              "1998    24.847371\n",
              "1999    27.335731\n",
              "2000    23.865647\n",
              "2001    25.582460\n",
              "2002    26.481948\n",
              "2003    26.176556\n",
              "2004    26.004396\n",
              "2005    24.712715\n",
              "2006    25.449245\n",
              "2007    24.800211\n",
              "2008    24.525744\n",
              "2009    25.355360\n",
              "2010    25.553338\n",
              "2011    24.966362\n",
              "2012    25.024661\n",
              "2013    24.679222\n",
              "2014    25.175735\n",
              "2015    25.141832\n",
              "2016    27.315734\n",
              "2017    20.204369\n",
              "Name: _tempm, dtype: float64"
            ]
          },
          "metadata": {
            "tags": []
          },
          "execution_count": 52
        }
      ]
    },
    {
      "cell_type": "code",
      "metadata": {
        "colab": {
          "base_uri": "https://localhost:8080/",
          "height": 713
        },
        "id": "wVFIMTkYjMDc",
        "outputId": "b80534d0-5040-4422-e21f-617c28e973f6"
      },
      "source": [
        "df_mean = df.groupby(\"year\")._tempm.mean().reset_index().sort_values('_tempm', ascending=True)\n",
        "df_mean                         #sort the mean values of temp with ascending order\n"
      ],
      "execution_count": null,
      "outputs": [
        {
          "output_type": "execute_result",
          "data": {
            "text/html": [
              "<div>\n",
              "<style scoped>\n",
              "    .dataframe tbody tr th:only-of-type {\n",
              "        vertical-align: middle;\n",
              "    }\n",
              "\n",
              "    .dataframe tbody tr th {\n",
              "        vertical-align: top;\n",
              "    }\n",
              "\n",
              "    .dataframe thead th {\n",
              "        text-align: right;\n",
              "    }\n",
              "</style>\n",
              "<table border=\"1\" class=\"dataframe\">\n",
              "  <thead>\n",
              "    <tr style=\"text-align: right;\">\n",
              "      <th></th>\n",
              "      <th>year</th>\n",
              "      <th>_tempm</th>\n",
              "    </tr>\n",
              "  </thead>\n",
              "  <tbody>\n",
              "    <tr>\n",
              "      <th>0</th>\n",
              "      <td>1996</td>\n",
              "      <td>16.518636</td>\n",
              "    </tr>\n",
              "    <tr>\n",
              "      <th>21</th>\n",
              "      <td>2017</td>\n",
              "      <td>20.204369</td>\n",
              "    </tr>\n",
              "    <tr>\n",
              "      <th>4</th>\n",
              "      <td>2000</td>\n",
              "      <td>23.865647</td>\n",
              "    </tr>\n",
              "    <tr>\n",
              "      <th>1</th>\n",
              "      <td>1997</td>\n",
              "      <td>24.444635</td>\n",
              "    </tr>\n",
              "    <tr>\n",
              "      <th>12</th>\n",
              "      <td>2008</td>\n",
              "      <td>24.525744</td>\n",
              "    </tr>\n",
              "    <tr>\n",
              "      <th>17</th>\n",
              "      <td>2013</td>\n",
              "      <td>24.679222</td>\n",
              "    </tr>\n",
              "    <tr>\n",
              "      <th>9</th>\n",
              "      <td>2005</td>\n",
              "      <td>24.712715</td>\n",
              "    </tr>\n",
              "    <tr>\n",
              "      <th>11</th>\n",
              "      <td>2007</td>\n",
              "      <td>24.800211</td>\n",
              "    </tr>\n",
              "    <tr>\n",
              "      <th>2</th>\n",
              "      <td>1998</td>\n",
              "      <td>24.847371</td>\n",
              "    </tr>\n",
              "    <tr>\n",
              "      <th>15</th>\n",
              "      <td>2011</td>\n",
              "      <td>24.966362</td>\n",
              "    </tr>\n",
              "    <tr>\n",
              "      <th>16</th>\n",
              "      <td>2012</td>\n",
              "      <td>25.024661</td>\n",
              "    </tr>\n",
              "    <tr>\n",
              "      <th>19</th>\n",
              "      <td>2015</td>\n",
              "      <td>25.141832</td>\n",
              "    </tr>\n",
              "    <tr>\n",
              "      <th>18</th>\n",
              "      <td>2014</td>\n",
              "      <td>25.175735</td>\n",
              "    </tr>\n",
              "    <tr>\n",
              "      <th>13</th>\n",
              "      <td>2009</td>\n",
              "      <td>25.355360</td>\n",
              "    </tr>\n",
              "    <tr>\n",
              "      <th>10</th>\n",
              "      <td>2006</td>\n",
              "      <td>25.449245</td>\n",
              "    </tr>\n",
              "    <tr>\n",
              "      <th>14</th>\n",
              "      <td>2010</td>\n",
              "      <td>25.553338</td>\n",
              "    </tr>\n",
              "    <tr>\n",
              "      <th>5</th>\n",
              "      <td>2001</td>\n",
              "      <td>25.582460</td>\n",
              "    </tr>\n",
              "    <tr>\n",
              "      <th>8</th>\n",
              "      <td>2004</td>\n",
              "      <td>26.004396</td>\n",
              "    </tr>\n",
              "    <tr>\n",
              "      <th>7</th>\n",
              "      <td>2003</td>\n",
              "      <td>26.176556</td>\n",
              "    </tr>\n",
              "    <tr>\n",
              "      <th>6</th>\n",
              "      <td>2002</td>\n",
              "      <td>26.481948</td>\n",
              "    </tr>\n",
              "    <tr>\n",
              "      <th>20</th>\n",
              "      <td>2016</td>\n",
              "      <td>27.315734</td>\n",
              "    </tr>\n",
              "    <tr>\n",
              "      <th>3</th>\n",
              "      <td>1999</td>\n",
              "      <td>27.335731</td>\n",
              "    </tr>\n",
              "  </tbody>\n",
              "</table>\n",
              "</div>"
            ],
            "text/plain": [
              "    year     _tempm\n",
              "0   1996  16.518636\n",
              "21  2017  20.204369\n",
              "4   2000  23.865647\n",
              "1   1997  24.444635\n",
              "12  2008  24.525744\n",
              "17  2013  24.679222\n",
              "9   2005  24.712715\n",
              "11  2007  24.800211\n",
              "2   1998  24.847371\n",
              "15  2011  24.966362\n",
              "16  2012  25.024661\n",
              "19  2015  25.141832\n",
              "18  2014  25.175735\n",
              "13  2009  25.355360\n",
              "10  2006  25.449245\n",
              "14  2010  25.553338\n",
              "5   2001  25.582460\n",
              "8   2004  26.004396\n",
              "7   2003  26.176556\n",
              "6   2002  26.481948\n",
              "20  2016  27.315734\n",
              "3   1999  27.335731"
            ]
          },
          "metadata": {
            "tags": []
          },
          "execution_count": 53
        }
      ]
    },
    {
      "cell_type": "code",
      "metadata": {
        "colab": {
          "base_uri": "https://localhost:8080/",
          "height": 392
        },
        "id": "Tbf1s1UWjVKB",
        "outputId": "68650b4f-d312-4037-e770-64ee5c79618d"
      },
      "source": [
        "plt.figure(figsize=(15, 6))\n",
        "plt.plot(df.groupby(\"year\")._tempm.mean(), linewidth=2)\n",
        "plt.grid()\n",
        "plt.title(\"Time Series (years vs Avg.temp)\")     #Time series \n",
        "plt.show()"
      ],
      "execution_count": null,
      "outputs": [
        {
          "output_type": "display_data",
          "data": {
            "image/png": "[encoded data removed]",
            "text/plain": [
              "<Figure size 1080x432 with 1 Axes>"
            ]
          },
          "metadata": {
            "tags": []
          }
        }
      ]
    },
    {
      "cell_type": "code",
      "metadata": {
        "colab": {
          "base_uri": "https://localhost:8080/"
        },
        "id": "TiZ50Mswjbmj",
        "outputId": "d9ec85f0-41ea-41b9-bb2a-d06b5fcdab0a"
      },
      "source": [
        "df_mean.dtypes"
      ],
      "execution_count": null,
      "outputs": [
        {
          "output_type": "execute_result",
          "data": {
            "text/plain": [
              "year       object\n",
              "_tempm    float64\n",
              "dtype: object"
            ]
          },
          "metadata": {
            "tags": []
          },
          "execution_count": 55
        }
      ]
    },
    {
      "cell_type": "code",
      "metadata": {
        "id": "QDB4HaEYjf5o"
      },
      "source": [
        "df_mean.year = df_mean.year.astype(\"float\")"
      ],
      "execution_count": null,
      "outputs": []
    },
    {
      "cell_type": "code",
      "metadata": {
        "colab": {
          "base_uri": "https://localhost:8080/"
        },
        "id": "xNNeaUW_jj2A",
        "outputId": "509723b5-07c3-4ab4-be37-22b90fca149f"
      },
      "source": [
        "df_mean.dtypes"
      ],
      "execution_count": null,
      "outputs": [
        {
          "output_type": "execute_result",
          "data": {
            "text/plain": [
              "year      float64\n",
              "_tempm    float64\n",
              "dtype: object"
            ]
          },
          "metadata": {
            "tags": []
          },
          "execution_count": 57
        }
      ]
    },
    {
      "cell_type": "code",
      "metadata": {
        "colab": {
          "base_uri": "https://localhost:8080/",
          "height": 663
        },
        "id": "fLDN2xTujtvC",
        "outputId": "8556b87f-b79c-435e-9123-baa77f596700"
      },
      "source": [
        "df_mean.plot(kind=\"scatter\", x=\"year\", y=\"_tempm\", figsize=(15, 10))\n",
        "#plot btw average temp yearwise\n",
        "plt.xticks(df_mean.year);\n",
        "plt.title(\"Average temprature change\");\n",
        "plt.plot();"
      ],
      "execution_count": null,
      "outputs": [
        {
          "output_type": "stream",
          "text": [
            "*c* argument looks like a single numeric RGB or RGBA sequence, which should be avoided as value-mapping will have precedence in case its length matches with *x* & *y*.  Please use the *color* keyword-argument or provide a 2-D array with a single row if you intend to specify the same RGB or RGBA value for all points.\n"
          ],
          "name": "stderr"
        },
        {
          "output_type": "display_data",
          "data": {
            "image/png": "[encoded data removed]",
            "text/plain": [
              "<Figure size 1080x720 with 1 Axes>"
            ]
          },
          "metadata": {
            "tags": []
          }
        }
      ]
    },
    {
      "cell_type": "code",
      "metadata": {
        "colab": {
          "base_uri": "https://localhost:8080/"
        },
        "id": "4_apQ5X-jyX_",
        "outputId": "7e11c3cf-0698-434f-d5f2-f306d5f8242f"
      },
      "source": [
        "df.isnull().sum()"
      ],
      "execution_count": null,
      "outputs": [
        {
          "output_type": "execute_result",
          "data": {
            "text/plain": [
              "datetime_utc         0\n",
              "_conds              72\n",
              "_dewptm            621\n",
              "_fog                 0\n",
              "_hail                0\n",
              "_heatindexm      71835\n",
              "_hum               757\n",
              "_precipm        100990\n",
              "_pressurem         232\n",
              "_rain                0\n",
              "_snow                0\n",
              "_tempm             673\n",
              "_thunder             0\n",
              "_tornado             0\n",
              "_vism             4428\n",
              "_wdird           14755\n",
              "_wdire           14755\n",
              "_wgustm          99918\n",
              "_windchillm     100411\n",
              "_wspdm            2358\n",
              "year                 0\n",
              "month                0\n",
              "day                  0\n",
              "hour                 0\n",
              "dtype: int64"
            ]
          },
          "metadata": {
            "tags": []
          },
          "execution_count": 59
        }
      ]
    },
    {
      "cell_type": "code",
      "metadata": {
        "colab": {
          "base_uri": "https://localhost:8080/"
        },
        "id": "RVbs_d0aj3mY",
        "outputId": "2ad1cc3d-bc2d-4750-c741-16a7c7b94fff"
      },
      "source": [
        "df.columns"
      ],
      "execution_count": null,
      "outputs": [
        {
          "output_type": "execute_result",
          "data": {
            "text/plain": [
              "Index(['datetime_utc', '_conds', '_dewptm', '_fog', '_hail', '_heatindexm',\n",
              "       '_hum', '_precipm', '_pressurem', '_rain', '_snow', '_tempm',\n",
              "       '_thunder', '_tornado', '_vism', '_wdird', '_wdire', '_wgustm',\n",
              "       '_windchillm', '_wspdm', 'year', 'month', 'day', 'hour'],\n",
              "      dtype='object')"
            ]
          },
          "metadata": {
            "tags": []
          },
          "execution_count": 60
        }
      ]
    },
    {
      "cell_type": "code",
      "metadata": {
        "id": "GaZ1VDE1j8dY"
      },
      "source": [
        "df_filtered = df[['datetime_utc', '_conds', '_dewptm', '_fog', '_hail', # \n",
        "       '_hum', '_pressurem', '_rain', '_snow', '_tempm',\n",
        "       '_thunder', '_tornado', '_vism', '_wdird', '_wdire'\n",
        "       , '_wspdm', 'year', \"month\",'day', 'hour']]"
      ],
      "execution_count": null,
      "outputs": []
    },
    {
      "cell_type": "code",
      "metadata": {
        "colab": {
          "base_uri": "https://localhost:8080/",
          "height": 408
        },
        "id": "JimW5p7HkAD_",
        "outputId": "fd75b7d0-2136-467c-c61f-cdefcc9de74d"
      },
      "source": [
        "# Lets replace missing values in _dewptm. We can take an avrgae of that year\n",
        "df_filtered[df_filtered._dewptm.isnull()]"
      ],
      "execution_count": null,
      "outputs": [
        {
          "output_type": "execute_result",
          "data": {
            "text/html": [
              "<div>\n",
              "<style scoped>\n",
              "    .dataframe tbody tr th:only-of-type {\n",
              "        vertical-align: middle;\n",
              "    }\n",
              "\n",
              "    .dataframe tbody tr th {\n",
              "        vertical-align: top;\n",
              "    }\n",
              "\n",
              "    .dataframe thead th {\n",
              "        text-align: right;\n",
              "    }\n",
              "</style>\n",
              "<table border=\"1\" class=\"dataframe\">\n",
              "  <thead>\n",
              "    <tr style=\"text-align: right;\">\n",
              "      <th></th>\n",
              "      <th>datetime_utc</th>\n",
              "      <th>_conds</th>\n",
              "      <th>_dewptm</th>\n",
              "      <th>_fog</th>\n",
              "      <th>_hail</th>\n",
              "      <th>_hum</th>\n",
              "      <th>_pressurem</th>\n",
              "      <th>_rain</th>\n",
              "      <th>_snow</th>\n",
              "      <th>_tempm</th>\n",
              "      <th>_thunder</th>\n",
              "      <th>_tornado</th>\n",
              "      <th>_vism</th>\n",
              "      <th>_wdird</th>\n",
              "      <th>_wdire</th>\n",
              "      <th>_wspdm</th>\n",
              "      <th>year</th>\n",
              "      <th>month</th>\n",
              "      <th>day</th>\n",
              "      <th>hour</th>\n",
              "    </tr>\n",
              "  </thead>\n",
              "  <tbody>\n",
              "    <tr>\n",
              "      <th>124</th>\n",
              "      <td>19961108-01:00</td>\n",
              "      <td>Smoke</td>\n",
              "      <td>NaN</td>\n",
              "      <td>0</td>\n",
              "      <td>0</td>\n",
              "      <td>NaN</td>\n",
              "      <td>1014.0</td>\n",
              "      <td>0</td>\n",
              "      <td>0</td>\n",
              "      <td>NaN</td>\n",
              "      <td>0</td>\n",
              "      <td>0</td>\n",
              "      <td>2.0</td>\n",
              "      <td>0.0</td>\n",
              "      <td>North</td>\n",
              "      <td>0.0</td>\n",
              "      <td>1996</td>\n",
              "      <td>11</td>\n",
              "      <td>08</td>\n",
              "      <td>01:00</td>\n",
              "    </tr>\n",
              "    <tr>\n",
              "      <th>240</th>\n",
              "      <td>19961113-02:00</td>\n",
              "      <td>Smoke</td>\n",
              "      <td>NaN</td>\n",
              "      <td>0</td>\n",
              "      <td>0</td>\n",
              "      <td>NaN</td>\n",
              "      <td>1012.0</td>\n",
              "      <td>0</td>\n",
              "      <td>0</td>\n",
              "      <td>NaN</td>\n",
              "      <td>0</td>\n",
              "      <td>0</td>\n",
              "      <td>NaN</td>\n",
              "      <td>280.0</td>\n",
              "      <td>West</td>\n",
              "      <td>5.6</td>\n",
              "      <td>1996</td>\n",
              "      <td>11</td>\n",
              "      <td>13</td>\n",
              "      <td>02:00</td>\n",
              "    </tr>\n",
              "    <tr>\n",
              "      <th>303</th>\n",
              "      <td>19961116-06:00</td>\n",
              "      <td>Unknown</td>\n",
              "      <td>NaN</td>\n",
              "      <td>0</td>\n",
              "      <td>0</td>\n",
              "      <td>NaN</td>\n",
              "      <td>-9999.0</td>\n",
              "      <td>0</td>\n",
              "      <td>0</td>\n",
              "      <td>NaN</td>\n",
              "      <td>0</td>\n",
              "      <td>0</td>\n",
              "      <td>NaN</td>\n",
              "      <td>0.0</td>\n",
              "      <td>North</td>\n",
              "      <td>NaN</td>\n",
              "      <td>1996</td>\n",
              "      <td>11</td>\n",
              "      <td>16</td>\n",
              "      <td>06:00</td>\n",
              "    </tr>\n",
              "    <tr>\n",
              "      <th>520</th>\n",
              "      <td>19961126-04:00</td>\n",
              "      <td>Smoke</td>\n",
              "      <td>NaN</td>\n",
              "      <td>0</td>\n",
              "      <td>0</td>\n",
              "      <td>NaN</td>\n",
              "      <td>1017.0</td>\n",
              "      <td>0</td>\n",
              "      <td>0</td>\n",
              "      <td>NaN</td>\n",
              "      <td>0</td>\n",
              "      <td>0</td>\n",
              "      <td>1.6</td>\n",
              "      <td>0.0</td>\n",
              "      <td>North</td>\n",
              "      <td>0.0</td>\n",
              "      <td>1996</td>\n",
              "      <td>11</td>\n",
              "      <td>26</td>\n",
              "      <td>04:00</td>\n",
              "    </tr>\n",
              "    <tr>\n",
              "      <th>584</th>\n",
              "      <td>19961129-18:00</td>\n",
              "      <td>Smoke</td>\n",
              "      <td>NaN</td>\n",
              "      <td>0</td>\n",
              "      <td>0</td>\n",
              "      <td>NaN</td>\n",
              "      <td>-9999.0</td>\n",
              "      <td>0</td>\n",
              "      <td>0</td>\n",
              "      <td>NaN</td>\n",
              "      <td>0</td>\n",
              "      <td>0</td>\n",
              "      <td>0.7</td>\n",
              "      <td>0.0</td>\n",
              "      <td>North</td>\n",
              "      <td>0.0</td>\n",
              "      <td>1996</td>\n",
              "      <td>11</td>\n",
              "      <td>29</td>\n",
              "      <td>18:00</td>\n",
              "    </tr>\n",
              "    <tr>\n",
              "      <th>...</th>\n",
              "      <td>...</td>\n",
              "      <td>...</td>\n",
              "      <td>...</td>\n",
              "      <td>...</td>\n",
              "      <td>...</td>\n",
              "      <td>...</td>\n",
              "      <td>...</td>\n",
              "      <td>...</td>\n",
              "      <td>...</td>\n",
              "      <td>...</td>\n",
              "      <td>...</td>\n",
              "      <td>...</td>\n",
              "      <td>...</td>\n",
              "      <td>...</td>\n",
              "      <td>...</td>\n",
              "      <td>...</td>\n",
              "      <td>...</td>\n",
              "      <td>...</td>\n",
              "      <td>...</td>\n",
              "      <td>...</td>\n",
              "    </tr>\n",
              "    <tr>\n",
              "      <th>96965</th>\n",
              "      <td>20160907-08:30</td>\n",
              "      <td>Haze</td>\n",
              "      <td>NaN</td>\n",
              "      <td>0</td>\n",
              "      <td>0</td>\n",
              "      <td>NaN</td>\n",
              "      <td>1005.0</td>\n",
              "      <td>0</td>\n",
              "      <td>0</td>\n",
              "      <td>NaN</td>\n",
              "      <td>0</td>\n",
              "      <td>0</td>\n",
              "      <td>4.5</td>\n",
              "      <td>320.0</td>\n",
              "      <td>NW</td>\n",
              "      <td>9.3</td>\n",
              "      <td>2016</td>\n",
              "      <td>09</td>\n",
              "      <td>07</td>\n",
              "      <td>08:30</td>\n",
              "    </tr>\n",
              "    <tr>\n",
              "      <th>97259</th>\n",
              "      <td>20160924-12:30</td>\n",
              "      <td>Haze</td>\n",
              "      <td>NaN</td>\n",
              "      <td>0</td>\n",
              "      <td>0</td>\n",
              "      <td>NaN</td>\n",
              "      <td>1002.0</td>\n",
              "      <td>0</td>\n",
              "      <td>0</td>\n",
              "      <td>NaN</td>\n",
              "      <td>0</td>\n",
              "      <td>0</td>\n",
              "      <td>3.0</td>\n",
              "      <td>0.0</td>\n",
              "      <td>North</td>\n",
              "      <td>0.0</td>\n",
              "      <td>2016</td>\n",
              "      <td>09</td>\n",
              "      <td>24</td>\n",
              "      <td>12:30</td>\n",
              "    </tr>\n",
              "    <tr>\n",
              "      <th>98049</th>\n",
              "      <td>20161025-07:30</td>\n",
              "      <td>Widespread Dust</td>\n",
              "      <td>NaN</td>\n",
              "      <td>0</td>\n",
              "      <td>0</td>\n",
              "      <td>NaN</td>\n",
              "      <td>1009.0</td>\n",
              "      <td>0</td>\n",
              "      <td>0</td>\n",
              "      <td>NaN</td>\n",
              "      <td>0</td>\n",
              "      <td>0</td>\n",
              "      <td>3.5</td>\n",
              "      <td>280.0</td>\n",
              "      <td>West</td>\n",
              "      <td>14.8</td>\n",
              "      <td>2016</td>\n",
              "      <td>10</td>\n",
              "      <td>25</td>\n",
              "      <td>07:30</td>\n",
              "    </tr>\n",
              "    <tr>\n",
              "      <th>99347</th>\n",
              "      <td>20161221-05:30</td>\n",
              "      <td>Haze</td>\n",
              "      <td>NaN</td>\n",
              "      <td>0</td>\n",
              "      <td>0</td>\n",
              "      <td>NaN</td>\n",
              "      <td>1018.0</td>\n",
              "      <td>0</td>\n",
              "      <td>0</td>\n",
              "      <td>NaN</td>\n",
              "      <td>0</td>\n",
              "      <td>0</td>\n",
              "      <td>3.0</td>\n",
              "      <td>270.0</td>\n",
              "      <td>West</td>\n",
              "      <td>11.1</td>\n",
              "      <td>2016</td>\n",
              "      <td>12</td>\n",
              "      <td>21</td>\n",
              "      <td>05:30</td>\n",
              "    </tr>\n",
              "    <tr>\n",
              "      <th>99716</th>\n",
              "      <td>20170108-03:00</td>\n",
              "      <td>Patches of Fog</td>\n",
              "      <td>NaN</td>\n",
              "      <td>1</td>\n",
              "      <td>0</td>\n",
              "      <td>NaN</td>\n",
              "      <td>1016.0</td>\n",
              "      <td>0</td>\n",
              "      <td>0</td>\n",
              "      <td>NaN</td>\n",
              "      <td>0</td>\n",
              "      <td>0</td>\n",
              "      <td>0.5</td>\n",
              "      <td>NaN</td>\n",
              "      <td>NaN</td>\n",
              "      <td>0.0</td>\n",
              "      <td>2017</td>\n",
              "      <td>01</td>\n",
              "      <td>08</td>\n",
              "      <td>03:00</td>\n",
              "    </tr>\n",
              "  </tbody>\n",
              "</table>\n",
              "<p>621 rows × 20 columns</p>\n",
              "</div>"
            ],
            "text/plain": [
              "         datetime_utc           _conds  _dewptm  _fog  ...  year  month  day   hour\n",
              "124    19961108-01:00            Smoke      NaN     0  ...  1996     11   08  01:00\n",
              "240    19961113-02:00            Smoke      NaN     0  ...  1996     11   13  02:00\n",
              "303    19961116-06:00          Unknown      NaN     0  ...  1996     11   16  06:00\n",
              "520    19961126-04:00            Smoke      NaN     0  ...  1996     11   26  04:00\n",
              "584    19961129-18:00            Smoke      NaN     0  ...  1996     11   29  18:00\n",
              "...               ...              ...      ...   ...  ...   ...    ...  ...    ...\n",
              "96965  20160907-08:30             Haze      NaN     0  ...  2016     09   07  08:30\n",
              "97259  20160924-12:30             Haze      NaN     0  ...  2016     09   24  12:30\n",
              "98049  20161025-07:30  Widespread Dust      NaN     0  ...  2016     10   25  07:30\n",
              "99347  20161221-05:30             Haze      NaN     0  ...  2016     12   21  05:30\n",
              "99716  20170108-03:00   Patches of Fog      NaN     1  ...  2017     01   08  03:00\n",
              "\n",
              "[621 rows x 20 columns]"
            ]
          },
          "metadata": {
            "tags": []
          },
          "execution_count": 62
        }
      ]
    },
    {
      "cell_type": "code",
      "metadata": {
        "id": "SV52fkWukDgs"
      },
      "source": [
        "# We will try to replace value with average value of that year\n",
        "for index,row in df_filtered[df_filtered._dewptm.isnull()].iterrows():\n",
        "    mean_val = df_filtered[df_filtered[\"year\"] == row[\"year\"]]._dewptm.mean()\n",
        "    df_filtered.at[index, \"_dewptm\"] = mean_val"
      ],
      "execution_count": null,
      "outputs": []
    },
    {
      "cell_type": "code",
      "metadata": {
        "colab": {
          "base_uri": "https://localhost:8080/",
          "height": 408
        },
        "id": "4ZoYsc8mkInr",
        "outputId": "c7636b86-dda2-4266-e12d-a1be2de6227c"
      },
      "source": [
        "df_filtered[df_filtered._dewptm.isnull()] # We replaced null values fof _dewtmp\n",
        "df_filtered"
      ],
      "execution_count": null,
      "outputs": [
        {
          "output_type": "execute_result",
          "data": {
            "text/html": [
              "<div>\n",
              "<style scoped>\n",
              "    .dataframe tbody tr th:only-of-type {\n",
              "        vertical-align: middle;\n",
              "    }\n",
              "\n",
              "    .dataframe tbody tr th {\n",
              "        vertical-align: top;\n",
              "    }\n",
              "\n",
              "    .dataframe thead th {\n",
              "        text-align: right;\n",
              "    }\n",
              "</style>\n",
              "<table border=\"1\" class=\"dataframe\">\n",
              "  <thead>\n",
              "    <tr style=\"text-align: right;\">\n",
              "      <th></th>\n",
              "      <th>datetime_utc</th>\n",
              "      <th>_conds</th>\n",
              "      <th>_dewptm</th>\n",
              "      <th>_fog</th>\n",
              "      <th>_hail</th>\n",
              "      <th>_hum</th>\n",
              "      <th>_pressurem</th>\n",
              "      <th>_rain</th>\n",
              "      <th>_snow</th>\n",
              "      <th>_tempm</th>\n",
              "      <th>_thunder</th>\n",
              "      <th>_tornado</th>\n",
              "      <th>_vism</th>\n",
              "      <th>_wdird</th>\n",
              "      <th>_wdire</th>\n",
              "      <th>_wspdm</th>\n",
              "      <th>year</th>\n",
              "      <th>month</th>\n",
              "      <th>day</th>\n",
              "      <th>hour</th>\n",
              "    </tr>\n",
              "  </thead>\n",
              "  <tbody>\n",
              "    <tr>\n",
              "      <th>0</th>\n",
              "      <td>19961101-11:00</td>\n",
              "      <td>Smoke</td>\n",
              "      <td>9.0</td>\n",
              "      <td>0</td>\n",
              "      <td>0</td>\n",
              "      <td>27.0</td>\n",
              "      <td>1010.0</td>\n",
              "      <td>0</td>\n",
              "      <td>0</td>\n",
              "      <td>30.0</td>\n",
              "      <td>0</td>\n",
              "      <td>0</td>\n",
              "      <td>5.0</td>\n",
              "      <td>280.0</td>\n",
              "      <td>West</td>\n",
              "      <td>7.4</td>\n",
              "      <td>1996</td>\n",
              "      <td>11</td>\n",
              "      <td>01</td>\n",
              "      <td>11:00</td>\n",
              "    </tr>\n",
              "    <tr>\n",
              "      <th>1</th>\n",
              "      <td>19961101-12:00</td>\n",
              "      <td>Smoke</td>\n",
              "      <td>10.0</td>\n",
              "      <td>0</td>\n",
              "      <td>0</td>\n",
              "      <td>32.0</td>\n",
              "      <td>-9999.0</td>\n",
              "      <td>0</td>\n",
              "      <td>0</td>\n",
              "      <td>28.0</td>\n",
              "      <td>0</td>\n",
              "      <td>0</td>\n",
              "      <td>NaN</td>\n",
              "      <td>0.0</td>\n",
              "      <td>North</td>\n",
              "      <td>NaN</td>\n",
              "      <td>1996</td>\n",
              "      <td>11</td>\n",
              "      <td>01</td>\n",
              "      <td>12:00</td>\n",
              "    </tr>\n",
              "    <tr>\n",
              "      <th>2</th>\n",
              "      <td>19961101-13:00</td>\n",
              "      <td>Smoke</td>\n",
              "      <td>11.0</td>\n",
              "      <td>0</td>\n",
              "      <td>0</td>\n",
              "      <td>44.0</td>\n",
              "      <td>-9999.0</td>\n",
              "      <td>0</td>\n",
              "      <td>0</td>\n",
              "      <td>24.0</td>\n",
              "      <td>0</td>\n",
              "      <td>0</td>\n",
              "      <td>NaN</td>\n",
              "      <td>0.0</td>\n",
              "      <td>North</td>\n",
              "      <td>NaN</td>\n",
              "      <td>1996</td>\n",
              "      <td>11</td>\n",
              "      <td>01</td>\n",
              "      <td>13:00</td>\n",
              "    </tr>\n",
              "    <tr>\n",
              "      <th>3</th>\n",
              "      <td>19961101-14:00</td>\n",
              "      <td>Smoke</td>\n",
              "      <td>10.0</td>\n",
              "      <td>0</td>\n",
              "      <td>0</td>\n",
              "      <td>41.0</td>\n",
              "      <td>1010.0</td>\n",
              "      <td>0</td>\n",
              "      <td>0</td>\n",
              "      <td>24.0</td>\n",
              "      <td>0</td>\n",
              "      <td>0</td>\n",
              "      <td>2.0</td>\n",
              "      <td>0.0</td>\n",
              "      <td>North</td>\n",
              "      <td>NaN</td>\n",
              "      <td>1996</td>\n",
              "      <td>11</td>\n",
              "      <td>01</td>\n",
              "      <td>14:00</td>\n",
              "    </tr>\n",
              "    <tr>\n",
              "      <th>4</th>\n",
              "      <td>19961101-16:00</td>\n",
              "      <td>Smoke</td>\n",
              "      <td>11.0</td>\n",
              "      <td>0</td>\n",
              "      <td>0</td>\n",
              "      <td>47.0</td>\n",
              "      <td>1011.0</td>\n",
              "      <td>0</td>\n",
              "      <td>0</td>\n",
              "      <td>23.0</td>\n",
              "      <td>0</td>\n",
              "      <td>0</td>\n",
              "      <td>1.2</td>\n",
              "      <td>0.0</td>\n",
              "      <td>North</td>\n",
              "      <td>0.0</td>\n",
              "      <td>1996</td>\n",
              "      <td>11</td>\n",
              "      <td>01</td>\n",
              "      <td>16:00</td>\n",
              "    </tr>\n",
              "    <tr>\n",
              "      <th>...</th>\n",
              "      <td>...</td>\n",
              "      <td>...</td>\n",
              "      <td>...</td>\n",
              "      <td>...</td>\n",
              "      <td>...</td>\n",
              "      <td>...</td>\n",
              "      <td>...</td>\n",
              "      <td>...</td>\n",
              "      <td>...</td>\n",
              "      <td>...</td>\n",
              "      <td>...</td>\n",
              "      <td>...</td>\n",
              "      <td>...</td>\n",
              "      <td>...</td>\n",
              "      <td>...</td>\n",
              "      <td>...</td>\n",
              "      <td>...</td>\n",
              "      <td>...</td>\n",
              "      <td>...</td>\n",
              "      <td>...</td>\n",
              "    </tr>\n",
              "    <tr>\n",
              "      <th>100985</th>\n",
              "      <td>20170424-06:00</td>\n",
              "      <td>Haze</td>\n",
              "      <td>17.0</td>\n",
              "      <td>0</td>\n",
              "      <td>0</td>\n",
              "      <td>25.0</td>\n",
              "      <td>1005.0</td>\n",
              "      <td>0</td>\n",
              "      <td>0</td>\n",
              "      <td>34.0</td>\n",
              "      <td>0</td>\n",
              "      <td>0</td>\n",
              "      <td>4.0</td>\n",
              "      <td>320.0</td>\n",
              "      <td>NW</td>\n",
              "      <td>11.1</td>\n",
              "      <td>2017</td>\n",
              "      <td>04</td>\n",
              "      <td>24</td>\n",
              "      <td>06:00</td>\n",
              "    </tr>\n",
              "    <tr>\n",
              "      <th>100986</th>\n",
              "      <td>20170424-09:00</td>\n",
              "      <td>Haze</td>\n",
              "      <td>14.0</td>\n",
              "      <td>0</td>\n",
              "      <td>0</td>\n",
              "      <td>16.0</td>\n",
              "      <td>1003.0</td>\n",
              "      <td>0</td>\n",
              "      <td>0</td>\n",
              "      <td>38.0</td>\n",
              "      <td>0</td>\n",
              "      <td>0</td>\n",
              "      <td>4.0</td>\n",
              "      <td>320.0</td>\n",
              "      <td>NW</td>\n",
              "      <td>22.2</td>\n",
              "      <td>2017</td>\n",
              "      <td>04</td>\n",
              "      <td>24</td>\n",
              "      <td>09:00</td>\n",
              "    </tr>\n",
              "    <tr>\n",
              "      <th>100987</th>\n",
              "      <td>20170424-12:00</td>\n",
              "      <td>Haze</td>\n",
              "      <td>12.0</td>\n",
              "      <td>0</td>\n",
              "      <td>0</td>\n",
              "      <td>14.0</td>\n",
              "      <td>1002.0</td>\n",
              "      <td>0</td>\n",
              "      <td>0</td>\n",
              "      <td>36.0</td>\n",
              "      <td>0</td>\n",
              "      <td>0</td>\n",
              "      <td>4.0</td>\n",
              "      <td>270.0</td>\n",
              "      <td>West</td>\n",
              "      <td>18.5</td>\n",
              "      <td>2017</td>\n",
              "      <td>04</td>\n",
              "      <td>24</td>\n",
              "      <td>12:00</td>\n",
              "    </tr>\n",
              "    <tr>\n",
              "      <th>100988</th>\n",
              "      <td>20170424-15:00</td>\n",
              "      <td>Haze</td>\n",
              "      <td>15.0</td>\n",
              "      <td>0</td>\n",
              "      <td>0</td>\n",
              "      <td>27.0</td>\n",
              "      <td>1004.0</td>\n",
              "      <td>0</td>\n",
              "      <td>0</td>\n",
              "      <td>32.0</td>\n",
              "      <td>0</td>\n",
              "      <td>0</td>\n",
              "      <td>2.0</td>\n",
              "      <td>320.0</td>\n",
              "      <td>NW</td>\n",
              "      <td>3.7</td>\n",
              "      <td>2017</td>\n",
              "      <td>04</td>\n",
              "      <td>24</td>\n",
              "      <td>15:00</td>\n",
              "    </tr>\n",
              "    <tr>\n",
              "      <th>100989</th>\n",
              "      <td>20170424-18:00</td>\n",
              "      <td>Haze</td>\n",
              "      <td>15.0</td>\n",
              "      <td>0</td>\n",
              "      <td>0</td>\n",
              "      <td>30.0</td>\n",
              "      <td>1005.0</td>\n",
              "      <td>0</td>\n",
              "      <td>0</td>\n",
              "      <td>30.0</td>\n",
              "      <td>0</td>\n",
              "      <td>0</td>\n",
              "      <td>2.0</td>\n",
              "      <td>320.0</td>\n",
              "      <td>NW</td>\n",
              "      <td>3.7</td>\n",
              "      <td>2017</td>\n",
              "      <td>04</td>\n",
              "      <td>24</td>\n",
              "      <td>18:00</td>\n",
              "    </tr>\n",
              "  </tbody>\n",
              "</table>\n",
              "<p>100990 rows × 20 columns</p>\n",
              "</div>"
            ],
            "text/plain": [
              "          datetime_utc _conds  _dewptm  _fog  ...  year  month  day   hour\n",
              "0       19961101-11:00  Smoke      9.0     0  ...  1996     11   01  11:00\n",
              "1       19961101-12:00  Smoke     10.0     0  ...  1996     11   01  12:00\n",
              "2       19961101-13:00  Smoke     11.0     0  ...  1996     11   01  13:00\n",
              "3       19961101-14:00  Smoke     10.0     0  ...  1996     11   01  14:00\n",
              "4       19961101-16:00  Smoke     11.0     0  ...  1996     11   01  16:00\n",
              "...                ...    ...      ...   ...  ...   ...    ...  ...    ...\n",
              "100985  20170424-06:00   Haze     17.0     0  ...  2017     04   24  06:00\n",
              "100986  20170424-09:00   Haze     14.0     0  ...  2017     04   24  09:00\n",
              "100987  20170424-12:00   Haze     12.0     0  ...  2017     04   24  12:00\n",
              "100988  20170424-15:00   Haze     15.0     0  ...  2017     04   24  15:00\n",
              "100989  20170424-18:00   Haze     15.0     0  ...  2017     04   24  18:00\n",
              "\n",
              "[100990 rows x 20 columns]"
            ]
          },
          "metadata": {
            "tags": []
          },
          "execution_count": 64
        }
      ]
    },
    {
      "cell_type": "code",
      "metadata": {
        "colab": {
          "base_uri": "https://localhost:8080/"
        },
        "id": "74VXzIMfkM1u",
        "outputId": "d68c6501-967b-4246-f2b3-f28b4ae7d3ef"
      },
      "source": [
        "df_filtered.shape"
      ],
      "execution_count": null,
      "outputs": [
        {
          "output_type": "execute_result",
          "data": {
            "text/plain": [
              "(100990, 20)"
            ]
          },
          "metadata": {
            "tags": []
          },
          "execution_count": 65
        }
      ]
    },
    {
      "cell_type": "code",
      "metadata": {
        "colab": {
          "base_uri": "https://localhost:8080/"
        },
        "id": "Uh8T7NwmkT7B",
        "outputId": "4d534517-7bef-4d19-f594-c2187bbfd451"
      },
      "source": [
        "df_filtered.isnull().sum()\n",
        "# so now we have only relevant columns. Lets handle them one by one"
      ],
      "execution_count": null,
      "outputs": [
        {
          "output_type": "execute_result",
          "data": {
            "text/plain": [
              "datetime_utc        0\n",
              "_conds             72\n",
              "_dewptm             0\n",
              "_fog                0\n",
              "_hail               0\n",
              "_hum              757\n",
              "_pressurem        232\n",
              "_rain               0\n",
              "_snow               0\n",
              "_tempm            673\n",
              "_thunder            0\n",
              "_tornado            0\n",
              "_vism            4428\n",
              "_wdird          14755\n",
              "_wdire          14755\n",
              "_wspdm           2358\n",
              "year                0\n",
              "month               0\n",
              "day                 0\n",
              "hour                0\n",
              "dtype: int64"
            ]
          },
          "metadata": {
            "tags": []
          },
          "execution_count": 66
        }
      ]
    },
    {
      "cell_type": "code",
      "metadata": {
        "colab": {
          "base_uri": "https://localhost:8080/",
          "height": 408
        },
        "id": "axPC7j1QkXLd",
        "outputId": "674111dc-3dd2-442a-cd12-96953165acc1"
      },
      "source": [
        "# Handle _hum column.\n",
        "df_filtered[df_filtered._hum.isnull()]"
      ],
      "execution_count": null,
      "outputs": [
        {
          "output_type": "execute_result",
          "data": {
            "text/html": [
              "<div>\n",
              "<style scoped>\n",
              "    .dataframe tbody tr th:only-of-type {\n",
              "        vertical-align: middle;\n",
              "    }\n",
              "\n",
              "    .dataframe tbody tr th {\n",
              "        vertical-align: top;\n",
              "    }\n",
              "\n",
              "    .dataframe thead th {\n",
              "        text-align: right;\n",
              "    }\n",
              "</style>\n",
              "<table border=\"1\" class=\"dataframe\">\n",
              "  <thead>\n",
              "    <tr style=\"text-align: right;\">\n",
              "      <th></th>\n",
              "      <th>datetime_utc</th>\n",
              "      <th>_conds</th>\n",
              "      <th>_dewptm</th>\n",
              "      <th>_fog</th>\n",
              "      <th>_hail</th>\n",
              "      <th>_hum</th>\n",
              "      <th>_pressurem</th>\n",
              "      <th>_rain</th>\n",
              "      <th>_snow</th>\n",
              "      <th>_tempm</th>\n",
              "      <th>_thunder</th>\n",
              "      <th>_tornado</th>\n",
              "      <th>_vism</th>\n",
              "      <th>_wdird</th>\n",
              "      <th>_wdire</th>\n",
              "      <th>_wspdm</th>\n",
              "      <th>year</th>\n",
              "      <th>month</th>\n",
              "      <th>day</th>\n",
              "      <th>hour</th>\n",
              "    </tr>\n",
              "  </thead>\n",
              "  <tbody>\n",
              "    <tr>\n",
              "      <th>124</th>\n",
              "      <td>19961108-01:00</td>\n",
              "      <td>Smoke</td>\n",
              "      <td>5.992851</td>\n",
              "      <td>0</td>\n",
              "      <td>0</td>\n",
              "      <td>NaN</td>\n",
              "      <td>1014.0</td>\n",
              "      <td>0</td>\n",
              "      <td>0</td>\n",
              "      <td>NaN</td>\n",
              "      <td>0</td>\n",
              "      <td>0</td>\n",
              "      <td>2.00</td>\n",
              "      <td>0.0</td>\n",
              "      <td>North</td>\n",
              "      <td>0.0</td>\n",
              "      <td>1996</td>\n",
              "      <td>11</td>\n",
              "      <td>08</td>\n",
              "      <td>01:00</td>\n",
              "    </tr>\n",
              "    <tr>\n",
              "      <th>240</th>\n",
              "      <td>19961113-02:00</td>\n",
              "      <td>Smoke</td>\n",
              "      <td>5.992851</td>\n",
              "      <td>0</td>\n",
              "      <td>0</td>\n",
              "      <td>NaN</td>\n",
              "      <td>1012.0</td>\n",
              "      <td>0</td>\n",
              "      <td>0</td>\n",
              "      <td>NaN</td>\n",
              "      <td>0</td>\n",
              "      <td>0</td>\n",
              "      <td>NaN</td>\n",
              "      <td>280.0</td>\n",
              "      <td>West</td>\n",
              "      <td>5.6</td>\n",
              "      <td>1996</td>\n",
              "      <td>11</td>\n",
              "      <td>13</td>\n",
              "      <td>02:00</td>\n",
              "    </tr>\n",
              "    <tr>\n",
              "      <th>303</th>\n",
              "      <td>19961116-06:00</td>\n",
              "      <td>Unknown</td>\n",
              "      <td>5.992851</td>\n",
              "      <td>0</td>\n",
              "      <td>0</td>\n",
              "      <td>NaN</td>\n",
              "      <td>-9999.0</td>\n",
              "      <td>0</td>\n",
              "      <td>0</td>\n",
              "      <td>NaN</td>\n",
              "      <td>0</td>\n",
              "      <td>0</td>\n",
              "      <td>NaN</td>\n",
              "      <td>0.0</td>\n",
              "      <td>North</td>\n",
              "      <td>NaN</td>\n",
              "      <td>1996</td>\n",
              "      <td>11</td>\n",
              "      <td>16</td>\n",
              "      <td>06:00</td>\n",
              "    </tr>\n",
              "    <tr>\n",
              "      <th>520</th>\n",
              "      <td>19961126-04:00</td>\n",
              "      <td>Smoke</td>\n",
              "      <td>5.992851</td>\n",
              "      <td>0</td>\n",
              "      <td>0</td>\n",
              "      <td>NaN</td>\n",
              "      <td>1017.0</td>\n",
              "      <td>0</td>\n",
              "      <td>0</td>\n",
              "      <td>NaN</td>\n",
              "      <td>0</td>\n",
              "      <td>0</td>\n",
              "      <td>1.60</td>\n",
              "      <td>0.0</td>\n",
              "      <td>North</td>\n",
              "      <td>0.0</td>\n",
              "      <td>1996</td>\n",
              "      <td>11</td>\n",
              "      <td>26</td>\n",
              "      <td>04:00</td>\n",
              "    </tr>\n",
              "    <tr>\n",
              "      <th>584</th>\n",
              "      <td>19961129-18:00</td>\n",
              "      <td>Smoke</td>\n",
              "      <td>5.992851</td>\n",
              "      <td>0</td>\n",
              "      <td>0</td>\n",
              "      <td>NaN</td>\n",
              "      <td>-9999.0</td>\n",
              "      <td>0</td>\n",
              "      <td>0</td>\n",
              "      <td>NaN</td>\n",
              "      <td>0</td>\n",
              "      <td>0</td>\n",
              "      <td>0.70</td>\n",
              "      <td>0.0</td>\n",
              "      <td>North</td>\n",
              "      <td>0.0</td>\n",
              "      <td>1996</td>\n",
              "      <td>11</td>\n",
              "      <td>29</td>\n",
              "      <td>18:00</td>\n",
              "    </tr>\n",
              "    <tr>\n",
              "      <th>...</th>\n",
              "      <td>...</td>\n",
              "      <td>...</td>\n",
              "      <td>...</td>\n",
              "      <td>...</td>\n",
              "      <td>...</td>\n",
              "      <td>...</td>\n",
              "      <td>...</td>\n",
              "      <td>...</td>\n",
              "      <td>...</td>\n",
              "      <td>...</td>\n",
              "      <td>...</td>\n",
              "      <td>...</td>\n",
              "      <td>...</td>\n",
              "      <td>...</td>\n",
              "      <td>...</td>\n",
              "      <td>...</td>\n",
              "      <td>...</td>\n",
              "      <td>...</td>\n",
              "      <td>...</td>\n",
              "      <td>...</td>\n",
              "    </tr>\n",
              "    <tr>\n",
              "      <th>98641</th>\n",
              "      <td>20161117-07:30</td>\n",
              "      <td>Unknown</td>\n",
              "      <td>10.000000</td>\n",
              "      <td>0</td>\n",
              "      <td>0</td>\n",
              "      <td>NaN</td>\n",
              "      <td>1017.0</td>\n",
              "      <td>0</td>\n",
              "      <td>0</td>\n",
              "      <td>NaN</td>\n",
              "      <td>0</td>\n",
              "      <td>0</td>\n",
              "      <td>NaN</td>\n",
              "      <td>0.0</td>\n",
              "      <td>North</td>\n",
              "      <td>NaN</td>\n",
              "      <td>2016</td>\n",
              "      <td>11</td>\n",
              "      <td>17</td>\n",
              "      <td>07:30</td>\n",
              "    </tr>\n",
              "    <tr>\n",
              "      <th>99268</th>\n",
              "      <td>20161217-09:00</td>\n",
              "      <td>Smoke</td>\n",
              "      <td>11.000000</td>\n",
              "      <td>0</td>\n",
              "      <td>0</td>\n",
              "      <td>NaN</td>\n",
              "      <td>1016.0</td>\n",
              "      <td>0</td>\n",
              "      <td>0</td>\n",
              "      <td>NaN</td>\n",
              "      <td>0</td>\n",
              "      <td>0</td>\n",
              "      <td>1.00</td>\n",
              "      <td>20.0</td>\n",
              "      <td>NNE</td>\n",
              "      <td>25.9</td>\n",
              "      <td>2016</td>\n",
              "      <td>12</td>\n",
              "      <td>17</td>\n",
              "      <td>09:00</td>\n",
              "    </tr>\n",
              "    <tr>\n",
              "      <th>99347</th>\n",
              "      <td>20161221-05:30</td>\n",
              "      <td>Haze</td>\n",
              "      <td>18.274320</td>\n",
              "      <td>0</td>\n",
              "      <td>0</td>\n",
              "      <td>NaN</td>\n",
              "      <td>1018.0</td>\n",
              "      <td>0</td>\n",
              "      <td>0</td>\n",
              "      <td>NaN</td>\n",
              "      <td>0</td>\n",
              "      <td>0</td>\n",
              "      <td>3.00</td>\n",
              "      <td>270.0</td>\n",
              "      <td>West</td>\n",
              "      <td>11.1</td>\n",
              "      <td>2016</td>\n",
              "      <td>12</td>\n",
              "      <td>21</td>\n",
              "      <td>05:30</td>\n",
              "    </tr>\n",
              "    <tr>\n",
              "      <th>99567</th>\n",
              "      <td>20161231-15:00</td>\n",
              "      <td>NaN</td>\n",
              "      <td>13.000000</td>\n",
              "      <td>0</td>\n",
              "      <td>0</td>\n",
              "      <td>NaN</td>\n",
              "      <td>1016.0</td>\n",
              "      <td>0</td>\n",
              "      <td>0</td>\n",
              "      <td>NaN</td>\n",
              "      <td>0</td>\n",
              "      <td>0</td>\n",
              "      <td>0.05</td>\n",
              "      <td>10.0</td>\n",
              "      <td>North</td>\n",
              "      <td>59.3</td>\n",
              "      <td>2016</td>\n",
              "      <td>12</td>\n",
              "      <td>31</td>\n",
              "      <td>15:00</td>\n",
              "    </tr>\n",
              "    <tr>\n",
              "      <th>99716</th>\n",
              "      <td>20170108-03:00</td>\n",
              "      <td>Patches of Fog</td>\n",
              "      <td>12.451022</td>\n",
              "      <td>1</td>\n",
              "      <td>0</td>\n",
              "      <td>NaN</td>\n",
              "      <td>1016.0</td>\n",
              "      <td>0</td>\n",
              "      <td>0</td>\n",
              "      <td>NaN</td>\n",
              "      <td>0</td>\n",
              "      <td>0</td>\n",
              "      <td>0.50</td>\n",
              "      <td>NaN</td>\n",
              "      <td>NaN</td>\n",
              "      <td>0.0</td>\n",
              "      <td>2017</td>\n",
              "      <td>01</td>\n",
              "      <td>08</td>\n",
              "      <td>03:00</td>\n",
              "    </tr>\n",
              "  </tbody>\n",
              "</table>\n",
              "<p>757 rows × 20 columns</p>\n",
              "</div>"
            ],
            "text/plain": [
              "         datetime_utc          _conds    _dewptm  _fog  ...  year  month  day   hour\n",
              "124    19961108-01:00           Smoke   5.992851     0  ...  1996     11   08  01:00\n",
              "240    19961113-02:00           Smoke   5.992851     0  ...  1996     11   13  02:00\n",
              "303    19961116-06:00         Unknown   5.992851     0  ...  1996     11   16  06:00\n",
              "520    19961126-04:00           Smoke   5.992851     0  ...  1996     11   26  04:00\n",
              "584    19961129-18:00           Smoke   5.992851     0  ...  1996     11   29  18:00\n",
              "...               ...             ...        ...   ...  ...   ...    ...  ...    ...\n",
              "98641  20161117-07:30         Unknown  10.000000     0  ...  2016     11   17  07:30\n",
              "99268  20161217-09:00           Smoke  11.000000     0  ...  2016     12   17  09:00\n",
              "99347  20161221-05:30            Haze  18.274320     0  ...  2016     12   21  05:30\n",
              "99567  20161231-15:00             NaN  13.000000     0  ...  2016     12   31  15:00\n",
              "99716  20170108-03:00  Patches of Fog  12.451022     1  ...  2017     01   08  03:00\n",
              "\n",
              "[757 rows x 20 columns]"
            ]
          },
          "metadata": {
            "tags": []
          },
          "execution_count": 67
        }
      ]
    },
    {
      "cell_type": "code",
      "metadata": {
        "id": "zzqScffckdBW"
      },
      "source": [
        "# We will use the same logic o replace as we did before.\n",
        "# We will try to replace value with average value of that year\n",
        "for index,row in df_filtered[df_filtered._hum.isnull()].iterrows():\n",
        "    mean_val = df_filtered[df_filtered[\"year\"] == row[\"year\"]]._hum.mean()\n",
        "    df_filtered.at[index, \"_hum\"] = mean_val"
      ],
      "execution_count": null,
      "outputs": []
    },
    {
      "cell_type": "code",
      "metadata": {
        "colab": {
          "base_uri": "https://localhost:8080/",
          "height": 408
        },
        "id": "eZDbqaEpkh9f",
        "outputId": "7ed39454-3704-4b9e-ef72-adf6935c12c1"
      },
      "source": [
        "df_filtered[df_filtered._hum.isnull()] # replaced\n",
        "df_filtered"
      ],
      "execution_count": null,
      "outputs": [
        {
          "output_type": "execute_result",
          "data": {
            "text/html": [
              "<div>\n",
              "<style scoped>\n",
              "    .dataframe tbody tr th:only-of-type {\n",
              "        vertical-align: middle;\n",
              "    }\n",
              "\n",
              "    .dataframe tbody tr th {\n",
              "        vertical-align: top;\n",
              "    }\n",
              "\n",
              "    .dataframe thead th {\n",
              "        text-align: right;\n",
              "    }\n",
              "</style>\n",
              "<table border=\"1\" class=\"dataframe\">\n",
              "  <thead>\n",
              "    <tr style=\"text-align: right;\">\n",
              "      <th></th>\n",
              "      <th>datetime_utc</th>\n",
              "      <th>_conds</th>\n",
              "      <th>_dewptm</th>\n",
              "      <th>_fog</th>\n",
              "      <th>_hail</th>\n",
              "      <th>_hum</th>\n",
              "      <th>_pressurem</th>\n",
              "      <th>_rain</th>\n",
              "      <th>_snow</th>\n",
              "      <th>_tempm</th>\n",
              "      <th>_thunder</th>\n",
              "      <th>_tornado</th>\n",
              "      <th>_vism</th>\n",
              "      <th>_wdird</th>\n",
              "      <th>_wdire</th>\n",
              "      <th>_wspdm</th>\n",
              "      <th>year</th>\n",
              "      <th>month</th>\n",
              "      <th>day</th>\n",
              "      <th>hour</th>\n",
              "    </tr>\n",
              "  </thead>\n",
              "  <tbody>\n",
              "    <tr>\n",
              "      <th>0</th>\n",
              "      <td>19961101-11:00</td>\n",
              "      <td>Smoke</td>\n",
              "      <td>9.0</td>\n",
              "      <td>0</td>\n",
              "      <td>0</td>\n",
              "      <td>27.0</td>\n",
              "      <td>1010.0</td>\n",
              "      <td>0</td>\n",
              "      <td>0</td>\n",
              "      <td>30.0</td>\n",
              "      <td>0</td>\n",
              "      <td>0</td>\n",
              "      <td>5.0</td>\n",
              "      <td>280.0</td>\n",
              "      <td>West</td>\n",
              "      <td>7.4</td>\n",
              "      <td>1996</td>\n",
              "      <td>11</td>\n",
              "      <td>01</td>\n",
              "      <td>11:00</td>\n",
              "    </tr>\n",
              "    <tr>\n",
              "      <th>1</th>\n",
              "      <td>19961101-12:00</td>\n",
              "      <td>Smoke</td>\n",
              "      <td>10.0</td>\n",
              "      <td>0</td>\n",
              "      <td>0</td>\n",
              "      <td>32.0</td>\n",
              "      <td>-9999.0</td>\n",
              "      <td>0</td>\n",
              "      <td>0</td>\n",
              "      <td>28.0</td>\n",
              "      <td>0</td>\n",
              "      <td>0</td>\n",
              "      <td>NaN</td>\n",
              "      <td>0.0</td>\n",
              "      <td>North</td>\n",
              "      <td>NaN</td>\n",
              "      <td>1996</td>\n",
              "      <td>11</td>\n",
              "      <td>01</td>\n",
              "      <td>12:00</td>\n",
              "    </tr>\n",
              "    <tr>\n",
              "      <th>2</th>\n",
              "      <td>19961101-13:00</td>\n",
              "      <td>Smoke</td>\n",
              "      <td>11.0</td>\n",
              "      <td>0</td>\n",
              "      <td>0</td>\n",
              "      <td>44.0</td>\n",
              "      <td>-9999.0</td>\n",
              "      <td>0</td>\n",
              "      <td>0</td>\n",
              "      <td>24.0</td>\n",
              "      <td>0</td>\n",
              "      <td>0</td>\n",
              "      <td>NaN</td>\n",
              "      <td>0.0</td>\n",
              "      <td>North</td>\n",
              "      <td>NaN</td>\n",
              "      <td>1996</td>\n",
              "      <td>11</td>\n",
              "      <td>01</td>\n",
              "      <td>13:00</td>\n",
              "    </tr>\n",
              "    <tr>\n",
              "      <th>3</th>\n",
              "      <td>19961101-14:00</td>\n",
              "      <td>Smoke</td>\n",
              "      <td>10.0</td>\n",
              "      <td>0</td>\n",
              "      <td>0</td>\n",
              "      <td>41.0</td>\n",
              "      <td>1010.0</td>\n",
              "      <td>0</td>\n",
              "      <td>0</td>\n",
              "      <td>24.0</td>\n",
              "      <td>0</td>\n",
              "      <td>0</td>\n",
              "      <td>2.0</td>\n",
              "      <td>0.0</td>\n",
              "      <td>North</td>\n",
              "      <td>NaN</td>\n",
              "      <td>1996</td>\n",
              "      <td>11</td>\n",
              "      <td>01</td>\n",
              "      <td>14:00</td>\n",
              "    </tr>\n",
              "    <tr>\n",
              "      <th>4</th>\n",
              "      <td>19961101-16:00</td>\n",
              "      <td>Smoke</td>\n",
              "      <td>11.0</td>\n",
              "      <td>0</td>\n",
              "      <td>0</td>\n",
              "      <td>47.0</td>\n",
              "      <td>1011.0</td>\n",
              "      <td>0</td>\n",
              "      <td>0</td>\n",
              "      <td>23.0</td>\n",
              "      <td>0</td>\n",
              "      <td>0</td>\n",
              "      <td>1.2</td>\n",
              "      <td>0.0</td>\n",
              "      <td>North</td>\n",
              "      <td>0.0</td>\n",
              "      <td>1996</td>\n",
              "      <td>11</td>\n",
              "      <td>01</td>\n",
              "      <td>16:00</td>\n",
              "    </tr>\n",
              "    <tr>\n",
              "      <th>...</th>\n",
              "      <td>...</td>\n",
              "      <td>...</td>\n",
              "      <td>...</td>\n",
              "      <td>...</td>\n",
              "      <td>...</td>\n",
              "      <td>...</td>\n",
              "      <td>...</td>\n",
              "      <td>...</td>\n",
              "      <td>...</td>\n",
              "      <td>...</td>\n",
              "      <td>...</td>\n",
              "      <td>...</td>\n",
              "      <td>...</td>\n",
              "      <td>...</td>\n",
              "      <td>...</td>\n",
              "      <td>...</td>\n",
              "      <td>...</td>\n",
              "      <td>...</td>\n",
              "      <td>...</td>\n",
              "      <td>...</td>\n",
              "    </tr>\n",
              "    <tr>\n",
              "      <th>100985</th>\n",
              "      <td>20170424-06:00</td>\n",
              "      <td>Haze</td>\n",
              "      <td>17.0</td>\n",
              "      <td>0</td>\n",
              "      <td>0</td>\n",
              "      <td>25.0</td>\n",
              "      <td>1005.0</td>\n",
              "      <td>0</td>\n",
              "      <td>0</td>\n",
              "      <td>34.0</td>\n",
              "      <td>0</td>\n",
              "      <td>0</td>\n",
              "      <td>4.0</td>\n",
              "      <td>320.0</td>\n",
              "      <td>NW</td>\n",
              "      <td>11.1</td>\n",
              "      <td>2017</td>\n",
              "      <td>04</td>\n",
              "      <td>24</td>\n",
              "      <td>06:00</td>\n",
              "    </tr>\n",
              "    <tr>\n",
              "      <th>100986</th>\n",
              "      <td>20170424-09:00</td>\n",
              "      <td>Haze</td>\n",
              "      <td>14.0</td>\n",
              "      <td>0</td>\n",
              "      <td>0</td>\n",
              "      <td>16.0</td>\n",
              "      <td>1003.0</td>\n",
              "      <td>0</td>\n",
              "      <td>0</td>\n",
              "      <td>38.0</td>\n",
              "      <td>0</td>\n",
              "      <td>0</td>\n",
              "      <td>4.0</td>\n",
              "      <td>320.0</td>\n",
              "      <td>NW</td>\n",
              "      <td>22.2</td>\n",
              "      <td>2017</td>\n",
              "      <td>04</td>\n",
              "      <td>24</td>\n",
              "      <td>09:00</td>\n",
              "    </tr>\n",
              "    <tr>\n",
              "      <th>100987</th>\n",
              "      <td>20170424-12:00</td>\n",
              "      <td>Haze</td>\n",
              "      <td>12.0</td>\n",
              "      <td>0</td>\n",
              "      <td>0</td>\n",
              "      <td>14.0</td>\n",
              "      <td>1002.0</td>\n",
              "      <td>0</td>\n",
              "      <td>0</td>\n",
              "      <td>36.0</td>\n",
              "      <td>0</td>\n",
              "      <td>0</td>\n",
              "      <td>4.0</td>\n",
              "      <td>270.0</td>\n",
              "      <td>West</td>\n",
              "      <td>18.5</td>\n",
              "      <td>2017</td>\n",
              "      <td>04</td>\n",
              "      <td>24</td>\n",
              "      <td>12:00</td>\n",
              "    </tr>\n",
              "    <tr>\n",
              "      <th>100988</th>\n",
              "      <td>20170424-15:00</td>\n",
              "      <td>Haze</td>\n",
              "      <td>15.0</td>\n",
              "      <td>0</td>\n",
              "      <td>0</td>\n",
              "      <td>27.0</td>\n",
              "      <td>1004.0</td>\n",
              "      <td>0</td>\n",
              "      <td>0</td>\n",
              "      <td>32.0</td>\n",
              "      <td>0</td>\n",
              "      <td>0</td>\n",
              "      <td>2.0</td>\n",
              "      <td>320.0</td>\n",
              "      <td>NW</td>\n",
              "      <td>3.7</td>\n",
              "      <td>2017</td>\n",
              "      <td>04</td>\n",
              "      <td>24</td>\n",
              "      <td>15:00</td>\n",
              "    </tr>\n",
              "    <tr>\n",
              "      <th>100989</th>\n",
              "      <td>20170424-18:00</td>\n",
              "      <td>Haze</td>\n",
              "      <td>15.0</td>\n",
              "      <td>0</td>\n",
              "      <td>0</td>\n",
              "      <td>30.0</td>\n",
              "      <td>1005.0</td>\n",
              "      <td>0</td>\n",
              "      <td>0</td>\n",
              "      <td>30.0</td>\n",
              "      <td>0</td>\n",
              "      <td>0</td>\n",
              "      <td>2.0</td>\n",
              "      <td>320.0</td>\n",
              "      <td>NW</td>\n",
              "      <td>3.7</td>\n",
              "      <td>2017</td>\n",
              "      <td>04</td>\n",
              "      <td>24</td>\n",
              "      <td>18:00</td>\n",
              "    </tr>\n",
              "  </tbody>\n",
              "</table>\n",
              "<p>100990 rows × 20 columns</p>\n",
              "</div>"
            ],
            "text/plain": [
              "          datetime_utc _conds  _dewptm  _fog  ...  year  month  day   hour\n",
              "0       19961101-11:00  Smoke      9.0     0  ...  1996     11   01  11:00\n",
              "1       19961101-12:00  Smoke     10.0     0  ...  1996     11   01  12:00\n",
              "2       19961101-13:00  Smoke     11.0     0  ...  1996     11   01  13:00\n",
              "3       19961101-14:00  Smoke     10.0     0  ...  1996     11   01  14:00\n",
              "4       19961101-16:00  Smoke     11.0     0  ...  1996     11   01  16:00\n",
              "...                ...    ...      ...   ...  ...   ...    ...  ...    ...\n",
              "100985  20170424-06:00   Haze     17.0     0  ...  2017     04   24  06:00\n",
              "100986  20170424-09:00   Haze     14.0     0  ...  2017     04   24  09:00\n",
              "100987  20170424-12:00   Haze     12.0     0  ...  2017     04   24  12:00\n",
              "100988  20170424-15:00   Haze     15.0     0  ...  2017     04   24  15:00\n",
              "100989  20170424-18:00   Haze     15.0     0  ...  2017     04   24  18:00\n",
              "\n",
              "[100990 rows x 20 columns]"
            ]
          },
          "metadata": {
            "tags": []
          },
          "execution_count": 69
        }
      ]
    },
    {
      "cell_type": "code",
      "metadata": {
        "colab": {
          "base_uri": "https://localhost:8080/"
        },
        "id": "rPm2XeG-kknz",
        "outputId": "cf96bf58-47b4-4d7f-b120-fd806ea306f0"
      },
      "source": [
        "df_filtered.isnull().sum() # Now lets handle _pressurem"
      ],
      "execution_count": null,
      "outputs": [
        {
          "output_type": "execute_result",
          "data": {
            "text/plain": [
              "datetime_utc        0\n",
              "_conds             72\n",
              "_dewptm             0\n",
              "_fog                0\n",
              "_hail               0\n",
              "_hum                0\n",
              "_pressurem        232\n",
              "_rain               0\n",
              "_snow               0\n",
              "_tempm            673\n",
              "_thunder            0\n",
              "_tornado            0\n",
              "_vism            4428\n",
              "_wdird          14755\n",
              "_wdire          14755\n",
              "_wspdm           2358\n",
              "year                0\n",
              "month               0\n",
              "day                 0\n",
              "hour                0\n",
              "dtype: int64"
            ]
          },
          "metadata": {
            "tags": []
          },
          "execution_count": 70
        }
      ]
    },
    {
      "cell_type": "code",
      "metadata": {
        "colab": {
          "base_uri": "https://localhost:8080/",
          "height": 408
        },
        "id": "KNjvfKk_kqfr",
        "outputId": "afc4271b-bab4-4302-c428-0171d917a6c5"
      },
      "source": [
        "df_filtered[df_filtered._pressurem.isnull()]"
      ],
      "execution_count": null,
      "outputs": [
        {
          "output_type": "execute_result",
          "data": {
            "text/html": [
              "<div>\n",
              "<style scoped>\n",
              "    .dataframe tbody tr th:only-of-type {\n",
              "        vertical-align: middle;\n",
              "    }\n",
              "\n",
              "    .dataframe tbody tr th {\n",
              "        vertical-align: top;\n",
              "    }\n",
              "\n",
              "    .dataframe thead th {\n",
              "        text-align: right;\n",
              "    }\n",
              "</style>\n",
              "<table border=\"1\" class=\"dataframe\">\n",
              "  <thead>\n",
              "    <tr style=\"text-align: right;\">\n",
              "      <th></th>\n",
              "      <th>datetime_utc</th>\n",
              "      <th>_conds</th>\n",
              "      <th>_dewptm</th>\n",
              "      <th>_fog</th>\n",
              "      <th>_hail</th>\n",
              "      <th>_hum</th>\n",
              "      <th>_pressurem</th>\n",
              "      <th>_rain</th>\n",
              "      <th>_snow</th>\n",
              "      <th>_tempm</th>\n",
              "      <th>_thunder</th>\n",
              "      <th>_tornado</th>\n",
              "      <th>_vism</th>\n",
              "      <th>_wdird</th>\n",
              "      <th>_wdire</th>\n",
              "      <th>_wspdm</th>\n",
              "      <th>year</th>\n",
              "      <th>month</th>\n",
              "      <th>day</th>\n",
              "      <th>hour</th>\n",
              "    </tr>\n",
              "  </thead>\n",
              "  <tbody>\n",
              "    <tr>\n",
              "      <th>60703</th>\n",
              "      <td>20040625-21:00</td>\n",
              "      <td>Haze</td>\n",
              "      <td>21.0</td>\n",
              "      <td>0</td>\n",
              "      <td>0</td>\n",
              "      <td>62.0</td>\n",
              "      <td>NaN</td>\n",
              "      <td>0</td>\n",
              "      <td>0</td>\n",
              "      <td>26.0</td>\n",
              "      <td>0</td>\n",
              "      <td>0</td>\n",
              "      <td>2.0</td>\n",
              "      <td>NaN</td>\n",
              "      <td>NaN</td>\n",
              "      <td>0.0</td>\n",
              "      <td>2004</td>\n",
              "      <td>06</td>\n",
              "      <td>25</td>\n",
              "      <td>21:00</td>\n",
              "    </tr>\n",
              "    <tr>\n",
              "      <th>60723</th>\n",
              "      <td>20040628-09:00</td>\n",
              "      <td>Haze</td>\n",
              "      <td>20.0</td>\n",
              "      <td>0</td>\n",
              "      <td>0</td>\n",
              "      <td>27.0</td>\n",
              "      <td>NaN</td>\n",
              "      <td>0</td>\n",
              "      <td>0</td>\n",
              "      <td>37.0</td>\n",
              "      <td>0</td>\n",
              "      <td>0</td>\n",
              "      <td>4.0</td>\n",
              "      <td>0.0</td>\n",
              "      <td>North</td>\n",
              "      <td>3.7</td>\n",
              "      <td>2004</td>\n",
              "      <td>06</td>\n",
              "      <td>28</td>\n",
              "      <td>09:00</td>\n",
              "    </tr>\n",
              "    <tr>\n",
              "      <th>60728</th>\n",
              "      <td>20040629-00:00</td>\n",
              "      <td>Haze</td>\n",
              "      <td>21.0</td>\n",
              "      <td>0</td>\n",
              "      <td>0</td>\n",
              "      <td>63.0</td>\n",
              "      <td>NaN</td>\n",
              "      <td>0</td>\n",
              "      <td>0</td>\n",
              "      <td>27.0</td>\n",
              "      <td>0</td>\n",
              "      <td>0</td>\n",
              "      <td>2.0</td>\n",
              "      <td>NaN</td>\n",
              "      <td>NaN</td>\n",
              "      <td>0.0</td>\n",
              "      <td>2004</td>\n",
              "      <td>06</td>\n",
              "      <td>29</td>\n",
              "      <td>00:00</td>\n",
              "    </tr>\n",
              "    <tr>\n",
              "      <th>60921</th>\n",
              "      <td>20040723-09:00</td>\n",
              "      <td>Haze</td>\n",
              "      <td>24.0</td>\n",
              "      <td>0</td>\n",
              "      <td>0</td>\n",
              "      <td>37.0</td>\n",
              "      <td>NaN</td>\n",
              "      <td>0</td>\n",
              "      <td>0</td>\n",
              "      <td>37.0</td>\n",
              "      <td>0</td>\n",
              "      <td>0</td>\n",
              "      <td>2.0</td>\n",
              "      <td>NaN</td>\n",
              "      <td>NaN</td>\n",
              "      <td>0.0</td>\n",
              "      <td>2004</td>\n",
              "      <td>07</td>\n",
              "      <td>23</td>\n",
              "      <td>09:00</td>\n",
              "    </tr>\n",
              "    <tr>\n",
              "      <th>61255</th>\n",
              "      <td>20040829-18:00</td>\n",
              "      <td>Haze</td>\n",
              "      <td>27.0</td>\n",
              "      <td>0</td>\n",
              "      <td>0</td>\n",
              "      <td>75.0</td>\n",
              "      <td>NaN</td>\n",
              "      <td>0</td>\n",
              "      <td>0</td>\n",
              "      <td>31.0</td>\n",
              "      <td>0</td>\n",
              "      <td>0</td>\n",
              "      <td>2.0</td>\n",
              "      <td>NaN</td>\n",
              "      <td>NaN</td>\n",
              "      <td>0.0</td>\n",
              "      <td>2004</td>\n",
              "      <td>08</td>\n",
              "      <td>29</td>\n",
              "      <td>18:00</td>\n",
              "    </tr>\n",
              "    <tr>\n",
              "      <th>...</th>\n",
              "      <td>...</td>\n",
              "      <td>...</td>\n",
              "      <td>...</td>\n",
              "      <td>...</td>\n",
              "      <td>...</td>\n",
              "      <td>...</td>\n",
              "      <td>...</td>\n",
              "      <td>...</td>\n",
              "      <td>...</td>\n",
              "      <td>...</td>\n",
              "      <td>...</td>\n",
              "      <td>...</td>\n",
              "      <td>...</td>\n",
              "      <td>...</td>\n",
              "      <td>...</td>\n",
              "      <td>...</td>\n",
              "      <td>...</td>\n",
              "      <td>...</td>\n",
              "      <td>...</td>\n",
              "      <td>...</td>\n",
              "    </tr>\n",
              "    <tr>\n",
              "      <th>96567</th>\n",
              "      <td>20160821-00:00</td>\n",
              "      <td>Mist</td>\n",
              "      <td>25.0</td>\n",
              "      <td>0</td>\n",
              "      <td>0</td>\n",
              "      <td>81.0</td>\n",
              "      <td>NaN</td>\n",
              "      <td>0</td>\n",
              "      <td>0</td>\n",
              "      <td>28.0</td>\n",
              "      <td>0</td>\n",
              "      <td>0</td>\n",
              "      <td>2.0</td>\n",
              "      <td>110.0</td>\n",
              "      <td>ESE</td>\n",
              "      <td>9.3</td>\n",
              "      <td>2016</td>\n",
              "      <td>08</td>\n",
              "      <td>21</td>\n",
              "      <td>00:00</td>\n",
              "    </tr>\n",
              "    <tr>\n",
              "      <th>96907</th>\n",
              "      <td>20160902-18:00</td>\n",
              "      <td>Mist</td>\n",
              "      <td>25.0</td>\n",
              "      <td>0</td>\n",
              "      <td>0</td>\n",
              "      <td>79.0</td>\n",
              "      <td>NaN</td>\n",
              "      <td>0</td>\n",
              "      <td>0</td>\n",
              "      <td>28.0</td>\n",
              "      <td>0</td>\n",
              "      <td>0</td>\n",
              "      <td>2.0</td>\n",
              "      <td>270.0</td>\n",
              "      <td>West</td>\n",
              "      <td>7.4</td>\n",
              "      <td>2016</td>\n",
              "      <td>09</td>\n",
              "      <td>02</td>\n",
              "      <td>18:00</td>\n",
              "    </tr>\n",
              "    <tr>\n",
              "      <th>98402</th>\n",
              "      <td>20161108-06:00</td>\n",
              "      <td>Smoke</td>\n",
              "      <td>14.0</td>\n",
              "      <td>0</td>\n",
              "      <td>0</td>\n",
              "      <td>39.0</td>\n",
              "      <td>NaN</td>\n",
              "      <td>0</td>\n",
              "      <td>0</td>\n",
              "      <td>25.0</td>\n",
              "      <td>0</td>\n",
              "      <td>0</td>\n",
              "      <td>1.0</td>\n",
              "      <td>270.0</td>\n",
              "      <td>West</td>\n",
              "      <td>22.2</td>\n",
              "      <td>2016</td>\n",
              "      <td>11</td>\n",
              "      <td>08</td>\n",
              "      <td>06:00</td>\n",
              "    </tr>\n",
              "    <tr>\n",
              "      <th>98820</th>\n",
              "      <td>20161126-09:00</td>\n",
              "      <td>Haze</td>\n",
              "      <td>8.0</td>\n",
              "      <td>0</td>\n",
              "      <td>0</td>\n",
              "      <td>15.0</td>\n",
              "      <td>NaN</td>\n",
              "      <td>0</td>\n",
              "      <td>0</td>\n",
              "      <td>30.0</td>\n",
              "      <td>0</td>\n",
              "      <td>0</td>\n",
              "      <td>4.0</td>\n",
              "      <td>290.0</td>\n",
              "      <td>WNW</td>\n",
              "      <td>14.8</td>\n",
              "      <td>2016</td>\n",
              "      <td>11</td>\n",
              "      <td>26</td>\n",
              "      <td>09:00</td>\n",
              "    </tr>\n",
              "    <tr>\n",
              "      <th>99069</th>\n",
              "      <td>20161207-12:00</td>\n",
              "      <td>Smoke</td>\n",
              "      <td>16.0</td>\n",
              "      <td>0</td>\n",
              "      <td>0</td>\n",
              "      <td>60.0</td>\n",
              "      <td>NaN</td>\n",
              "      <td>0</td>\n",
              "      <td>0</td>\n",
              "      <td>22.0</td>\n",
              "      <td>0</td>\n",
              "      <td>0</td>\n",
              "      <td>0.5</td>\n",
              "      <td>NaN</td>\n",
              "      <td>NaN</td>\n",
              "      <td>0.0</td>\n",
              "      <td>2016</td>\n",
              "      <td>12</td>\n",
              "      <td>07</td>\n",
              "      <td>12:00</td>\n",
              "    </tr>\n",
              "  </tbody>\n",
              "</table>\n",
              "<p>232 rows × 20 columns</p>\n",
              "</div>"
            ],
            "text/plain": [
              "         datetime_utc _conds  _dewptm  _fog  ...  year  month  day   hour\n",
              "60703  20040625-21:00   Haze     21.0     0  ...  2004     06   25  21:00\n",
              "60723  20040628-09:00   Haze     20.0     0  ...  2004     06   28  09:00\n",
              "60728  20040629-00:00   Haze     21.0     0  ...  2004     06   29  00:00\n",
              "60921  20040723-09:00   Haze     24.0     0  ...  2004     07   23  09:00\n",
              "61255  20040829-18:00   Haze     27.0     0  ...  2004     08   29  18:00\n",
              "...               ...    ...      ...   ...  ...   ...    ...  ...    ...\n",
              "96567  20160821-00:00   Mist     25.0     0  ...  2016     08   21  00:00\n",
              "96907  20160902-18:00   Mist     25.0     0  ...  2016     09   02  18:00\n",
              "98402  20161108-06:00  Smoke     14.0     0  ...  2016     11   08  06:00\n",
              "98820  20161126-09:00   Haze      8.0     0  ...  2016     11   26  09:00\n",
              "99069  20161207-12:00  Smoke     16.0     0  ...  2016     12   07  12:00\n",
              "\n",
              "[232 rows x 20 columns]"
            ]
          },
          "metadata": {
            "tags": []
          },
          "execution_count": 71
        }
      ]
    },
    {
      "cell_type": "code",
      "metadata": {
        "colab": {
          "base_uri": "https://localhost:8080/"
        },
        "id": "d3uRNGeakvO-",
        "outputId": "536e7078-2c96-4556-c661-7dc918d9b4d2"
      },
      "source": [
        "# if you see pressure column, there are few -9999 values. Which is obviously bad values and it can affect your\n",
        "# calculations very badly. So we will consider this also missing values. Lets convert them first to the nan\n",
        "df_filtered._pressurem.replace(-9999.0, np.nan, inplace=True)"
      ],
      "execution_count": null,
      "outputs": [
        {
          "output_type": "stream",
          "text": [
            "/usr/local/lib/python3.7/dist-packages/pandas/core/series.py:4582: SettingWithCopyWarning: \n",
            "A value is trying to be set on a copy of a slice from a DataFrame\n",
            "\n",
            "See the caveats in the documentation: https://pandas.pydata.org/pandas-docs/stable/user_guide/indexing.html#returning-a-view-versus-a-copy\n",
            "  method=method,\n"
          ],
          "name": "stderr"
        }
      ]
    },
    {
      "cell_type": "code",
      "metadata": {
        "colab": {
          "base_uri": "https://localhost:8080/",
          "height": 200
        },
        "id": "LLixvBGVk1f8",
        "outputId": "43bb97b9-45e8-4e26-b991-9f8acf1f62e5"
      },
      "source": [
        "df_filtered.head() # so now -9999.0 is Nan.Lets again get the number of missing values in _pressurem"
      ],
      "execution_count": null,
      "outputs": [
        {
          "output_type": "execute_result",
          "data": {
            "text/html": [
              "<div>\n",
              "<style scoped>\n",
              "    .dataframe tbody tr th:only-of-type {\n",
              "        vertical-align: middle;\n",
              "    }\n",
              "\n",
              "    .dataframe tbody tr th {\n",
              "        vertical-align: top;\n",
              "    }\n",
              "\n",
              "    .dataframe thead th {\n",
              "        text-align: right;\n",
              "    }\n",
              "</style>\n",
              "<table border=\"1\" class=\"dataframe\">\n",
              "  <thead>\n",
              "    <tr style=\"text-align: right;\">\n",
              "      <th></th>\n",
              "      <th>datetime_utc</th>\n",
              "      <th>_conds</th>\n",
              "      <th>_dewptm</th>\n",
              "      <th>_fog</th>\n",
              "      <th>_hail</th>\n",
              "      <th>_hum</th>\n",
              "      <th>_pressurem</th>\n",
              "      <th>_rain</th>\n",
              "      <th>_snow</th>\n",
              "      <th>_tempm</th>\n",
              "      <th>_thunder</th>\n",
              "      <th>_tornado</th>\n",
              "      <th>_vism</th>\n",
              "      <th>_wdird</th>\n",
              "      <th>_wdire</th>\n",
              "      <th>_wspdm</th>\n",
              "      <th>year</th>\n",
              "      <th>month</th>\n",
              "      <th>day</th>\n",
              "      <th>hour</th>\n",
              "    </tr>\n",
              "  </thead>\n",
              "  <tbody>\n",
              "    <tr>\n",
              "      <th>0</th>\n",
              "      <td>19961101-11:00</td>\n",
              "      <td>Smoke</td>\n",
              "      <td>9.0</td>\n",
              "      <td>0</td>\n",
              "      <td>0</td>\n",
              "      <td>27.0</td>\n",
              "      <td>1010.0</td>\n",
              "      <td>0</td>\n",
              "      <td>0</td>\n",
              "      <td>30.0</td>\n",
              "      <td>0</td>\n",
              "      <td>0</td>\n",
              "      <td>5.0</td>\n",
              "      <td>280.0</td>\n",
              "      <td>West</td>\n",
              "      <td>7.4</td>\n",
              "      <td>1996</td>\n",
              "      <td>11</td>\n",
              "      <td>01</td>\n",
              "      <td>11:00</td>\n",
              "    </tr>\n",
              "    <tr>\n",
              "      <th>1</th>\n",
              "      <td>19961101-12:00</td>\n",
              "      <td>Smoke</td>\n",
              "      <td>10.0</td>\n",
              "      <td>0</td>\n",
              "      <td>0</td>\n",
              "      <td>32.0</td>\n",
              "      <td>NaN</td>\n",
              "      <td>0</td>\n",
              "      <td>0</td>\n",
              "      <td>28.0</td>\n",
              "      <td>0</td>\n",
              "      <td>0</td>\n",
              "      <td>NaN</td>\n",
              "      <td>0.0</td>\n",
              "      <td>North</td>\n",
              "      <td>NaN</td>\n",
              "      <td>1996</td>\n",
              "      <td>11</td>\n",
              "      <td>01</td>\n",
              "      <td>12:00</td>\n",
              "    </tr>\n",
              "    <tr>\n",
              "      <th>2</th>\n",
              "      <td>19961101-13:00</td>\n",
              "      <td>Smoke</td>\n",
              "      <td>11.0</td>\n",
              "      <td>0</td>\n",
              "      <td>0</td>\n",
              "      <td>44.0</td>\n",
              "      <td>NaN</td>\n",
              "      <td>0</td>\n",
              "      <td>0</td>\n",
              "      <td>24.0</td>\n",
              "      <td>0</td>\n",
              "      <td>0</td>\n",
              "      <td>NaN</td>\n",
              "      <td>0.0</td>\n",
              "      <td>North</td>\n",
              "      <td>NaN</td>\n",
              "      <td>1996</td>\n",
              "      <td>11</td>\n",
              "      <td>01</td>\n",
              "      <td>13:00</td>\n",
              "    </tr>\n",
              "    <tr>\n",
              "      <th>3</th>\n",
              "      <td>19961101-14:00</td>\n",
              "      <td>Smoke</td>\n",
              "      <td>10.0</td>\n",
              "      <td>0</td>\n",
              "      <td>0</td>\n",
              "      <td>41.0</td>\n",
              "      <td>1010.0</td>\n",
              "      <td>0</td>\n",
              "      <td>0</td>\n",
              "      <td>24.0</td>\n",
              "      <td>0</td>\n",
              "      <td>0</td>\n",
              "      <td>2.0</td>\n",
              "      <td>0.0</td>\n",
              "      <td>North</td>\n",
              "      <td>NaN</td>\n",
              "      <td>1996</td>\n",
              "      <td>11</td>\n",
              "      <td>01</td>\n",
              "      <td>14:00</td>\n",
              "    </tr>\n",
              "    <tr>\n",
              "      <th>4</th>\n",
              "      <td>19961101-16:00</td>\n",
              "      <td>Smoke</td>\n",
              "      <td>11.0</td>\n",
              "      <td>0</td>\n",
              "      <td>0</td>\n",
              "      <td>47.0</td>\n",
              "      <td>1011.0</td>\n",
              "      <td>0</td>\n",
              "      <td>0</td>\n",
              "      <td>23.0</td>\n",
              "      <td>0</td>\n",
              "      <td>0</td>\n",
              "      <td>1.2</td>\n",
              "      <td>0.0</td>\n",
              "      <td>North</td>\n",
              "      <td>0.0</td>\n",
              "      <td>1996</td>\n",
              "      <td>11</td>\n",
              "      <td>01</td>\n",
              "      <td>16:00</td>\n",
              "    </tr>\n",
              "  </tbody>\n",
              "</table>\n",
              "</div>"
            ],
            "text/plain": [
              "     datetime_utc _conds  _dewptm  _fog  _hail  ...  _wspdm  year  month  day   hour\n",
              "0  19961101-11:00  Smoke      9.0     0      0  ...     7.4  1996     11   01  11:00\n",
              "1  19961101-12:00  Smoke     10.0     0      0  ...     NaN  1996     11   01  12:00\n",
              "2  19961101-13:00  Smoke     11.0     0      0  ...     NaN  1996     11   01  13:00\n",
              "3  19961101-14:00  Smoke     10.0     0      0  ...     NaN  1996     11   01  14:00\n",
              "4  19961101-16:00  Smoke     11.0     0      0  ...     0.0  1996     11   01  16:00\n",
              "\n",
              "[5 rows x 20 columns]"
            ]
          },
          "metadata": {
            "tags": []
          },
          "execution_count": 73
        }
      ]
    },
    {
      "cell_type": "code",
      "metadata": {
        "colab": {
          "base_uri": "https://localhost:8080/"
        },
        "id": "ikjnmPhHk7GG",
        "outputId": "2c5c3ee2-944e-4ed0-9b18-215a640f24dd"
      },
      "source": [
        "df_filtered._pressurem.isnull().sum() # So u can see previsously it was 232 and now its 983. \n",
        "# We need to check the data for this kin of errors.\n",
        "# So we will use the same idea as before We will replace missing values with the mean values of _hum column\n",
        "# for that partcular year."
      ],
      "execution_count": null,
      "outputs": [
        {
          "output_type": "execute_result",
          "data": {
            "text/plain": [
              "983"
            ]
          },
          "metadata": {
            "tags": []
          },
          "execution_count": 74
        }
      ]
    },
    {
      "cell_type": "code",
      "metadata": {
        "id": "3NqRnj9Jk_Yd"
      },
      "source": [
        "for index,row in df_filtered[df_filtered._pressurem.isnull()].iterrows():\n",
        "    mean_val = df_filtered[df_filtered[\"year\"] == row[\"year\"]]._pressurem.mean()\n",
        "    df_filtered.at[index, \"_pressurem\"] = mean_val"
      ],
      "execution_count": null,
      "outputs": []
    },
    {
      "cell_type": "code",
      "metadata": {
        "colab": {
          "base_uri": "https://localhost:8080/"
        },
        "id": "lTRsiV0DlDI4",
        "outputId": "4ed22a7d-9dda-4591-af12-6eefa027f5f4"
      },
      "source": [
        "df_filtered.isnull().sum() # pressurem is also resolved. Lets apply same for other columns. I will make\n",
        "# it quickly. Process will be the same as above."
      ],
      "execution_count": null,
      "outputs": [
        {
          "output_type": "execute_result",
          "data": {
            "text/plain": [
              "datetime_utc        0\n",
              "_conds             72\n",
              "_dewptm             0\n",
              "_fog                0\n",
              "_hail               0\n",
              "_hum                0\n",
              "_pressurem          0\n",
              "_rain               0\n",
              "_snow               0\n",
              "_tempm            673\n",
              "_thunder            0\n",
              "_tornado            0\n",
              "_vism            4428\n",
              "_wdird          14755\n",
              "_wdire          14755\n",
              "_wspdm           2358\n",
              "year                0\n",
              "month               0\n",
              "day                 0\n",
              "hour                0\n",
              "dtype: int64"
            ]
          },
          "metadata": {
            "tags": []
          },
          "execution_count": 76
        }
      ]
    },
    {
      "cell_type": "code",
      "metadata": {
        "id": "xgJ095CDlPCU"
      },
      "source": [
        "for index,row in df_filtered[df_filtered._tempm.isnull()].iterrows():\n",
        "    mean_val = df_filtered[df_filtered[\"year\"] == row[\"year\"]]._tempm.mean()\n",
        "    df_filtered.at[index, \"_tempm\"] = mean_val"
      ],
      "execution_count": null,
      "outputs": []
    },
    {
      "cell_type": "code",
      "metadata": {
        "id": "Ao7eIoaplXHc"
      },
      "source": [
        "for index,row in df_filtered[df_filtered._vism.isnull()].iterrows():\n",
        "    mean_val = df_filtered[df_filtered[\"year\"] == row[\"year\"]]._vism.mean()\n",
        "    df_filtered.at[index, \"_vism\"] = mean_val"
      ],
      "execution_count": null,
      "outputs": []
    },
    {
      "cell_type": "code",
      "metadata": {
        "id": "qF3kIZ57lZlL"
      },
      "source": [
        "for index,row in df_filtered[df_filtered._wdird.isnull()].iterrows():\n",
        "    mean_val = df_filtered[df_filtered[\"year\"] == row[\"year\"]]._wdird.mean()\n",
        "    df_filtered.at[index, \"_wdird\"] = mean_val"
      ],
      "execution_count": null,
      "outputs": []
    },
    {
      "cell_type": "code",
      "metadata": {
        "id": "xR1Y-F7Plfdo"
      },
      "source": [
        "for index,row in df_filtered[df_filtered._wspdm.isnull()].iterrows():\n",
        "    mean_val = df_filtered[df_filtered[\"year\"] == row[\"year\"]]._wspdm.mean()\n",
        "    df_filtered.at[index, \"_wspdm\"] = mean_val"
      ],
      "execution_count": null,
      "outputs": []
    },
    {
      "cell_type": "code",
      "metadata": {
        "id": "dtacUJz3lmwC",
        "colab": {
          "base_uri": "https://localhost:8080/"
        },
        "outputId": "72b35d82-4772-4a86-f11b-6b605832aa34"
      },
      "source": [
        "df_filtered.isnull().sum()"
      ],
      "execution_count": null,
      "outputs": [
        {
          "output_type": "execute_result",
          "data": {
            "text/plain": [
              "datetime_utc        0\n",
              "_conds             72\n",
              "_dewptm             0\n",
              "_fog                0\n",
              "_hail               0\n",
              "_hum                0\n",
              "_pressurem          0\n",
              "_rain               0\n",
              "_snow               0\n",
              "_tempm              0\n",
              "_thunder            0\n",
              "_tornado            0\n",
              "_vism               0\n",
              "_wdird              0\n",
              "_wdire          14755\n",
              "_wspdm              0\n",
              "year                0\n",
              "month               0\n",
              "day                 0\n",
              "hour                0\n",
              "dtype: int64"
            ]
          },
          "metadata": {
            "tags": []
          },
          "execution_count": 81
        }
      ]
    },
    {
      "cell_type": "code",
      "metadata": {
        "id": "wsckKZlflnys"
      },
      "source": [
        "# As we can see _wdire is a categorical feature so we can not apply mean here. We have to get the most frequent\n",
        "# value of _wdire for a year and then replace missing value with the most frequent value.\n",
        "for index,row in df_filtered[df_filtered._wdire.isnull()].iterrows():\n",
        "    most_frequent = df_filtered[df_filtered[\"year\"] == row[\"year\"]]._wdire.value_counts().idxmax()\n",
        "    df_filtered.at[index, \"_wdire\"] = most_frequent"
      ],
      "execution_count": null,
      "outputs": []
    },
    {
      "cell_type": "code",
      "metadata": {
        "id": "1QNNtx5Ulngs",
        "colab": {
          "base_uri": "https://localhost:8080/"
        },
        "outputId": "ada302f8-e3f0-443f-8bc4-fea64af43863"
      },
      "source": [
        "df_filtered.isnull().sum()"
      ],
      "execution_count": null,
      "outputs": [
        {
          "output_type": "execute_result",
          "data": {
            "text/plain": [
              "datetime_utc     0\n",
              "_conds          72\n",
              "_dewptm          0\n",
              "_fog             0\n",
              "_hail            0\n",
              "_hum             0\n",
              "_pressurem       0\n",
              "_rain            0\n",
              "_snow            0\n",
              "_tempm           0\n",
              "_thunder         0\n",
              "_tornado         0\n",
              "_vism            0\n",
              "_wdird           0\n",
              "_wdire           0\n",
              "_wspdm           0\n",
              "year             0\n",
              "month            0\n",
              "day              0\n",
              "hour             0\n",
              "dtype: int64"
            ]
          },
          "metadata": {
            "tags": []
          },
          "execution_count": 83
        }
      ]
    },
    {
      "cell_type": "code",
      "metadata": {
        "id": "lvjE_r2Clxnj"
      },
      "source": [
        "# now we can see,  _conds which is again acategorical feature.\n",
        "# so we will apply again the same strategy as above(_wdire)\n",
        "for index,row in df_filtered[df_filtered._conds.isnull()].iterrows():\n",
        "    most_frequent = df_filtered[df_filtered[\"year\"] == row[\"year\"]]._conds.value_counts().idxmax()\n",
        "    df_filtered.at[index, \"_conds\"] = most_frequent"
      ],
      "execution_count": null,
      "outputs": []
    },
    {
      "cell_type": "code",
      "metadata": {
        "id": "sktXO7B4lyP7",
        "colab": {
          "base_uri": "https://localhost:8080/"
        },
        "outputId": "6a30b838-a5e1-4610-a404-cd21c6f0165e"
      },
      "source": [
        "df_filtered.isnull().sum()"
      ],
      "execution_count": null,
      "outputs": [
        {
          "output_type": "execute_result",
          "data": {
            "text/plain": [
              "datetime_utc    0\n",
              "_conds          0\n",
              "_dewptm         0\n",
              "_fog            0\n",
              "_hail           0\n",
              "_hum            0\n",
              "_pressurem      0\n",
              "_rain           0\n",
              "_snow           0\n",
              "_tempm          0\n",
              "_thunder        0\n",
              "_tornado        0\n",
              "_vism           0\n",
              "_wdird          0\n",
              "_wdire          0\n",
              "_wspdm          0\n",
              "year            0\n",
              "month           0\n",
              "day             0\n",
              "hour            0\n",
              "dtype: int64"
            ]
          },
          "metadata": {
            "tags": []
          },
          "execution_count": 85
        }
      ]
    },
    {
      "cell_type": "code",
      "metadata": {
        "id": "7pDE4JtomWtM",
        "colab": {
          "base_uri": "https://localhost:8080/"
        },
        "outputId": "3bbb7a2f-04dd-42e2-bec3-862bfa641ed9"
      },
      "source": [
        "df_filtered.year = df_filtered.year.astype(\"object\")\n",
        "df_filtered.month = df_filtered.month.astype(\"object\")\n",
        "df_filtered.day = df_filtered.day.astype(\"object\")\n",
        "df_filtered.hour = df_filtered.hour.astype(\"object\")"
      ],
      "execution_count": null,
      "outputs": [
        {
          "output_type": "stream",
          "text": [
            "/usr/local/lib/python3.7/dist-packages/pandas/core/generic.py:5170: SettingWithCopyWarning: \n",
            "A value is trying to be set on a copy of a slice from a DataFrame.\n",
            "Try using .loc[row_indexer,col_indexer] = value instead\n",
            "\n",
            "See the caveats in the documentation: https://pandas.pydata.org/pandas-docs/stable/user_guide/indexing.html#returning-a-view-versus-a-copy\n",
            "  self[name] = value\n"
          ],
          "name": "stderr"
        }
      ]
    },
    {
      "cell_type": "code",
      "metadata": {
        "id": "EhaQRhzvmi-B",
        "colab": {
          "base_uri": "https://localhost:8080/"
        },
        "outputId": "bf4f49f4-9f3a-44ec-e56d-a999c4b18f8c"
      },
      "source": [
        "df_filtered.dtypes\n",
        "#df_filtered['datetime_utc']"
      ],
      "execution_count": null,
      "outputs": [
        {
          "output_type": "execute_result",
          "data": {
            "text/plain": [
              "datetime_utc     object\n",
              "_conds           object\n",
              "_dewptm         float64\n",
              "_fog              int64\n",
              "_hail             int64\n",
              "_hum            float64\n",
              "_pressurem      float64\n",
              "_rain             int64\n",
              "_snow             int64\n",
              "_tempm          float64\n",
              "_thunder          int64\n",
              "_tornado          int64\n",
              "_vism           float64\n",
              "_wdird          float64\n",
              "_wdire           object\n",
              "_wspdm          float64\n",
              "year             object\n",
              "month            object\n",
              "day              object\n",
              "hour             object\n",
              "dtype: object"
            ]
          },
          "metadata": {
            "tags": []
          },
          "execution_count": 87
        }
      ]
    },
    {
      "cell_type": "code",
      "metadata": {
        "id": "hCnIp9jPmjCa",
        "colab": {
          "base_uri": "https://localhost:8080/",
          "height": 743
        },
        "outputId": "c111eb66-0fcf-4dcb-9b0d-a64a9af21efb"
      },
      "source": [
        "pd.crosstab(df_filtered.year, [df_filtered.month], values=df_filtered._tempm, aggfunc=\"mean\")"
      ],
      "execution_count": null,
      "outputs": [
        {
          "output_type": "execute_result",
          "data": {
            "text/html": [
              "<div>\n",
              "<style scoped>\n",
              "    .dataframe tbody tr th:only-of-type {\n",
              "        vertical-align: middle;\n",
              "    }\n",
              "\n",
              "    .dataframe tbody tr th {\n",
              "        vertical-align: top;\n",
              "    }\n",
              "\n",
              "    .dataframe thead th {\n",
              "        text-align: right;\n",
              "    }\n",
              "</style>\n",
              "<table border=\"1\" class=\"dataframe\">\n",
              "  <thead>\n",
              "    <tr style=\"text-align: right;\">\n",
              "      <th>month</th>\n",
              "      <th>01</th>\n",
              "      <th>02</th>\n",
              "      <th>03</th>\n",
              "      <th>04</th>\n",
              "      <th>05</th>\n",
              "      <th>06</th>\n",
              "      <th>07</th>\n",
              "      <th>08</th>\n",
              "      <th>09</th>\n",
              "      <th>10</th>\n",
              "      <th>11</th>\n",
              "      <th>12</th>\n",
              "    </tr>\n",
              "    <tr>\n",
              "      <th>year</th>\n",
              "      <th></th>\n",
              "      <th></th>\n",
              "      <th></th>\n",
              "      <th></th>\n",
              "      <th></th>\n",
              "      <th></th>\n",
              "      <th></th>\n",
              "      <th></th>\n",
              "      <th></th>\n",
              "      <th></th>\n",
              "      <th></th>\n",
              "      <th></th>\n",
              "    </tr>\n",
              "  </thead>\n",
              "  <tbody>\n",
              "    <tr>\n",
              "      <th>1996</th>\n",
              "      <td>NaN</td>\n",
              "      <td>NaN</td>\n",
              "      <td>NaN</td>\n",
              "      <td>NaN</td>\n",
              "      <td>NaN</td>\n",
              "      <td>NaN</td>\n",
              "      <td>NaN</td>\n",
              "      <td>NaN</td>\n",
              "      <td>NaN</td>\n",
              "      <td>NaN</td>\n",
              "      <td>19.415046</td>\n",
              "      <td>13.865403</td>\n",
              "    </tr>\n",
              "    <tr>\n",
              "      <th>1997</th>\n",
              "      <td>13.048083</td>\n",
              "      <td>15.825284</td>\n",
              "      <td>21.173384</td>\n",
              "      <td>26.300805</td>\n",
              "      <td>29.900929</td>\n",
              "      <td>31.735553</td>\n",
              "      <td>31.076391</td>\n",
              "      <td>29.450078</td>\n",
              "      <td>29.695443</td>\n",
              "      <td>24.130558</td>\n",
              "      <td>19.957239</td>\n",
              "      <td>13.698195</td>\n",
              "    </tr>\n",
              "    <tr>\n",
              "      <th>1998</th>\n",
              "      <td>13.144290</td>\n",
              "      <td>16.510567</td>\n",
              "      <td>19.882767</td>\n",
              "      <td>28.698630</td>\n",
              "      <td>33.991784</td>\n",
              "      <td>32.450593</td>\n",
              "      <td>29.923938</td>\n",
              "      <td>29.179850</td>\n",
              "      <td>29.119385</td>\n",
              "      <td>25.276475</td>\n",
              "      <td>20.306736</td>\n",
              "      <td>14.682166</td>\n",
              "    </tr>\n",
              "    <tr>\n",
              "      <th>1999</th>\n",
              "      <td>12.594269</td>\n",
              "      <td>16.743446</td>\n",
              "      <td>22.465106</td>\n",
              "      <td>31.419503</td>\n",
              "      <td>34.269136</td>\n",
              "      <td>34.281680</td>\n",
              "      <td>31.998110</td>\n",
              "      <td>32.903209</td>\n",
              "      <td>30.738490</td>\n",
              "      <td>27.700867</td>\n",
              "      <td>22.663247</td>\n",
              "      <td>15.271864</td>\n",
              "    </tr>\n",
              "    <tr>\n",
              "      <th>2000</th>\n",
              "      <td>13.803659</td>\n",
              "      <td>15.104891</td>\n",
              "      <td>NaN</td>\n",
              "      <td>35.000000</td>\n",
              "      <td>26.000000</td>\n",
              "      <td>32.442863</td>\n",
              "      <td>30.245092</td>\n",
              "      <td>31.881618</td>\n",
              "      <td>30.125521</td>\n",
              "      <td>28.188217</td>\n",
              "      <td>22.112297</td>\n",
              "      <td>16.154194</td>\n",
              "    </tr>\n",
              "    <tr>\n",
              "      <th>2001</th>\n",
              "      <td>12.658686</td>\n",
              "      <td>18.287586</td>\n",
              "      <td>23.564530</td>\n",
              "      <td>29.666763</td>\n",
              "      <td>32.988538</td>\n",
              "      <td>30.981903</td>\n",
              "      <td>30.912933</td>\n",
              "      <td>31.112729</td>\n",
              "      <td>31.174088</td>\n",
              "      <td>27.831502</td>\n",
              "      <td>21.620347</td>\n",
              "      <td>15.959586</td>\n",
              "    </tr>\n",
              "    <tr>\n",
              "      <th>2002</th>\n",
              "      <td>14.277785</td>\n",
              "      <td>17.470228</td>\n",
              "      <td>24.534641</td>\n",
              "      <td>32.058416</td>\n",
              "      <td>35.373743</td>\n",
              "      <td>34.219867</td>\n",
              "      <td>35.355093</td>\n",
              "      <td>30.697186</td>\n",
              "      <td>28.428300</td>\n",
              "      <td>27.166094</td>\n",
              "      <td>21.377793</td>\n",
              "      <td>16.904873</td>\n",
              "    </tr>\n",
              "    <tr>\n",
              "      <th>2003</th>\n",
              "      <td>11.931473</td>\n",
              "      <td>17.958429</td>\n",
              "      <td>23.538990</td>\n",
              "      <td>31.716751</td>\n",
              "      <td>34.950594</td>\n",
              "      <td>35.455894</td>\n",
              "      <td>30.293639</td>\n",
              "      <td>29.966644</td>\n",
              "      <td>28.951836</td>\n",
              "      <td>26.453855</td>\n",
              "      <td>20.371110</td>\n",
              "      <td>15.211904</td>\n",
              "    </tr>\n",
              "    <tr>\n",
              "      <th>2004</th>\n",
              "      <td>13.232766</td>\n",
              "      <td>18.734445</td>\n",
              "      <td>26.633420</td>\n",
              "      <td>31.858427</td>\n",
              "      <td>34.314077</td>\n",
              "      <td>33.072721</td>\n",
              "      <td>32.657179</td>\n",
              "      <td>29.602128</td>\n",
              "      <td>29.948052</td>\n",
              "      <td>24.262331</td>\n",
              "      <td>19.474359</td>\n",
              "      <td>15.534730</td>\n",
              "    </tr>\n",
              "    <tr>\n",
              "      <th>2005</th>\n",
              "      <td>13.468473</td>\n",
              "      <td>16.835250</td>\n",
              "      <td>23.676773</td>\n",
              "      <td>28.602970</td>\n",
              "      <td>32.276423</td>\n",
              "      <td>33.983122</td>\n",
              "      <td>30.176230</td>\n",
              "      <td>31.415323</td>\n",
              "      <td>28.786611</td>\n",
              "      <td>25.068215</td>\n",
              "      <td>19.516949</td>\n",
              "      <td>13.674414</td>\n",
              "    </tr>\n",
              "    <tr>\n",
              "      <th>2006</th>\n",
              "      <td>13.987500</td>\n",
              "      <td>21.123698</td>\n",
              "      <td>22.526431</td>\n",
              "      <td>29.582979</td>\n",
              "      <td>33.137097</td>\n",
              "      <td>32.070598</td>\n",
              "      <td>30.977527</td>\n",
              "      <td>30.555575</td>\n",
              "      <td>29.118214</td>\n",
              "      <td>26.059218</td>\n",
              "      <td>20.211207</td>\n",
              "      <td>15.464956</td>\n",
              "    </tr>\n",
              "    <tr>\n",
              "      <th>2007</th>\n",
              "      <td>13.394309</td>\n",
              "      <td>17.619822</td>\n",
              "      <td>21.736067</td>\n",
              "      <td>30.457983</td>\n",
              "      <td>31.761019</td>\n",
              "      <td>32.875951</td>\n",
              "      <td>31.134146</td>\n",
              "      <td>30.601621</td>\n",
              "      <td>29.179916</td>\n",
              "      <td>24.446222</td>\n",
              "      <td>19.454784</td>\n",
              "      <td>14.552893</td>\n",
              "    </tr>\n",
              "    <tr>\n",
              "      <th>2008</th>\n",
              "      <td>12.937759</td>\n",
              "      <td>15.565611</td>\n",
              "      <td>25.061475</td>\n",
              "      <td>28.560000</td>\n",
              "      <td>30.258333</td>\n",
              "      <td>30.246862</td>\n",
              "      <td>30.721992</td>\n",
              "      <td>29.591837</td>\n",
              "      <td>28.508403</td>\n",
              "      <td>26.453441</td>\n",
              "      <td>19.598291</td>\n",
              "      <td>16.202692</td>\n",
              "    </tr>\n",
              "    <tr>\n",
              "      <th>2009</th>\n",
              "      <td>14.837522</td>\n",
              "      <td>18.292793</td>\n",
              "      <td>23.450820</td>\n",
              "      <td>29.570213</td>\n",
              "      <td>32.356552</td>\n",
              "      <td>34.567568</td>\n",
              "      <td>32.032922</td>\n",
              "      <td>30.914286</td>\n",
              "      <td>28.885200</td>\n",
              "      <td>25.073171</td>\n",
              "      <td>19.283898</td>\n",
              "      <td>14.995781</td>\n",
              "    </tr>\n",
              "    <tr>\n",
              "      <th>2010</th>\n",
              "      <td>12.861224</td>\n",
              "      <td>18.135008</td>\n",
              "      <td>25.935906</td>\n",
              "      <td>32.769231</td>\n",
              "      <td>34.521186</td>\n",
              "      <td>34.273531</td>\n",
              "      <td>31.038529</td>\n",
              "      <td>29.586543</td>\n",
              "      <td>27.670493</td>\n",
              "      <td>26.013333</td>\n",
              "      <td>20.392778</td>\n",
              "      <td>14.008584</td>\n",
              "    </tr>\n",
              "    <tr>\n",
              "      <th>2011</th>\n",
              "      <td>12.320175</td>\n",
              "      <td>17.025000</td>\n",
              "      <td>22.810185</td>\n",
              "      <td>27.770714</td>\n",
              "      <td>32.952586</td>\n",
              "      <td>32.012592</td>\n",
              "      <td>30.631579</td>\n",
              "      <td>29.899563</td>\n",
              "      <td>29.079812</td>\n",
              "      <td>25.607759</td>\n",
              "      <td>20.815166</td>\n",
              "      <td>14.486364</td>\n",
              "    </tr>\n",
              "    <tr>\n",
              "      <th>2012</th>\n",
              "      <td>12.776256</td>\n",
              "      <td>16.130000</td>\n",
              "      <td>22.683962</td>\n",
              "      <td>28.222222</td>\n",
              "      <td>33.425339</td>\n",
              "      <td>36.033252</td>\n",
              "      <td>31.873355</td>\n",
              "      <td>29.180123</td>\n",
              "      <td>29.207921</td>\n",
              "      <td>24.699588</td>\n",
              "      <td>18.783784</td>\n",
              "      <td>15.157609</td>\n",
              "    </tr>\n",
              "    <tr>\n",
              "      <th>2013</th>\n",
              "      <td>12.255078</td>\n",
              "      <td>16.918938</td>\n",
              "      <td>23.030457</td>\n",
              "      <td>29.000000</td>\n",
              "      <td>33.673015</td>\n",
              "      <td>32.347073</td>\n",
              "      <td>30.701923</td>\n",
              "      <td>29.462728</td>\n",
              "      <td>29.839573</td>\n",
              "      <td>26.035176</td>\n",
              "      <td>18.885122</td>\n",
              "      <td>15.288221</td>\n",
              "    </tr>\n",
              "    <tr>\n",
              "      <th>2014</th>\n",
              "      <td>13.550621</td>\n",
              "      <td>15.805140</td>\n",
              "      <td>21.594262</td>\n",
              "      <td>28.067227</td>\n",
              "      <td>31.412955</td>\n",
              "      <td>34.770833</td>\n",
              "      <td>32.233013</td>\n",
              "      <td>31.036970</td>\n",
              "      <td>29.709319</td>\n",
              "      <td>26.484627</td>\n",
              "      <td>20.104167</td>\n",
              "      <td>14.780488</td>\n",
              "    </tr>\n",
              "    <tr>\n",
              "      <th>2015</th>\n",
              "      <td>12.762669</td>\n",
              "      <td>18.794358</td>\n",
              "      <td>21.569120</td>\n",
              "      <td>27.989273</td>\n",
              "      <td>33.344130</td>\n",
              "      <td>32.737500</td>\n",
              "      <td>30.364947</td>\n",
              "      <td>30.235507</td>\n",
              "      <td>30.665254</td>\n",
              "      <td>26.796826</td>\n",
              "      <td>20.754167</td>\n",
              "      <td>14.975709</td>\n",
              "    </tr>\n",
              "    <tr>\n",
              "      <th>2016</th>\n",
              "      <td>15.007752</td>\n",
              "      <td>19.563948</td>\n",
              "      <td>25.696391</td>\n",
              "      <td>32.535145</td>\n",
              "      <td>34.691920</td>\n",
              "      <td>34.907087</td>\n",
              "      <td>30.882036</td>\n",
              "      <td>30.993334</td>\n",
              "      <td>31.500809</td>\n",
              "      <td>28.958941</td>\n",
              "      <td>23.045124</td>\n",
              "      <td>17.777697</td>\n",
              "    </tr>\n",
              "    <tr>\n",
              "      <th>2017</th>\n",
              "      <td>15.783680</td>\n",
              "      <td>18.414062</td>\n",
              "      <td>23.553459</td>\n",
              "      <td>30.775120</td>\n",
              "      <td>NaN</td>\n",
              "      <td>NaN</td>\n",
              "      <td>NaN</td>\n",
              "      <td>NaN</td>\n",
              "      <td>NaN</td>\n",
              "      <td>NaN</td>\n",
              "      <td>NaN</td>\n",
              "      <td>NaN</td>\n",
              "    </tr>\n",
              "  </tbody>\n",
              "</table>\n",
              "</div>"
            ],
            "text/plain": [
              "month         01         02         03  ...         10         11         12\n",
              "year                                    ...                                 \n",
              "1996         NaN        NaN        NaN  ...        NaN  19.415046  13.865403\n",
              "1997   13.048083  15.825284  21.173384  ...  24.130558  19.957239  13.698195\n",
              "1998   13.144290  16.510567  19.882767  ...  25.276475  20.306736  14.682166\n",
              "1999   12.594269  16.743446  22.465106  ...  27.700867  22.663247  15.271864\n",
              "2000   13.803659  15.104891        NaN  ...  28.188217  22.112297  16.154194\n",
              "2001   12.658686  18.287586  23.564530  ...  27.831502  21.620347  15.959586\n",
              "2002   14.277785  17.470228  24.534641  ...  27.166094  21.377793  16.904873\n",
              "2003   11.931473  17.958429  23.538990  ...  26.453855  20.371110  15.211904\n",
              "2004   13.232766  18.734445  26.633420  ...  24.262331  19.474359  15.534730\n",
              "2005   13.468473  16.835250  23.676773  ...  25.068215  19.516949  13.674414\n",
              "2006   13.987500  21.123698  22.526431  ...  26.059218  20.211207  15.464956\n",
              "2007   13.394309  17.619822  21.736067  ...  24.446222  19.454784  14.552893\n",
              "2008   12.937759  15.565611  25.061475  ...  26.453441  19.598291  16.202692\n",
              "2009   14.837522  18.292793  23.450820  ...  25.073171  19.283898  14.995781\n",
              "2010   12.861224  18.135008  25.935906  ...  26.013333  20.392778  14.008584\n",
              "2011   12.320175  17.025000  22.810185  ...  25.607759  20.815166  14.486364\n",
              "2012   12.776256  16.130000  22.683962  ...  24.699588  18.783784  15.157609\n",
              "2013   12.255078  16.918938  23.030457  ...  26.035176  18.885122  15.288221\n",
              "2014   13.550621  15.805140  21.594262  ...  26.484627  20.104167  14.780488\n",
              "2015   12.762669  18.794358  21.569120  ...  26.796826  20.754167  14.975709\n",
              "2016   15.007752  19.563948  25.696391  ...  28.958941  23.045124  17.777697\n",
              "2017   15.783680  18.414062  23.553459  ...        NaN        NaN        NaN\n",
              "\n",
              "[22 rows x 12 columns]"
            ]
          },
          "metadata": {
            "tags": []
          },
          "execution_count": 88
        }
      ]
    },
    {
      "cell_type": "code",
      "metadata": {
        "id": "HIHJKLsimjRy",
        "colab": {
          "base_uri": "https://localhost:8080/",
          "height": 627
        },
        "outputId": "2955d97d-92de-4ef5-85ab-4a2a23276f21"
      },
      "source": [
        "# Heatmap for year and average temprature across the month. More red more heat, more blue less heat\n",
        "plt.figure(figsize=(15, 10));\n",
        "sns.heatmap(pd.crosstab(df_filtered.year, [df_filtered.month], values=df_filtered._tempm, aggfunc=\"mean\"),\n",
        "            cmap=\"coolwarm\", annot=True, cbar=True);\n",
        "plt.title(\"Average Temprature 1996-2017\")\n",
        "plt.plot();"
      ],
      "execution_count": null,
      "outputs": [
        {
          "output_type": "display_data",
          "data": {
            "image/png": "[encoded data removed]",
            "text/plain": [
              "<Figure size 1080x720 with 2 Axes>"
            ]
          },
          "metadata": {
            "tags": []
          }
        }
      ]
    },
    {
      "cell_type": "code",
      "metadata": {
        "id": "lSjmfqEnmxnk",
        "colab": {
          "base_uri": "https://localhost:8080/"
        },
        "outputId": "4db7011e-e306-4682-b5e0-555b7774911e"
      },
      "source": [
        "df_filtered._conds.value_counts()"
      ],
      "execution_count": null,
      "outputs": [
        {
          "output_type": "execute_result",
          "data": {
            "text/plain": [
              "Haze                             47674\n",
              "Smoke                            20760\n",
              "Mist                              9375\n",
              "Clear                             3129\n",
              "Widespread Dust                   2856\n",
              "Fog                               2760\n",
              "Scattered Clouds                  2209\n",
              "Partly Cloudy                     2091\n",
              "Shallow Fog                       1860\n",
              "Mostly Cloudy                     1537\n",
              "Light Rain                        1302\n",
              "Partial Fog                       1031\n",
              "Patches of Fog                     901\n",
              "Thunderstorms and Rain             486\n",
              "Heavy Fog                          421\n",
              "Light Drizzle                      414\n",
              "Rain                               394\n",
              "Unknown                            383\n",
              "Blowing Sand                       378\n",
              "Overcast                           326\n",
              "Thunderstorm                       192\n",
              "Light Thunderstorms and Rain       176\n",
              "Drizzle                            112\n",
              "Light Fog                           64\n",
              "Light Thunderstorm                  64\n",
              "Heavy Rain                          28\n",
              "Heavy Thunderstorms and Rain        22\n",
              "Thunderstorms with Hail             11\n",
              "Squalls                              6\n",
              "Light Sandstorm                      6\n",
              "Light Rain Showers                   5\n",
              "Volcanic Ash                         4\n",
              "Light Haze                           4\n",
              "Sandstorm                            2\n",
              "Rain Showers                         2\n",
              "Funnel Cloud                         2\n",
              "Light Hail Showers                   1\n",
              "Light Freezing Rain                  1\n",
              "Heavy Thunderstorms with Hail        1\n",
              "Name: _conds, dtype: int64"
            ]
          },
          "metadata": {
            "tags": []
          },
          "execution_count": 90
        }
      ]
    },
    {
      "cell_type": "code",
      "metadata": {
        "id": "HhfRDfbPm9fD"
      },
      "source": [
        "from sklearn.preprocessing import LabelEncoder, OneHotEncoder"
      ],
      "execution_count": null,
      "outputs": []
    },
    {
      "cell_type": "code",
      "metadata": {
        "id": "OEHjViy4nBor",
        "colab": {
          "base_uri": "https://localhost:8080/"
        },
        "outputId": "21dc0c9a-1d16-4f96-f232-14a01b904d6b"
      },
      "source": [
        "df_filtered.columns\n",
        "#df_filtered['datetime_utc']"
      ],
      "execution_count": null,
      "outputs": [
        {
          "output_type": "execute_result",
          "data": {
            "text/plain": [
              "Index(['datetime_utc', '_conds', '_dewptm', '_fog', '_hail', '_hum',\n",
              "       '_pressurem', '_rain', '_snow', '_tempm', '_thunder', '_tornado',\n",
              "       '_vism', '_wdird', '_wdire', '_wspdm', 'year', 'month', 'day', 'hour'],\n",
              "      dtype='object')"
            ]
          },
          "metadata": {
            "tags": []
          },
          "execution_count": 92
        }
      ]
    },
    {
      "cell_type": "code",
      "metadata": {
        "id": "Q4QwGUGRnE8a"
      },
      "source": [
        "feature_columns = ['_wdire', '_dewptm', '_fog', '_hail', '_hum',\n",
        "       '_pressurem', '_rain', '_snow', '_tempm', '_thunder', '_tornado',\n",
        "       '_vism', '_wdird', '_wspdm', 'year', 'month','day', 'hour', '_conds']"
      ],
      "execution_count": null,
      "outputs": []
    },
    {
      "cell_type": "code",
      "metadata": {
        "id": "munvHY96nJjw"
      },
      "source": [
        "# Lets create a new dataset, so that we dont change in our filtered dataset\n",
        "# We will create dataset in such a way, _wdire(categorical feature in starting position & target variable\n",
        "# at last which is _conds\n",
        "df_final = df_filtered[feature_columns]"
      ],
      "execution_count": null,
      "outputs": []
    },
    {
      "cell_type": "code",
      "metadata": {
        "id": "w-RXx3Xunau1",
        "colab": {
          "base_uri": "https://localhost:8080/",
          "height": 200
        },
        "outputId": "7dd6461a-ce3e-418a-fbdc-4c8a910af4d8"
      },
      "source": [
        "df_final.head()"
      ],
      "execution_count": null,
      "outputs": [
        {
          "output_type": "execute_result",
          "data": {
            "text/html": [
              "<div>\n",
              "<style scoped>\n",
              "    .dataframe tbody tr th:only-of-type {\n",
              "        vertical-align: middle;\n",
              "    }\n",
              "\n",
              "    .dataframe tbody tr th {\n",
              "        vertical-align: top;\n",
              "    }\n",
              "\n",
              "    .dataframe thead th {\n",
              "        text-align: right;\n",
              "    }\n",
              "</style>\n",
              "<table border=\"1\" class=\"dataframe\">\n",
              "  <thead>\n",
              "    <tr style=\"text-align: right;\">\n",
              "      <th></th>\n",
              "      <th>_wdire</th>\n",
              "      <th>_dewptm</th>\n",
              "      <th>_fog</th>\n",
              "      <th>_hail</th>\n",
              "      <th>_hum</th>\n",
              "      <th>_pressurem</th>\n",
              "      <th>_rain</th>\n",
              "      <th>_snow</th>\n",
              "      <th>_tempm</th>\n",
              "      <th>_thunder</th>\n",
              "      <th>_tornado</th>\n",
              "      <th>_vism</th>\n",
              "      <th>_wdird</th>\n",
              "      <th>_wspdm</th>\n",
              "      <th>year</th>\n",
              "      <th>month</th>\n",
              "      <th>day</th>\n",
              "      <th>hour</th>\n",
              "      <th>_conds</th>\n",
              "    </tr>\n",
              "  </thead>\n",
              "  <tbody>\n",
              "    <tr>\n",
              "      <th>0</th>\n",
              "      <td>West</td>\n",
              "      <td>9.0</td>\n",
              "      <td>0</td>\n",
              "      <td>0</td>\n",
              "      <td>27.0</td>\n",
              "      <td>1010.000000</td>\n",
              "      <td>0</td>\n",
              "      <td>0</td>\n",
              "      <td>30.0</td>\n",
              "      <td>0</td>\n",
              "      <td>0</td>\n",
              "      <td>5.000000</td>\n",
              "      <td>280.0</td>\n",
              "      <td>7.400000</td>\n",
              "      <td>1996</td>\n",
              "      <td>11</td>\n",
              "      <td>01</td>\n",
              "      <td>11:00</td>\n",
              "      <td>Smoke</td>\n",
              "    </tr>\n",
              "    <tr>\n",
              "      <th>1</th>\n",
              "      <td>North</td>\n",
              "      <td>10.0</td>\n",
              "      <td>0</td>\n",
              "      <td>0</td>\n",
              "      <td>32.0</td>\n",
              "      <td>1015.429612</td>\n",
              "      <td>0</td>\n",
              "      <td>0</td>\n",
              "      <td>28.0</td>\n",
              "      <td>0</td>\n",
              "      <td>0</td>\n",
              "      <td>2.198981</td>\n",
              "      <td>0.0</td>\n",
              "      <td>5.052735</td>\n",
              "      <td>1996</td>\n",
              "      <td>11</td>\n",
              "      <td>01</td>\n",
              "      <td>12:00</td>\n",
              "      <td>Smoke</td>\n",
              "    </tr>\n",
              "    <tr>\n",
              "      <th>2</th>\n",
              "      <td>North</td>\n",
              "      <td>11.0</td>\n",
              "      <td>0</td>\n",
              "      <td>0</td>\n",
              "      <td>44.0</td>\n",
              "      <td>1015.429612</td>\n",
              "      <td>0</td>\n",
              "      <td>0</td>\n",
              "      <td>24.0</td>\n",
              "      <td>0</td>\n",
              "      <td>0</td>\n",
              "      <td>2.198981</td>\n",
              "      <td>0.0</td>\n",
              "      <td>5.052735</td>\n",
              "      <td>1996</td>\n",
              "      <td>11</td>\n",
              "      <td>01</td>\n",
              "      <td>13:00</td>\n",
              "      <td>Smoke</td>\n",
              "    </tr>\n",
              "    <tr>\n",
              "      <th>3</th>\n",
              "      <td>North</td>\n",
              "      <td>10.0</td>\n",
              "      <td>0</td>\n",
              "      <td>0</td>\n",
              "      <td>41.0</td>\n",
              "      <td>1010.000000</td>\n",
              "      <td>0</td>\n",
              "      <td>0</td>\n",
              "      <td>24.0</td>\n",
              "      <td>0</td>\n",
              "      <td>0</td>\n",
              "      <td>2.000000</td>\n",
              "      <td>0.0</td>\n",
              "      <td>5.052735</td>\n",
              "      <td>1996</td>\n",
              "      <td>11</td>\n",
              "      <td>01</td>\n",
              "      <td>14:00</td>\n",
              "      <td>Smoke</td>\n",
              "    </tr>\n",
              "    <tr>\n",
              "      <th>4</th>\n",
              "      <td>North</td>\n",
              "      <td>11.0</td>\n",
              "      <td>0</td>\n",
              "      <td>0</td>\n",
              "      <td>47.0</td>\n",
              "      <td>1011.000000</td>\n",
              "      <td>0</td>\n",
              "      <td>0</td>\n",
              "      <td>23.0</td>\n",
              "      <td>0</td>\n",
              "      <td>0</td>\n",
              "      <td>1.200000</td>\n",
              "      <td>0.0</td>\n",
              "      <td>0.000000</td>\n",
              "      <td>1996</td>\n",
              "      <td>11</td>\n",
              "      <td>01</td>\n",
              "      <td>16:00</td>\n",
              "      <td>Smoke</td>\n",
              "    </tr>\n",
              "  </tbody>\n",
              "</table>\n",
              "</div>"
            ],
            "text/plain": [
              "  _wdire  _dewptm  _fog  _hail  _hum  ...  year  month  day   hour  _conds\n",
              "0   West      9.0     0      0  27.0  ...  1996     11   01  11:00   Smoke\n",
              "1  North     10.0     0      0  32.0  ...  1996     11   01  12:00   Smoke\n",
              "2  North     11.0     0      0  44.0  ...  1996     11   01  13:00   Smoke\n",
              "3  North     10.0     0      0  41.0  ...  1996     11   01  14:00   Smoke\n",
              "4  North     11.0     0      0  47.0  ...  1996     11   01  16:00   Smoke\n",
              "\n",
              "[5 rows x 19 columns]"
            ]
          },
          "metadata": {
            "tags": []
          },
          "execution_count": 95
        }
      ]
    },
    {
      "cell_type": "code",
      "metadata": {
        "id": "EfcZoVSdnaV9",
        "colab": {
          "base_uri": "https://localhost:8080/"
        },
        "outputId": "221ffd62-c874-4316-9e12-385491767bba"
      },
      "source": [
        "df_final.dtypes"
      ],
      "execution_count": null,
      "outputs": [
        {
          "output_type": "execute_result",
          "data": {
            "text/plain": [
              "_wdire         object\n",
              "_dewptm       float64\n",
              "_fog            int64\n",
              "_hail           int64\n",
              "_hum          float64\n",
              "_pressurem    float64\n",
              "_rain           int64\n",
              "_snow           int64\n",
              "_tempm        float64\n",
              "_thunder        int64\n",
              "_tornado        int64\n",
              "_vism         float64\n",
              "_wdird        float64\n",
              "_wspdm        float64\n",
              "year           object\n",
              "month          object\n",
              "day            object\n",
              "hour           object\n",
              "_conds         object\n",
              "dtype: object"
            ]
          },
          "metadata": {
            "tags": []
          },
          "execution_count": 96
        }
      ]
    },
    {
      "cell_type": "code",
      "metadata": {
        "id": "pDrwTkSgniWl",
        "colab": {
          "base_uri": "https://localhost:8080/"
        },
        "outputId": "eaba4185-36e2-4365-8007-36da77c8b242"
      },
      "source": [
        "df_final._wdire.value_counts()"
      ],
      "execution_count": null,
      "outputs": [
        {
          "output_type": "execute_result",
          "data": {
            "text/plain": [
              "West        19970\n",
              "North       19714\n",
              "NW          13110\n",
              "WNW          7464\n",
              "East         7233\n",
              "WSW          5466\n",
              "ESE          5336\n",
              "ENE          3721\n",
              "SE           3513\n",
              "SW           3200\n",
              "NNW          2696\n",
              "NE           2500\n",
              "SSE          2052\n",
              "NNE          1752\n",
              "SSW          1715\n",
              "South        1543\n",
              "Variable        5\n",
              "Name: _wdire, dtype: int64"
            ]
          },
          "metadata": {
            "tags": []
          },
          "execution_count": 97
        }
      ]
    },
    {
      "cell_type": "code",
      "metadata": {
        "id": "efRJ8l_enpCh"
      },
      "source": [
        "wdire_dummies = pd.get_dummies(df_final[\"_wdire\"])"
      ],
      "execution_count": null,
      "outputs": []
    },
    {
      "cell_type": "code",
      "metadata": {
        "id": "o7N18nl-nvoi"
      },
      "source": [
        "df_final = pd.concat([wdire_dummies, df_final], axis=1)"
      ],
      "execution_count": null,
      "outputs": []
    },
    {
      "cell_type": "code",
      "metadata": {
        "id": "R_9VJNqlnzqo",
        "colab": {
          "base_uri": "https://localhost:8080/",
          "height": 220
        },
        "outputId": "5b0c6437-dea9-4399-a40c-be52d45fb62f"
      },
      "source": [
        "df_final.head()"
      ],
      "execution_count": null,
      "outputs": [
        {
          "output_type": "execute_result",
          "data": {
            "text/html": [
              "<div>\n",
              "<style scoped>\n",
              "    .dataframe tbody tr th:only-of-type {\n",
              "        vertical-align: middle;\n",
              "    }\n",
              "\n",
              "    .dataframe tbody tr th {\n",
              "        vertical-align: top;\n",
              "    }\n",
              "\n",
              "    .dataframe thead th {\n",
              "        text-align: right;\n",
              "    }\n",
              "</style>\n",
              "<table border=\"1\" class=\"dataframe\">\n",
              "  <thead>\n",
              "    <tr style=\"text-align: right;\">\n",
              "      <th></th>\n",
              "      <th>ENE</th>\n",
              "      <th>ESE</th>\n",
              "      <th>East</th>\n",
              "      <th>NE</th>\n",
              "      <th>NNE</th>\n",
              "      <th>NNW</th>\n",
              "      <th>NW</th>\n",
              "      <th>North</th>\n",
              "      <th>SE</th>\n",
              "      <th>SSE</th>\n",
              "      <th>SSW</th>\n",
              "      <th>SW</th>\n",
              "      <th>South</th>\n",
              "      <th>Variable</th>\n",
              "      <th>WNW</th>\n",
              "      <th>WSW</th>\n",
              "      <th>West</th>\n",
              "      <th>_wdire</th>\n",
              "      <th>_dewptm</th>\n",
              "      <th>_fog</th>\n",
              "      <th>_hail</th>\n",
              "      <th>_hum</th>\n",
              "      <th>_pressurem</th>\n",
              "      <th>_rain</th>\n",
              "      <th>_snow</th>\n",
              "      <th>_tempm</th>\n",
              "      <th>_thunder</th>\n",
              "      <th>_tornado</th>\n",
              "      <th>_vism</th>\n",
              "      <th>_wdird</th>\n",
              "      <th>_wspdm</th>\n",
              "      <th>year</th>\n",
              "      <th>month</th>\n",
              "      <th>day</th>\n",
              "      <th>hour</th>\n",
              "      <th>_conds</th>\n",
              "    </tr>\n",
              "  </thead>\n",
              "  <tbody>\n",
              "    <tr>\n",
              "      <th>0</th>\n",
              "      <td>0</td>\n",
              "      <td>0</td>\n",
              "      <td>0</td>\n",
              "      <td>0</td>\n",
              "      <td>0</td>\n",
              "      <td>0</td>\n",
              "      <td>0</td>\n",
              "      <td>0</td>\n",
              "      <td>0</td>\n",
              "      <td>0</td>\n",
              "      <td>0</td>\n",
              "      <td>0</td>\n",
              "      <td>0</td>\n",
              "      <td>0</td>\n",
              "      <td>0</td>\n",
              "      <td>0</td>\n",
              "      <td>1</td>\n",
              "      <td>West</td>\n",
              "      <td>9.0</td>\n",
              "      <td>0</td>\n",
              "      <td>0</td>\n",
              "      <td>27.0</td>\n",
              "      <td>1010.000000</td>\n",
              "      <td>0</td>\n",
              "      <td>0</td>\n",
              "      <td>30.0</td>\n",
              "      <td>0</td>\n",
              "      <td>0</td>\n",
              "      <td>5.000000</td>\n",
              "      <td>280.0</td>\n",
              "      <td>7.400000</td>\n",
              "      <td>1996</td>\n",
              "      <td>11</td>\n",
              "      <td>01</td>\n",
              "      <td>11:00</td>\n",
              "      <td>Smoke</td>\n",
              "    </tr>\n",
              "    <tr>\n",
              "      <th>1</th>\n",
              "      <td>0</td>\n",
              "      <td>0</td>\n",
              "      <td>0</td>\n",
              "      <td>0</td>\n",
              "      <td>0</td>\n",
              "      <td>0</td>\n",
              "      <td>0</td>\n",
              "      <td>1</td>\n",
              "      <td>0</td>\n",
              "      <td>0</td>\n",
              "      <td>0</td>\n",
              "      <td>0</td>\n",
              "      <td>0</td>\n",
              "      <td>0</td>\n",
              "      <td>0</td>\n",
              "      <td>0</td>\n",
              "      <td>0</td>\n",
              "      <td>North</td>\n",
              "      <td>10.0</td>\n",
              "      <td>0</td>\n",
              "      <td>0</td>\n",
              "      <td>32.0</td>\n",
              "      <td>1015.429612</td>\n",
              "      <td>0</td>\n",
              "      <td>0</td>\n",
              "      <td>28.0</td>\n",
              "      <td>0</td>\n",
              "      <td>0</td>\n",
              "      <td>2.198981</td>\n",
              "      <td>0.0</td>\n",
              "      <td>5.052735</td>\n",
              "      <td>1996</td>\n",
              "      <td>11</td>\n",
              "      <td>01</td>\n",
              "      <td>12:00</td>\n",
              "      <td>Smoke</td>\n",
              "    </tr>\n",
              "    <tr>\n",
              "      <th>2</th>\n",
              "      <td>0</td>\n",
              "      <td>0</td>\n",
              "      <td>0</td>\n",
              "      <td>0</td>\n",
              "      <td>0</td>\n",
              "      <td>0</td>\n",
              "      <td>0</td>\n",
              "      <td>1</td>\n",
              "      <td>0</td>\n",
              "      <td>0</td>\n",
              "      <td>0</td>\n",
              "      <td>0</td>\n",
              "      <td>0</td>\n",
              "      <td>0</td>\n",
              "      <td>0</td>\n",
              "      <td>0</td>\n",
              "      <td>0</td>\n",
              "      <td>North</td>\n",
              "      <td>11.0</td>\n",
              "      <td>0</td>\n",
              "      <td>0</td>\n",
              "      <td>44.0</td>\n",
              "      <td>1015.429612</td>\n",
              "      <td>0</td>\n",
              "      <td>0</td>\n",
              "      <td>24.0</td>\n",
              "      <td>0</td>\n",
              "      <td>0</td>\n",
              "      <td>2.198981</td>\n",
              "      <td>0.0</td>\n",
              "      <td>5.052735</td>\n",
              "      <td>1996</td>\n",
              "      <td>11</td>\n",
              "      <td>01</td>\n",
              "      <td>13:00</td>\n",
              "      <td>Smoke</td>\n",
              "    </tr>\n",
              "    <tr>\n",
              "      <th>3</th>\n",
              "      <td>0</td>\n",
              "      <td>0</td>\n",
              "      <td>0</td>\n",
              "      <td>0</td>\n",
              "      <td>0</td>\n",
              "      <td>0</td>\n",
              "      <td>0</td>\n",
              "      <td>1</td>\n",
              "      <td>0</td>\n",
              "      <td>0</td>\n",
              "      <td>0</td>\n",
              "      <td>0</td>\n",
              "      <td>0</td>\n",
              "      <td>0</td>\n",
              "      <td>0</td>\n",
              "      <td>0</td>\n",
              "      <td>0</td>\n",
              "      <td>North</td>\n",
              "      <td>10.0</td>\n",
              "      <td>0</td>\n",
              "      <td>0</td>\n",
              "      <td>41.0</td>\n",
              "      <td>1010.000000</td>\n",
              "      <td>0</td>\n",
              "      <td>0</td>\n",
              "      <td>24.0</td>\n",
              "      <td>0</td>\n",
              "      <td>0</td>\n",
              "      <td>2.000000</td>\n",
              "      <td>0.0</td>\n",
              "      <td>5.052735</td>\n",
              "      <td>1996</td>\n",
              "      <td>11</td>\n",
              "      <td>01</td>\n",
              "      <td>14:00</td>\n",
              "      <td>Smoke</td>\n",
              "    </tr>\n",
              "    <tr>\n",
              "      <th>4</th>\n",
              "      <td>0</td>\n",
              "      <td>0</td>\n",
              "      <td>0</td>\n",
              "      <td>0</td>\n",
              "      <td>0</td>\n",
              "      <td>0</td>\n",
              "      <td>0</td>\n",
              "      <td>1</td>\n",
              "      <td>0</td>\n",
              "      <td>0</td>\n",
              "      <td>0</td>\n",
              "      <td>0</td>\n",
              "      <td>0</td>\n",
              "      <td>0</td>\n",
              "      <td>0</td>\n",
              "      <td>0</td>\n",
              "      <td>0</td>\n",
              "      <td>North</td>\n",
              "      <td>11.0</td>\n",
              "      <td>0</td>\n",
              "      <td>0</td>\n",
              "      <td>47.0</td>\n",
              "      <td>1011.000000</td>\n",
              "      <td>0</td>\n",
              "      <td>0</td>\n",
              "      <td>23.0</td>\n",
              "      <td>0</td>\n",
              "      <td>0</td>\n",
              "      <td>1.200000</td>\n",
              "      <td>0.0</td>\n",
              "      <td>0.000000</td>\n",
              "      <td>1996</td>\n",
              "      <td>11</td>\n",
              "      <td>01</td>\n",
              "      <td>16:00</td>\n",
              "      <td>Smoke</td>\n",
              "    </tr>\n",
              "  </tbody>\n",
              "</table>\n",
              "</div>"
            ],
            "text/plain": [
              "   ENE  ESE  East  NE  NNE  NNW  ...    _wspdm  year  month  day   hour  _conds\n",
              "0    0    0     0   0    0    0  ...  7.400000  1996     11   01  11:00   Smoke\n",
              "1    0    0     0   0    0    0  ...  5.052735  1996     11   01  12:00   Smoke\n",
              "2    0    0     0   0    0    0  ...  5.052735  1996     11   01  13:00   Smoke\n",
              "3    0    0     0   0    0    0  ...  5.052735  1996     11   01  14:00   Smoke\n",
              "4    0    0     0   0    0    0  ...  0.000000  1996     11   01  16:00   Smoke\n",
              "\n",
              "[5 rows x 36 columns]"
            ]
          },
          "metadata": {
            "tags": []
          },
          "execution_count": 100
        }
      ]
    },
    {
      "cell_type": "code",
      "metadata": {
        "id": "nTOwVVUi_f2z"
      },
      "source": [
        ""
      ],
      "execution_count": null,
      "outputs": []
    },
    {
      "cell_type": "code",
      "metadata": {
        "id": "yPkkWWWfn2ct",
        "colab": {
          "base_uri": "https://localhost:8080/"
        },
        "outputId": "1f08757e-e74d-48f0-f53f-d94b6368bc41"
      },
      "source": [
        "df_final.columns"
      ],
      "execution_count": null,
      "outputs": [
        {
          "output_type": "execute_result",
          "data": {
            "text/plain": [
              "Index(['ENE', 'ESE', 'East', 'NE', 'NNE', 'NNW', 'NW', 'North', 'SE', 'SSE',\n",
              "       'SSW', 'SW', 'South', 'Variable', 'WNW', 'WSW', 'West', '_wdire',\n",
              "       '_dewptm', '_fog', '_hail', '_hum', '_pressurem', '_rain', '_snow',\n",
              "       '_tempm', '_thunder', '_tornado', '_vism', '_wdird', '_wspdm', 'year',\n",
              "       'month', 'day', 'hour', '_conds'],\n",
              "      dtype='object')"
            ]
          },
          "metadata": {
            "tags": []
          },
          "execution_count": 101
        }
      ]
    },
    {
      "cell_type": "code",
      "metadata": {
        "id": "eOsczQ43n7XU"
      },
      "source": [
        "df_final.drop(\"_wdire\", inplace=True, axis=1)"
      ],
      "execution_count": null,
      "outputs": []
    },
    {
      "cell_type": "code",
      "metadata": {
        "id": "9n6FDiaZn607",
        "colab": {
          "base_uri": "https://localhost:8080/"
        },
        "outputId": "b2507c70-a2ee-4a77-ba5a-0ab0b0f132fb"
      },
      "source": [
        "df_final.columns"
      ],
      "execution_count": null,
      "outputs": [
        {
          "output_type": "execute_result",
          "data": {
            "text/plain": [
              "Index(['ENE', 'ESE', 'East', 'NE', 'NNE', 'NNW', 'NW', 'North', 'SE', 'SSE',\n",
              "       'SSW', 'SW', 'South', 'Variable', 'WNW', 'WSW', 'West', '_dewptm',\n",
              "       '_fog', '_hail', '_hum', '_pressurem', '_rain', '_snow', '_tempm',\n",
              "       '_thunder', '_tornado', '_vism', '_wdird', '_wspdm', 'year', 'month',\n",
              "       'day', 'hour', '_conds'],\n",
              "      dtype='object')"
            ]
          },
          "metadata": {
            "tags": []
          },
          "execution_count": 103
        }
      ]
    },
    {
      "cell_type": "code",
      "metadata": {
        "id": "v-XwBS_woCSQ",
        "colab": {
          "base_uri": "https://localhost:8080/"
        },
        "outputId": "8a76f725-6514-4873-aa5e-028820063b7e"
      },
      "source": [
        "X = df_final.iloc[:, 0:-1].values\n",
        "X.shape\n",
        "#X"
      ],
      "execution_count": null,
      "outputs": [
        {
          "output_type": "execute_result",
          "data": {
            "text/plain": [
              "(100990, 34)"
            ]
          },
          "metadata": {
            "tags": []
          },
          "execution_count": 104
        }
      ]
    },
    {
      "cell_type": "code",
      "metadata": {
        "id": "eRHOrwNDo57b",
        "colab": {
          "base_uri": "https://localhost:8080/"
        },
        "outputId": "f127fc9f-4e75-452c-99ad-dddeb35d9218"
      },
      "source": [
        "y = df_final.iloc[:, -1].values\n",
        "#y.shape\n",
        "y"
      ],
      "execution_count": null,
      "outputs": [
        {
          "output_type": "execute_result",
          "data": {
            "text/plain": [
              "array(['Smoke', 'Smoke', 'Smoke', ..., 'Haze', 'Haze', 'Haze'],\n",
              "      dtype=object)"
            ]
          },
          "metadata": {
            "tags": []
          },
          "execution_count": 105
        }
      ]
    },
    {
      "cell_type": "code",
      "metadata": {
        "id": "IRBKJ8Pwo9Ed"
      },
      "source": [
        "label_encoder = LabelEncoder()"
      ],
      "execution_count": null,
      "outputs": []
    },
    {
      "cell_type": "code",
      "metadata": {
        "id": "Gen5F_cxpEXY",
        "colab": {
          "base_uri": "https://localhost:8080/"
        },
        "outputId": "98551087-f3a0-4cfa-c949-dcdb82dbc591"
      },
      "source": [
        "y = label_encoder.fit_transform(y)\n",
        "y"
      ],
      "execution_count": null,
      "outputs": [
        {
          "output_type": "execute_result",
          "data": {
            "text/plain": [
              "array([31, 31, 31, ...,  5,  5,  5])"
            ]
          },
          "metadata": {
            "tags": []
          },
          "execution_count": 107
        }
      ]
    },
    {
      "cell_type": "code",
      "metadata": {
        "id": "RX02zIFUpIFv",
        "colab": {
          "base_uri": "https://localhost:8080/"
        },
        "outputId": "266a817c-a1e4-4671-98d4-54051b18d34d"
      },
      "source": [
        "y.shape"
      ],
      "execution_count": null,
      "outputs": [
        {
          "output_type": "execute_result",
          "data": {
            "text/plain": [
              "(100990,)"
            ]
          },
          "metadata": {
            "tags": []
          },
          "execution_count": 108
        }
      ]
    },
    {
      "cell_type": "code",
      "metadata": {
        "id": "tPVpqbSApIyz"
      },
      "source": [
        "from sklearn.model_selection import train_test_split"
      ],
      "execution_count": null,
      "outputs": []
    },
    {
      "cell_type": "code",
      "metadata": {
        "id": "TlCNXs-TpLHC"
      },
      "source": [
        "X_train, X_test, y_train, y_test = train_test_split(X, y, test_size=.25, random_state=0) # test size =0.25 or 25%"
      ],
      "execution_count": null,
      "outputs": []
    },
    {
      "cell_type": "code",
      "metadata": {
        "id": "AKEMKhHkpO_b",
        "colab": {
          "base_uri": "https://localhost:8080/"
        },
        "outputId": "a326ed38-9610-4719-b3e5-b312abf023b6"
      },
      "source": [
        "print(\"Shape of X_train\", X_train.shape)\n",
        "print(\"Shape of X_test\", X_test.shape)\n",
        "print(\"Shape of y_train\", y_train.shape)\n",
        "print(\"Shape of y_test\", y_test.shape)"
      ],
      "execution_count": null,
      "outputs": [
        {
          "output_type": "stream",
          "text": [
            "Shape of X_train (75742, 34)\n",
            "Shape of X_test (25248, 34)\n",
            "Shape of y_train (75742,)\n",
            "Shape of y_test (25248,)\n"
          ],
          "name": "stdout"
        }
      ]
    },
    {
      "cell_type": "code",
      "metadata": {
        "id": "usMVJXWepSFE",
        "colab": {
          "base_uri": "https://localhost:8080/"
        },
        "outputId": "d338b478-2658-4f49-dfdc-bff7bf01862b"
      },
      "source": [
        "X_train"
      ],
      "execution_count": null,
      "outputs": [
        {
          "output_type": "execute_result",
          "data": {
            "text/plain": [
              "array([[0, 0, 1, ..., '08', '22', '07:30'],\n",
              "       [0, 0, 0, ..., '09', '14', '12:00'],\n",
              "       [0, 1, 0, ..., '06', '15', '19:30'],\n",
              "       ...,\n",
              "       [0, 0, 1, ..., '04', '25', '15:30'],\n",
              "       [0, 0, 0, ..., '05', '28', '00:30'],\n",
              "       [0, 0, 0, ..., '01', '24', '12:00']], dtype=object)"
            ]
          },
          "metadata": {
            "tags": []
          },
          "execution_count": 112
        }
      ]
    },
    {
      "cell_type": "code",
      "metadata": {
        "id": "aj8vg-xbpSY0",
        "colab": {
          "base_uri": "https://localhost:8080/"
        },
        "outputId": "85b1ec5e-7f3f-4591-ee36-1ea7add7c9c2"
      },
      "source": [
        "X_test"
      ],
      "execution_count": null,
      "outputs": [
        {
          "output_type": "execute_result",
          "data": {
            "text/plain": [
              "array([[0, 0, 0, ..., '05', '19', '00:00'],\n",
              "       [0, 0, 0, ..., '08', '27', '15:00'],\n",
              "       [0, 0, 0, ..., '11', '21', '18:40'],\n",
              "       ...,\n",
              "       [0, 0, 0, ..., '08', '23', '12:00'],\n",
              "       [0, 0, 0, ..., '09', '26', '20:30'],\n",
              "       [0, 0, 0, ..., '12', '17', '21:00']], dtype=object)"
            ]
          },
          "metadata": {
            "tags": []
          },
          "execution_count": 113
        }
      ]
    },
    {
      "cell_type": "code",
      "metadata": {
        "colab": {
          "base_uri": "https://localhost:8080/"
        },
        "id": "U2RRD7eXDmRQ",
        "outputId": "e1cbe034-5070-47b4-896a-4fc931eef150"
      },
      "source": [
        "for i in X_train:\n",
        "  i[33]=i[33].replace(\":\",\"\")\n",
        "print(X_train)"
      ],
      "execution_count": null,
      "outputs": [
        {
          "output_type": "stream",
          "text": [
            "[[0 0 1 ... '08' '22' '0730']\n",
            " [0 0 0 ... '09' '14' '1200']\n",
            " [0 1 0 ... '06' '15' '1930']\n",
            " ...\n",
            " [0 0 1 ... '04' '25' '1530']\n",
            " [0 0 0 ... '05' '28' '0030']\n",
            " [0 0 0 ... '01' '24' '1200']]\n"
          ],
          "name": "stdout"
        }
      ]
    },
    {
      "cell_type": "code",
      "metadata": {
        "colab": {
          "base_uri": "https://localhost:8080/"
        },
        "id": "nd2OE73wDv1G",
        "outputId": "dfff1485-8434-4871-d2a1-f1f3c324b4b1"
      },
      "source": [
        "for i in X_test:\n",
        "  i[33]=i[33].replace(\":\",\"\")\n",
        "print(X_test)"
      ],
      "execution_count": null,
      "outputs": [
        {
          "output_type": "stream",
          "text": [
            "[[0 0 0 ... '05' '19' '0000']\n",
            " [0 0 0 ... '08' '27' '1500']\n",
            " [0 0 0 ... '11' '21' '1840']\n",
            " ...\n",
            " [0 0 0 ... '08' '23' '1200']\n",
            " [0 0 0 ... '09' '26' '2030']\n",
            " [0 0 0 ... '12' '17' '2100']]\n"
          ],
          "name": "stdout"
        }
      ]
    },
    {
      "cell_type": "code",
      "metadata": {
        "id": "ignn_42YfSbt",
        "colab": {
          "base_uri": "https://localhost:8080/",
          "height": 773
        },
        "outputId": "3ed4eb3c-b001-4d42-a856-f5ebfc142d4b"
      },
      "source": [
        "plt.figure(figsize=(15, 10));\n",
        "df._conds.value_counts().head(39).plot(kind='bar');\n",
        "plt.title(\"y_pred = Delhi common weather condition\")\n",
        "plt.plot();"
      ],
      "execution_count": null,
      "outputs": [
        {
          "output_type": "display_data",
          "data": {
            "image/png": "[encoded data removed]",
            "text/plain": [
              "<Figure size 1080x720 with 1 Axes>"
            ]
          },
          "metadata": {
            "tags": []
          }
        }
      ]
    },
    {
      "cell_type": "markdown",
      "metadata": {
        "id": "7lF153HCfGvd"
      },
      "source": [
        "# **Decision Tree Algorithm**"
      ]
    },
    {
      "cell_type": "code",
      "metadata": {
        "id": "3GLW-iV4pYZF"
      },
      "source": [
        "from sklearn.tree import DecisionTreeClassifier"
      ],
      "execution_count": null,
      "outputs": []
    },
    {
      "cell_type": "code",
      "metadata": {
        "id": "9APMMwN3pYwH"
      },
      "source": [
        "clf = DecisionTreeClassifier(criterion=\"entropy\", random_state=0)"
      ],
      "execution_count": null,
      "outputs": []
    },
    {
      "cell_type": "code",
      "metadata": {
        "id": "lPWE-T33pY-f"
      },
      "source": [
        "clf.fit(X_train, y_train)\n",
        "y_pred = clf.predict(X_test)"
      ],
      "execution_count": null,
      "outputs": []
    },
    {
      "cell_type": "code",
      "metadata": {
        "id": "zhDuH4VlJ-Ly"
      },
      "source": [
        "#y_pred1 = clf.predict(X_train)\n",
        "#y_pred1"
      ],
      "execution_count": null,
      "outputs": []
    },
    {
      "cell_type": "code",
      "metadata": {
        "id": "OoZdh0BypqYl",
        "colab": {
          "base_uri": "https://localhost:8080/"
        },
        "outputId": "117cc10a-ede8-4223-8ca7-afc4580da070"
      },
      "source": [
        "y_pred            #y_pred[::10]     #total_condn=39"
      ],
      "execution_count": null,
      "outputs": [
        {
          "output_type": "execute_result",
          "data": {
            "text/plain": [
              "array([ 5,  5, 31, ..., 15, 24, 20])"
            ]
          },
          "metadata": {
            "tags": []
          },
          "execution_count": 125
        }
      ]
    },
    {
      "cell_type": "code",
      "metadata": {
        "id": "snFkKmkCF-SU"
      },
      "source": [
        "#y_test[::10]"
      ],
      "execution_count": null,
      "outputs": []
    },
    {
      "cell_type": "code",
      "metadata": {
        "id": "raADYwMjpuUy",
        "colab": {
          "base_uri": "https://localhost:8080/"
        },
        "outputId": "0f145cde-9d37-4f05-fda2-19ab48bdb04d"
      },
      "source": [
        "from sklearn import metrics                                                                   \n",
        "import matplotlib.pyplot as plt\n",
        "print(\"DecisionTrees's Accuracy: \",round(100* metrics.accuracy_score(y_test, y_pred),2))"
      ],
      "execution_count": null,
      "outputs": [
        {
          "output_type": "stream",
          "text": [
            "DecisionTrees's Accuracy:  80.05\n"
          ],
          "name": "stdout"
        }
      ]
    },
    {
      "cell_type": "markdown",
      "metadata": {
        "id": "3_5jrLi_DfHR"
      },
      "source": [
        "# **Random Forest Algorithm**\n",
        "The Random Forest Algorithm combines the output of multiple (randomly created) Decision Trees to generate the final output.\n"
      ]
    },
    {
      "cell_type": "code",
      "metadata": {
        "id": "yiChOkt-EcA1"
      },
      "source": [
        "from sklearn.ensemble import RandomForestClassifier"
      ],
      "execution_count": null,
      "outputs": []
    },
    {
      "cell_type": "code",
      "metadata": {
        "id": "dkx2G7ImXDi9"
      },
      "source": [
        "rf=RandomForestClassifier(criterion = 'entropy', random_state = 0)"
      ],
      "execution_count": null,
      "outputs": []
    },
    {
      "cell_type": "code",
      "metadata": {
        "id": "mSLJUpQ4aydn",
        "colab": {
          "base_uri": "https://localhost:8080/"
        },
        "outputId": "48a54989-57cb-4492-df23-77aac83d9eec"
      },
      "source": [
        "rf.fit(X_train, y_train)\n",
        "predictions=rf.predict(X_test)\n",
        "print(predictions)"
      ],
      "execution_count": null,
      "outputs": [
        {
          "output_type": "stream",
          "text": [
            "[ 5  5 31 ... 15 24 20]\n"
          ],
          "name": "stdout"
        }
      ]
    },
    {
      "cell_type": "code",
      "metadata": {
        "id": "bhFq5rJGdLsf",
        "colab": {
          "base_uri": "https://localhost:8080/"
        },
        "outputId": "8854f175-72e9-45f8-a3f9-7d028857318d"
      },
      "source": [
        "from sklearn import metrics\n",
        "import matplotlib.pyplot as plt\n",
        "print(\"RandomForest's Accuracy: \",round(100* metrics.accuracy_score(y_test,predictions),2))"
      ],
      "execution_count": null,
      "outputs": [
        {
          "output_type": "stream",
          "text": [
            "RandomForest's Accuracy:  84.8\n"
          ],
          "name": "stdout"
        }
      ]
    },
    {
      "cell_type": "markdown",
      "metadata": {
        "id": "c8KUrNp1dC72"
      },
      "source": [
        "# ML Algorithm  Accuracy(%)\n"
      ]
    },
    {
      "cell_type": "code",
      "metadata": {
        "id": "VKTqu2YF3ftb",
        "colab": {
          "base_uri": "https://localhost:8080/"
        },
        "outputId": "d7b26c6d-4f00-41eb-d78d-91d899e992a4"
      },
      "source": [
        "df1 = pd.DataFrame({'Actual test data': y_test, 'Predicted DT':y_pred,'Predicted RFC':predictions})\n",
        "op = df1[28:40].replace()\t\n",
        "print(op)"
      ],
      "execution_count": null,
      "outputs": [
        {
          "output_type": "stream",
          "text": [
            "    Actual test data  Predicted DT  Predicted RFC\n",
            "28                30             3             30\n",
            "29                 5             5              5\n",
            "30                 5             5              5\n",
            "31                 5             5              5\n",
            "32                15            15             15\n",
            "33                20            20             20\n",
            "34                 3             3              3\n",
            "35                20             5              5\n",
            "36                 5             5              5\n",
            "37                 5             5              5\n",
            "38                 5             5              5\n",
            "39                 5             5              5\n"
          ],
          "name": "stdout"
        }
      ]
    },
    {
      "cell_type": "code",
      "metadata": {
        "id": "eotTRc6iS-Ct",
        "colab": {
          "base_uri": "https://localhost:8080/",
          "height": 523
        },
        "outputId": "e00c30a9-d198-4f22-c484-87709d6fdc0e"
      },
      "source": [
        "x=round(100* metrics.accuracy_score(y_test, y_pred),2)       #dct\n",
        "y=round(100* metrics.accuracy_score(y_test,predictions),2)   #rfc\n",
        "data = {'ML Algorithm': ['Decision tree', 'Random Forest Algorithm '], 'Accuracy(%)': [x,y]}\n",
        "#Z = pd.DataFrame(data).to_string(index={1: 'a'})\n",
        "Z = pd.DataFrame(data,index=['Decision tre', 'Random Forest Algorithm'])\n",
        "Z.plot(figsize=(5,6),kind = 'bar',)"
      ],
      "execution_count": null,
      "outputs": [
        {
          "output_type": "execute_result",
          "data": {
            "text/plain": [
              "<matplotlib.axes._subplots.AxesSubplot at 0x7f80fe4cfbd0>"
            ]
          },
          "metadata": {
            "tags": []
          },
          "execution_count": 142
        },
        {
          "output_type": "display_data",
          "data": {
            "image/png": "[encoded data removed]",
            "text/plain": [
              "<Figure size 360x432 with 1 Axes>"
            ]
          },
          "metadata": {
            "tags": []
          }
        }
      ]
    },
    {
      "cell_type": "code",
      "metadata": {
        "id": "PiDhNkPGHzJj"
      },
      "source": [
        ""
      ],
      "execution_count": null,
      "outputs": []
    },
    {
      "cell_type": "code",
      "metadata": {
        "id": "M4dAappccAt2"
      },
      "source": [
        "X_test[:,(30,31)]\n",
        "a=pd.DataFrame(X_test[:,(30,31)])\n",
        "a['Date'] = a[1].map(str) + '-' + a[0].map(str) \n",
        "b=a['Date']\n",
        "b=np.array(a['Date'])\n"
      ],
      "execution_count": null,
      "outputs": []
    },
    {
      "cell_type": "code",
      "metadata": {
        "id": "6QJoOn_gAZ13"
      },
      "source": [
        "dt=pd.DataFrame(y_pred)\n",
        "d=dt[100:500]\n",
        "\n",
        "rfc=pd.DataFrame(predictions)\n",
        "e=rfc[100:500]\n",
        "\n"
      ],
      "execution_count": null,
      "outputs": []
    },
    {
      "cell_type": "code",
      "metadata": {
        "id": "R_1U3us-ApG7",
        "colab": {
          "base_uri": "https://localhost:8080/"
        },
        "outputId": "4dab3b27-0c67-4973-8c7e-331141895acf"
      },
      "source": [
        "y_pred"
      ],
      "execution_count": null,
      "outputs": [
        {
          "output_type": "execute_result",
          "data": {
            "text/plain": [
              "array([ 5,  5, 31, ..., 15, 24, 20])"
            ]
          },
          "metadata": {
            "tags": []
          },
          "execution_count": 145
        }
      ]
    },
    {
      "cell_type": "code",
      "metadata": {
        "id": "g1kAWlWMiwqB"
      },
      "source": [
        ""
      ],
      "execution_count": null,
      "outputs": []
    },
    {
      "cell_type": "code",
      "metadata": {
        "id": "wEfJkKXanqKF",
        "colab": {
          "base_uri": "https://localhost:8080/",
          "height": 653
        },
        "outputId": "53d01212-12fa-47a6-c1ea-780f3e5c8736"
      },
      "source": [
        "Actual_and_Predicted_Values = pd.DataFrame({'date': b, 'actual': y_test, 'prediction(DT)': y_pred})\n",
        "Actual_and_Predicted_Values.head(20)"
      ],
      "execution_count": null,
      "outputs": [
        {
          "output_type": "execute_result",
          "data": {
            "text/html": [
              "<div>\n",
              "<style scoped>\n",
              "    .dataframe tbody tr th:only-of-type {\n",
              "        vertical-align: middle;\n",
              "    }\n",
              "\n",
              "    .dataframe tbody tr th {\n",
              "        vertical-align: top;\n",
              "    }\n",
              "\n",
              "    .dataframe thead th {\n",
              "        text-align: right;\n",
              "    }\n",
              "</style>\n",
              "<table border=\"1\" class=\"dataframe\">\n",
              "  <thead>\n",
              "    <tr style=\"text-align: right;\">\n",
              "      <th></th>\n",
              "      <th>date</th>\n",
              "      <th>actual</th>\n",
              "      <th>prediction(DT)</th>\n",
              "    </tr>\n",
              "  </thead>\n",
              "  <tbody>\n",
              "    <tr>\n",
              "      <th>0</th>\n",
              "      <td>05-2005</td>\n",
              "      <td>5</td>\n",
              "      <td>5</td>\n",
              "    </tr>\n",
              "    <tr>\n",
              "      <th>1</th>\n",
              "      <td>08-2009</td>\n",
              "      <td>5</td>\n",
              "      <td>5</td>\n",
              "    </tr>\n",
              "    <tr>\n",
              "      <th>2</th>\n",
              "      <td>11-1997</td>\n",
              "      <td>31</td>\n",
              "      <td>31</td>\n",
              "    </tr>\n",
              "    <tr>\n",
              "      <th>3</th>\n",
              "      <td>05-2004</td>\n",
              "      <td>1</td>\n",
              "      <td>24</td>\n",
              "    </tr>\n",
              "    <tr>\n",
              "      <th>4</th>\n",
              "      <td>02-2001</td>\n",
              "      <td>31</td>\n",
              "      <td>31</td>\n",
              "    </tr>\n",
              "    <tr>\n",
              "      <th>5</th>\n",
              "      <td>07-1997</td>\n",
              "      <td>5</td>\n",
              "      <td>5</td>\n",
              "    </tr>\n",
              "    <tr>\n",
              "      <th>6</th>\n",
              "      <td>08-2014</td>\n",
              "      <td>20</td>\n",
              "      <td>20</td>\n",
              "    </tr>\n",
              "    <tr>\n",
              "      <th>7</th>\n",
              "      <td>03-2014</td>\n",
              "      <td>20</td>\n",
              "      <td>20</td>\n",
              "    </tr>\n",
              "    <tr>\n",
              "      <th>8</th>\n",
              "      <td>06-2003</td>\n",
              "      <td>21</td>\n",
              "      <td>21</td>\n",
              "    </tr>\n",
              "    <tr>\n",
              "      <th>9</th>\n",
              "      <td>04-2004</td>\n",
              "      <td>5</td>\n",
              "      <td>5</td>\n",
              "    </tr>\n",
              "    <tr>\n",
              "      <th>10</th>\n",
              "      <td>01-2012</td>\n",
              "      <td>25</td>\n",
              "      <td>11</td>\n",
              "    </tr>\n",
              "    <tr>\n",
              "      <th>11</th>\n",
              "      <td>07-2008</td>\n",
              "      <td>5</td>\n",
              "      <td>5</td>\n",
              "    </tr>\n",
              "    <tr>\n",
              "      <th>12</th>\n",
              "      <td>01-2000</td>\n",
              "      <td>1</td>\n",
              "      <td>21</td>\n",
              "    </tr>\n",
              "    <tr>\n",
              "      <th>13</th>\n",
              "      <td>01-2004</td>\n",
              "      <td>5</td>\n",
              "      <td>1</td>\n",
              "    </tr>\n",
              "    <tr>\n",
              "      <th>14</th>\n",
              "      <td>07-2003</td>\n",
              "      <td>10</td>\n",
              "      <td>22</td>\n",
              "    </tr>\n",
              "    <tr>\n",
              "      <th>15</th>\n",
              "      <td>01-2008</td>\n",
              "      <td>5</td>\n",
              "      <td>5</td>\n",
              "    </tr>\n",
              "    <tr>\n",
              "      <th>16</th>\n",
              "      <td>04-2001</td>\n",
              "      <td>5</td>\n",
              "      <td>24</td>\n",
              "    </tr>\n",
              "    <tr>\n",
              "      <th>17</th>\n",
              "      <td>09-2002</td>\n",
              "      <td>5</td>\n",
              "      <td>5</td>\n",
              "    </tr>\n",
              "    <tr>\n",
              "      <th>18</th>\n",
              "      <td>08-2004</td>\n",
              "      <td>5</td>\n",
              "      <td>5</td>\n",
              "    </tr>\n",
              "    <tr>\n",
              "      <th>19</th>\n",
              "      <td>12-2003</td>\n",
              "      <td>5</td>\n",
              "      <td>29</td>\n",
              "    </tr>\n",
              "  </tbody>\n",
              "</table>\n",
              "</div>"
            ],
            "text/plain": [
              "       date  actual  prediction(DT)\n",
              "0   05-2005       5               5\n",
              "1   08-2009       5               5\n",
              "2   11-1997      31              31\n",
              "3   05-2004       1              24\n",
              "4   02-2001      31              31\n",
              "5   07-1997       5               5\n",
              "6   08-2014      20              20\n",
              "7   03-2014      20              20\n",
              "8   06-2003      21              21\n",
              "9   04-2004       5               5\n",
              "10  01-2012      25              11\n",
              "11  07-2008       5               5\n",
              "12  01-2000       1              21\n",
              "13  01-2004       5               1\n",
              "14  07-2003      10              22\n",
              "15  01-2008       5               5\n",
              "16  04-2001       5              24\n",
              "17  09-2002       5               5\n",
              "18  08-2004       5               5\n",
              "19  12-2003       5              29"
            ]
          },
          "metadata": {
            "tags": []
          },
          "execution_count": 150
        }
      ]
    },
    {
      "cell_type": "code",
      "metadata": {
        "id": "MGv6c8khou5o",
        "colab": {
          "base_uri": "https://localhost:8080/",
          "height": 408
        },
        "outputId": "a0962c22-77c2-470c-fffc-82eacbf1d6b2"
      },
      "source": [
        "Two_models_prediction = pd.DataFrame({'date': b,'actual': y_test,'prediction(DT)': y_pred,'prediction(RFC)':predictions})\n",
        "Two_models_prediction"
      ],
      "execution_count": null,
      "outputs": [
        {
          "output_type": "execute_result",
          "data": {
            "text/html": [
              "<div>\n",
              "<style scoped>\n",
              "    .dataframe tbody tr th:only-of-type {\n",
              "        vertical-align: middle;\n",
              "    }\n",
              "\n",
              "    .dataframe tbody tr th {\n",
              "        vertical-align: top;\n",
              "    }\n",
              "\n",
              "    .dataframe thead th {\n",
              "        text-align: right;\n",
              "    }\n",
              "</style>\n",
              "<table border=\"1\" class=\"dataframe\">\n",
              "  <thead>\n",
              "    <tr style=\"text-align: right;\">\n",
              "      <th></th>\n",
              "      <th>date</th>\n",
              "      <th>actual</th>\n",
              "      <th>prediction(DT)</th>\n",
              "      <th>prediction(RFC)</th>\n",
              "    </tr>\n",
              "  </thead>\n",
              "  <tbody>\n",
              "    <tr>\n",
              "      <th>0</th>\n",
              "      <td>05-2005</td>\n",
              "      <td>5</td>\n",
              "      <td>5</td>\n",
              "      <td>5</td>\n",
              "    </tr>\n",
              "    <tr>\n",
              "      <th>1</th>\n",
              "      <td>08-2009</td>\n",
              "      <td>5</td>\n",
              "      <td>5</td>\n",
              "      <td>5</td>\n",
              "    </tr>\n",
              "    <tr>\n",
              "      <th>2</th>\n",
              "      <td>11-1997</td>\n",
              "      <td>31</td>\n",
              "      <td>31</td>\n",
              "      <td>31</td>\n",
              "    </tr>\n",
              "    <tr>\n",
              "      <th>3</th>\n",
              "      <td>05-2004</td>\n",
              "      <td>1</td>\n",
              "      <td>24</td>\n",
              "      <td>24</td>\n",
              "    </tr>\n",
              "    <tr>\n",
              "      <th>4</th>\n",
              "      <td>02-2001</td>\n",
              "      <td>31</td>\n",
              "      <td>31</td>\n",
              "      <td>31</td>\n",
              "    </tr>\n",
              "    <tr>\n",
              "      <th>...</th>\n",
              "      <td>...</td>\n",
              "      <td>...</td>\n",
              "      <td>...</td>\n",
              "      <td>...</td>\n",
              "    </tr>\n",
              "    <tr>\n",
              "      <th>25243</th>\n",
              "      <td>01-2000</td>\n",
              "      <td>31</td>\n",
              "      <td>31</td>\n",
              "      <td>31</td>\n",
              "    </tr>\n",
              "    <tr>\n",
              "      <th>25244</th>\n",
              "      <td>04-2001</td>\n",
              "      <td>5</td>\n",
              "      <td>5</td>\n",
              "      <td>5</td>\n",
              "    </tr>\n",
              "    <tr>\n",
              "      <th>25245</th>\n",
              "      <td>08-2006</td>\n",
              "      <td>15</td>\n",
              "      <td>15</td>\n",
              "      <td>15</td>\n",
              "    </tr>\n",
              "    <tr>\n",
              "      <th>25246</th>\n",
              "      <td>09-2003</td>\n",
              "      <td>24</td>\n",
              "      <td>24</td>\n",
              "      <td>24</td>\n",
              "    </tr>\n",
              "    <tr>\n",
              "      <th>25247</th>\n",
              "      <td>12-2005</td>\n",
              "      <td>20</td>\n",
              "      <td>20</td>\n",
              "      <td>20</td>\n",
              "    </tr>\n",
              "  </tbody>\n",
              "</table>\n",
              "<p>25248 rows × 4 columns</p>\n",
              "</div>"
            ],
            "text/plain": [
              "          date  actual  prediction(DT)  prediction(RFC)\n",
              "0      05-2005       5               5                5\n",
              "1      08-2009       5               5                5\n",
              "2      11-1997      31              31               31\n",
              "3      05-2004       1              24               24\n",
              "4      02-2001      31              31               31\n",
              "...        ...     ...             ...              ...\n",
              "25243  01-2000      31              31               31\n",
              "25244  04-2001       5               5                5\n",
              "25245  08-2006      15              15               15\n",
              "25246  09-2003      24              24               24\n",
              "25247  12-2005      20              20               20\n",
              "\n",
              "[25248 rows x 4 columns]"
            ]
          },
          "metadata": {
            "tags": []
          },
          "execution_count": 153
        }
      ]
    }
  ]
}