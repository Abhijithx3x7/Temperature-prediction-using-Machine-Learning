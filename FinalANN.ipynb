{
  "nbformat": 4,
  "nbformat_minor": 0,
  "metadata": {
    "colab": {
      "name": "FinalANN.ipynb",
      "provenance": []
    },
    "kernelspec": {
      "name": "python3",
      "display_name": "Python 3"
    },
    "language_info": {
      "name": "python"
    },
    "accelerator": "GPU"
  },
  "cells": [
    {
      "cell_type": "code",
      "metadata": {
        "id": "QIRx216z6-87"
      },
      "source": [
        "import pandas as pd\n",
        "import numpy as np\n"
      ],
      "execution_count": null,
      "outputs": []
    },
    {
      "cell_type": "code",
      "metadata": {
        "id": "PuhFxyet7Epy"
      },
      "source": [
        "data_set = pd.read_csv('/content/drive/My Drive/archivetemptestset.csv')"
      ],
      "execution_count": null,
      "outputs": []
    },
    {
      "cell_type": "code",
      "metadata": {
        "colab": {
          "base_uri": "https://localhost:8080/"
        },
        "id": "PIlxL7y87TW_",
        "outputId": "a030e6ba-0e3f-47b2-af8a-fa511cedc854"
      },
      "source": [
        "data_set.isnull().sum()"
      ],
      "execution_count": null,
      "outputs": [
        {
          "output_type": "execute_result",
          "data": {
            "text/plain": [
              "Unnamed: 0          0\n",
              "datetime_utc        0\n",
              "_conds              0\n",
              "_dewptm             0\n",
              "_fog                0\n",
              "_hail               0\n",
              "_hum                0\n",
              "_pressurem          0\n",
              "_rain               0\n",
              "_snow               0\n",
              "_tempm            673\n",
              "_thunder            0\n",
              "_tornado            0\n",
              "_vism               0\n",
              "_wdird          14755\n",
              "_wdire          14755\n",
              "_wspdm              0\n",
              "dtype: int64"
            ]
          },
          "metadata": {
            "tags": []
          },
          "execution_count": 67
        }
      ]
    },
    {
      "cell_type": "code",
      "metadata": {
        "colab": {
          "base_uri": "https://localhost:8080/",
          "height": 243
        },
        "id": "HMUt0H-pDhFT",
        "outputId": "083e195a-b12c-4116-90bc-0430449e6d21"
      },
      "source": [
        "data_set.head()"
      ],
      "execution_count": null,
      "outputs": [
        {
          "output_type": "execute_result",
          "data": {
            "text/html": [
              "<div>\n",
              "<style scoped>\n",
              "    .dataframe tbody tr th:only-of-type {\n",
              "        vertical-align: middle;\n",
              "    }\n",
              "\n",
              "    .dataframe tbody tr th {\n",
              "        vertical-align: top;\n",
              "    }\n",
              "\n",
              "    .dataframe thead th {\n",
              "        text-align: right;\n",
              "    }\n",
              "</style>\n",
              "<table border=\"1\" class=\"dataframe\">\n",
              "  <thead>\n",
              "    <tr style=\"text-align: right;\">\n",
              "      <th></th>\n",
              "      <th>Unnamed: 0</th>\n",
              "      <th>datetime_utc</th>\n",
              "      <th>_conds</th>\n",
              "      <th>_dewptm</th>\n",
              "      <th>_fog</th>\n",
              "      <th>_hail</th>\n",
              "      <th>_hum</th>\n",
              "      <th>_pressurem</th>\n",
              "      <th>_rain</th>\n",
              "      <th>_snow</th>\n",
              "      <th>_tempm</th>\n",
              "      <th>_thunder</th>\n",
              "      <th>_tornado</th>\n",
              "      <th>_vism</th>\n",
              "      <th>_wdird</th>\n",
              "      <th>_wdire</th>\n",
              "      <th>_wspdm</th>\n",
              "    </tr>\n",
              "  </thead>\n",
              "  <tbody>\n",
              "    <tr>\n",
              "      <th>0</th>\n",
              "      <td>0</td>\n",
              "      <td>19961101-11:00</td>\n",
              "      <td>Smoke</td>\n",
              "      <td>9.0</td>\n",
              "      <td>0</td>\n",
              "      <td>0</td>\n",
              "      <td>27.0</td>\n",
              "      <td>1010.0</td>\n",
              "      <td>0</td>\n",
              "      <td>0</td>\n",
              "      <td>30.0</td>\n",
              "      <td>0</td>\n",
              "      <td>0</td>\n",
              "      <td>5.0</td>\n",
              "      <td>280.0</td>\n",
              "      <td>West</td>\n",
              "      <td>7.4</td>\n",
              "    </tr>\n",
              "    <tr>\n",
              "      <th>1</th>\n",
              "      <td>1</td>\n",
              "      <td>19961101-12:00</td>\n",
              "      <td>Smoke</td>\n",
              "      <td>10.0</td>\n",
              "      <td>0</td>\n",
              "      <td>0</td>\n",
              "      <td>32.0</td>\n",
              "      <td>1008.0</td>\n",
              "      <td>0</td>\n",
              "      <td>0</td>\n",
              "      <td>28.0</td>\n",
              "      <td>0</td>\n",
              "      <td>0</td>\n",
              "      <td>2.0</td>\n",
              "      <td>0.0</td>\n",
              "      <td>North</td>\n",
              "      <td>7.0</td>\n",
              "    </tr>\n",
              "    <tr>\n",
              "      <th>2</th>\n",
              "      <td>2</td>\n",
              "      <td>19961101-13:00</td>\n",
              "      <td>Smoke</td>\n",
              "      <td>11.0</td>\n",
              "      <td>0</td>\n",
              "      <td>0</td>\n",
              "      <td>44.0</td>\n",
              "      <td>1008.0</td>\n",
              "      <td>0</td>\n",
              "      <td>0</td>\n",
              "      <td>24.0</td>\n",
              "      <td>0</td>\n",
              "      <td>0</td>\n",
              "      <td>2.0</td>\n",
              "      <td>0.0</td>\n",
              "      <td>North</td>\n",
              "      <td>7.0</td>\n",
              "    </tr>\n",
              "    <tr>\n",
              "      <th>3</th>\n",
              "      <td>3</td>\n",
              "      <td>19961101-14:00</td>\n",
              "      <td>Smoke</td>\n",
              "      <td>10.0</td>\n",
              "      <td>0</td>\n",
              "      <td>0</td>\n",
              "      <td>41.0</td>\n",
              "      <td>1010.0</td>\n",
              "      <td>0</td>\n",
              "      <td>0</td>\n",
              "      <td>24.0</td>\n",
              "      <td>0</td>\n",
              "      <td>0</td>\n",
              "      <td>2.0</td>\n",
              "      <td>0.0</td>\n",
              "      <td>North</td>\n",
              "      <td>7.0</td>\n",
              "    </tr>\n",
              "    <tr>\n",
              "      <th>4</th>\n",
              "      <td>4</td>\n",
              "      <td>19961101-16:00</td>\n",
              "      <td>Smoke</td>\n",
              "      <td>11.0</td>\n",
              "      <td>0</td>\n",
              "      <td>0</td>\n",
              "      <td>47.0</td>\n",
              "      <td>1011.0</td>\n",
              "      <td>0</td>\n",
              "      <td>0</td>\n",
              "      <td>23.0</td>\n",
              "      <td>0</td>\n",
              "      <td>0</td>\n",
              "      <td>1.2</td>\n",
              "      <td>0.0</td>\n",
              "      <td>North</td>\n",
              "      <td>0.0</td>\n",
              "    </tr>\n",
              "  </tbody>\n",
              "</table>\n",
              "</div>"
            ],
            "text/plain": [
              "   Unnamed: 0    datetime_utc _conds  _dewptm  ...  _vism  _wdird  _wdire  _wspdm\n",
              "0           0  19961101-11:00  Smoke      9.0  ...    5.0   280.0    West     7.4\n",
              "1           1  19961101-12:00  Smoke     10.0  ...    2.0     0.0   North     7.0\n",
              "2           2  19961101-13:00  Smoke     11.0  ...    2.0     0.0   North     7.0\n",
              "3           3  19961101-14:00  Smoke     10.0  ...    2.0     0.0   North     7.0\n",
              "4           4  19961101-16:00  Smoke     11.0  ...    1.2     0.0   North     0.0\n",
              "\n",
              "[5 rows x 17 columns]"
            ]
          },
          "metadata": {
            "tags": []
          },
          "execution_count": 52
        }
      ]
    },
    {
      "cell_type": "code",
      "metadata": {
        "id": "5Fb3qmjm-5M9"
      },
      "source": [
        "data_set['_conds'] = data_set['_conds'].fillna(\"Unknown\")"
      ],
      "execution_count": null,
      "outputs": []
    },
    {
      "cell_type": "code",
      "metadata": {
        "id": "Hb-6kD3uAjxE"
      },
      "source": [
        "data_set['_dewptm'] = data_set['_dewptm'].fillna(data_set[\"_dewptm\"].mean())"
      ],
      "execution_count": null,
      "outputs": []
    },
    {
      "cell_type": "code",
      "metadata": {
        "id": "c0qzh-dGBQLY"
      },
      "source": [
        "data_set['_hum'] = data_set['_hum'].fillna(int(data_set[\"_hum\"].mean()))"
      ],
      "execution_count": null,
      "outputs": []
    },
    {
      "cell_type": "code",
      "metadata": {
        "id": "3ssQEzT4DPfY"
      },
      "source": [
        "data_set['_pressurem'] = data_set['_pressurem'].replace(-9999.0, data_set['_pressurem'].median())"
      ],
      "execution_count": null,
      "outputs": []
    },
    {
      "cell_type": "code",
      "metadata": {
        "id": "eAR83aTZBr8a"
      },
      "source": [
        "data_set['_pressurem'] = data_set['_pressurem'].fillna(int(data_set[\"_pressurem\"].mean()))"
      ],
      "execution_count": null,
      "outputs": []
    },
    {
      "cell_type": "code",
      "metadata": {
        "id": "zGi8OchiFsXA"
      },
      "source": [
        "data_set['_wspdm'] = data_set['_wspdm'].fillna(int(data_set[\"_wspdm\"].mean()))"
      ],
      "execution_count": null,
      "outputs": []
    },
    {
      "cell_type": "code",
      "metadata": {
        "id": "Yaneh51wJBkS"
      },
      "source": [
        "data_set['_vism'] = data_set['_vism'].fillna(int(data_set[\"_vism\"].mean()))"
      ],
      "execution_count": null,
      "outputs": []
    },
    {
      "cell_type": "code",
      "metadata": {
        "id": "GzDuFZnaJSVk"
      },
      "source": [
        "data_set.to_csv(\"cleaned_data.csv\")"
      ],
      "execution_count": null,
      "outputs": []
    },
    {
      "cell_type": "code",
      "metadata": {
        "id": "OjTbkILYBjAu"
      },
      "source": [
        "data_set = data_set.dropna()"
      ],
      "execution_count": null,
      "outputs": []
    },
    {
      "cell_type": "code",
      "metadata": {
        "id": "-psgmjZ4Jgwa",
        "colab": {
          "base_uri": "https://localhost:8080/"
        },
        "outputId": "3f8b0adc-b451-403c-a309-a43d049bb9c6"
      },
      "source": [
        "len(data_set)"
      ],
      "execution_count": null,
      "outputs": [
        {
          "output_type": "execute_result",
          "data": {
            "text/plain": [
              "85578"
            ]
          },
          "metadata": {
            "tags": []
          },
          "execution_count": 69
        }
      ]
    },
    {
      "cell_type": "code",
      "metadata": {
        "id": "1ipLwKCNLebJ"
      },
      "source": [
        "data_set = data_set.drop(['datetime_utc'], axis=1)"
      ],
      "execution_count": null,
      "outputs": []
    },
    {
      "cell_type": "code",
      "metadata": {
        "id": "aqTZrC11LyS5"
      },
      "source": [
        "y = data_set['_tempm']"
      ],
      "execution_count": null,
      "outputs": []
    },
    {
      "cell_type": "code",
      "metadata": {
        "colab": {
          "base_uri": "https://localhost:8080/"
        },
        "id": "fppg8x1WMI0y",
        "outputId": "67462500-1296-4cd4-a93b-ec2c729e87b7"
      },
      "source": [
        "y"
      ],
      "execution_count": null,
      "outputs": [
        {
          "output_type": "execute_result",
          "data": {
            "text/plain": [
              "0         30.0\n",
              "1         28.0\n",
              "2         24.0\n",
              "3         24.0\n",
              "4         23.0\n",
              "          ... \n",
              "100985    34.0\n",
              "100986    38.0\n",
              "100987    36.0\n",
              "100988    32.0\n",
              "100989    30.0\n",
              "Name: _tempm, Length: 85578, dtype: float64"
            ]
          },
          "metadata": {
            "tags": []
          },
          "execution_count": 71
        }
      ]
    },
    {
      "cell_type": "code",
      "metadata": {
        "colab": {
          "base_uri": "https://localhost:8080/",
          "height": 461
        },
        "id": "RGzEjhIrMjhD",
        "outputId": "bcb6e621-3285-4c64-c2b0-7073f265c5d7"
      },
      "source": [
        "data_set"
      ],
      "execution_count": null,
      "outputs": [
        {
          "output_type": "execute_result",
          "data": {
            "text/html": [
              "<div>\n",
              "<style scoped>\n",
              "    .dataframe tbody tr th:only-of-type {\n",
              "        vertical-align: middle;\n",
              "    }\n",
              "\n",
              "    .dataframe tbody tr th {\n",
              "        vertical-align: top;\n",
              "    }\n",
              "\n",
              "    .dataframe thead th {\n",
              "        text-align: right;\n",
              "    }\n",
              "</style>\n",
              "<table border=\"1\" class=\"dataframe\">\n",
              "  <thead>\n",
              "    <tr style=\"text-align: right;\">\n",
              "      <th></th>\n",
              "      <th>Unnamed: 0</th>\n",
              "      <th>datetime_utc</th>\n",
              "      <th>_conds</th>\n",
              "      <th>_dewptm</th>\n",
              "      <th>_fog</th>\n",
              "      <th>_hail</th>\n",
              "      <th>_hum</th>\n",
              "      <th>_pressurem</th>\n",
              "      <th>_rain</th>\n",
              "      <th>_snow</th>\n",
              "      <th>_tempm</th>\n",
              "      <th>_thunder</th>\n",
              "      <th>_tornado</th>\n",
              "      <th>_vism</th>\n",
              "      <th>_wdird</th>\n",
              "      <th>_wdire</th>\n",
              "      <th>_wspdm</th>\n",
              "    </tr>\n",
              "  </thead>\n",
              "  <tbody>\n",
              "    <tr>\n",
              "      <th>0</th>\n",
              "      <td>0</td>\n",
              "      <td>19961101-11:00</td>\n",
              "      <td>Smoke</td>\n",
              "      <td>9.0</td>\n",
              "      <td>0</td>\n",
              "      <td>0</td>\n",
              "      <td>27.0</td>\n",
              "      <td>1010.0</td>\n",
              "      <td>0</td>\n",
              "      <td>0</td>\n",
              "      <td>30.0</td>\n",
              "      <td>0</td>\n",
              "      <td>0</td>\n",
              "      <td>5.0</td>\n",
              "      <td>280.0</td>\n",
              "      <td>West</td>\n",
              "      <td>7.4</td>\n",
              "    </tr>\n",
              "    <tr>\n",
              "      <th>1</th>\n",
              "      <td>1</td>\n",
              "      <td>19961101-12:00</td>\n",
              "      <td>Smoke</td>\n",
              "      <td>10.0</td>\n",
              "      <td>0</td>\n",
              "      <td>0</td>\n",
              "      <td>32.0</td>\n",
              "      <td>1008.0</td>\n",
              "      <td>0</td>\n",
              "      <td>0</td>\n",
              "      <td>28.0</td>\n",
              "      <td>0</td>\n",
              "      <td>0</td>\n",
              "      <td>2.0</td>\n",
              "      <td>0.0</td>\n",
              "      <td>North</td>\n",
              "      <td>7.0</td>\n",
              "    </tr>\n",
              "    <tr>\n",
              "      <th>2</th>\n",
              "      <td>2</td>\n",
              "      <td>19961101-13:00</td>\n",
              "      <td>Smoke</td>\n",
              "      <td>11.0</td>\n",
              "      <td>0</td>\n",
              "      <td>0</td>\n",
              "      <td>44.0</td>\n",
              "      <td>1008.0</td>\n",
              "      <td>0</td>\n",
              "      <td>0</td>\n",
              "      <td>24.0</td>\n",
              "      <td>0</td>\n",
              "      <td>0</td>\n",
              "      <td>2.0</td>\n",
              "      <td>0.0</td>\n",
              "      <td>North</td>\n",
              "      <td>7.0</td>\n",
              "    </tr>\n",
              "    <tr>\n",
              "      <th>3</th>\n",
              "      <td>3</td>\n",
              "      <td>19961101-14:00</td>\n",
              "      <td>Smoke</td>\n",
              "      <td>10.0</td>\n",
              "      <td>0</td>\n",
              "      <td>0</td>\n",
              "      <td>41.0</td>\n",
              "      <td>1010.0</td>\n",
              "      <td>0</td>\n",
              "      <td>0</td>\n",
              "      <td>24.0</td>\n",
              "      <td>0</td>\n",
              "      <td>0</td>\n",
              "      <td>2.0</td>\n",
              "      <td>0.0</td>\n",
              "      <td>North</td>\n",
              "      <td>7.0</td>\n",
              "    </tr>\n",
              "    <tr>\n",
              "      <th>4</th>\n",
              "      <td>4</td>\n",
              "      <td>19961101-16:00</td>\n",
              "      <td>Smoke</td>\n",
              "      <td>11.0</td>\n",
              "      <td>0</td>\n",
              "      <td>0</td>\n",
              "      <td>47.0</td>\n",
              "      <td>1011.0</td>\n",
              "      <td>0</td>\n",
              "      <td>0</td>\n",
              "      <td>23.0</td>\n",
              "      <td>0</td>\n",
              "      <td>0</td>\n",
              "      <td>1.2</td>\n",
              "      <td>0.0</td>\n",
              "      <td>North</td>\n",
              "      <td>0.0</td>\n",
              "    </tr>\n",
              "    <tr>\n",
              "      <th>...</th>\n",
              "      <td>...</td>\n",
              "      <td>...</td>\n",
              "      <td>...</td>\n",
              "      <td>...</td>\n",
              "      <td>...</td>\n",
              "      <td>...</td>\n",
              "      <td>...</td>\n",
              "      <td>...</td>\n",
              "      <td>...</td>\n",
              "      <td>...</td>\n",
              "      <td>...</td>\n",
              "      <td>...</td>\n",
              "      <td>...</td>\n",
              "      <td>...</td>\n",
              "      <td>...</td>\n",
              "      <td>...</td>\n",
              "      <td>...</td>\n",
              "    </tr>\n",
              "    <tr>\n",
              "      <th>100985</th>\n",
              "      <td>100985</td>\n",
              "      <td>20170424-06:00</td>\n",
              "      <td>Haze</td>\n",
              "      <td>17.0</td>\n",
              "      <td>0</td>\n",
              "      <td>0</td>\n",
              "      <td>25.0</td>\n",
              "      <td>1005.0</td>\n",
              "      <td>0</td>\n",
              "      <td>0</td>\n",
              "      <td>34.0</td>\n",
              "      <td>0</td>\n",
              "      <td>0</td>\n",
              "      <td>4.0</td>\n",
              "      <td>320.0</td>\n",
              "      <td>NW</td>\n",
              "      <td>11.1</td>\n",
              "    </tr>\n",
              "    <tr>\n",
              "      <th>100986</th>\n",
              "      <td>100986</td>\n",
              "      <td>20170424-09:00</td>\n",
              "      <td>Haze</td>\n",
              "      <td>14.0</td>\n",
              "      <td>0</td>\n",
              "      <td>0</td>\n",
              "      <td>16.0</td>\n",
              "      <td>1003.0</td>\n",
              "      <td>0</td>\n",
              "      <td>0</td>\n",
              "      <td>38.0</td>\n",
              "      <td>0</td>\n",
              "      <td>0</td>\n",
              "      <td>4.0</td>\n",
              "      <td>320.0</td>\n",
              "      <td>NW</td>\n",
              "      <td>22.2</td>\n",
              "    </tr>\n",
              "    <tr>\n",
              "      <th>100987</th>\n",
              "      <td>100987</td>\n",
              "      <td>20170424-12:00</td>\n",
              "      <td>Haze</td>\n",
              "      <td>12.0</td>\n",
              "      <td>0</td>\n",
              "      <td>0</td>\n",
              "      <td>14.0</td>\n",
              "      <td>1002.0</td>\n",
              "      <td>0</td>\n",
              "      <td>0</td>\n",
              "      <td>36.0</td>\n",
              "      <td>0</td>\n",
              "      <td>0</td>\n",
              "      <td>4.0</td>\n",
              "      <td>270.0</td>\n",
              "      <td>West</td>\n",
              "      <td>18.5</td>\n",
              "    </tr>\n",
              "    <tr>\n",
              "      <th>100988</th>\n",
              "      <td>100988</td>\n",
              "      <td>20170424-15:00</td>\n",
              "      <td>Haze</td>\n",
              "      <td>15.0</td>\n",
              "      <td>0</td>\n",
              "      <td>0</td>\n",
              "      <td>27.0</td>\n",
              "      <td>1004.0</td>\n",
              "      <td>0</td>\n",
              "      <td>0</td>\n",
              "      <td>32.0</td>\n",
              "      <td>0</td>\n",
              "      <td>0</td>\n",
              "      <td>2.0</td>\n",
              "      <td>320.0</td>\n",
              "      <td>NW</td>\n",
              "      <td>3.7</td>\n",
              "    </tr>\n",
              "    <tr>\n",
              "      <th>100989</th>\n",
              "      <td>100989</td>\n",
              "      <td>20170424-18:00</td>\n",
              "      <td>Haze</td>\n",
              "      <td>15.0</td>\n",
              "      <td>0</td>\n",
              "      <td>0</td>\n",
              "      <td>30.0</td>\n",
              "      <td>1005.0</td>\n",
              "      <td>0</td>\n",
              "      <td>0</td>\n",
              "      <td>30.0</td>\n",
              "      <td>0</td>\n",
              "      <td>0</td>\n",
              "      <td>2.0</td>\n",
              "      <td>320.0</td>\n",
              "      <td>NW</td>\n",
              "      <td>3.7</td>\n",
              "    </tr>\n",
              "  </tbody>\n",
              "</table>\n",
              "<p>85578 rows × 17 columns</p>\n",
              "</div>"
            ],
            "text/plain": [
              "        Unnamed: 0    datetime_utc _conds  ...  _wdird  _wdire  _wspdm\n",
              "0                0  19961101-11:00  Smoke  ...   280.0    West     7.4\n",
              "1                1  19961101-12:00  Smoke  ...     0.0   North     7.0\n",
              "2                2  19961101-13:00  Smoke  ...     0.0   North     7.0\n",
              "3                3  19961101-14:00  Smoke  ...     0.0   North     7.0\n",
              "4                4  19961101-16:00  Smoke  ...     0.0   North     0.0\n",
              "...            ...             ...    ...  ...     ...     ...     ...\n",
              "100985      100985  20170424-06:00   Haze  ...   320.0      NW    11.1\n",
              "100986      100986  20170424-09:00   Haze  ...   320.0      NW    22.2\n",
              "100987      100987  20170424-12:00   Haze  ...   270.0    West    18.5\n",
              "100988      100988  20170424-15:00   Haze  ...   320.0      NW     3.7\n",
              "100989      100989  20170424-18:00   Haze  ...   320.0      NW     3.7\n",
              "\n",
              "[85578 rows x 17 columns]"
            ]
          },
          "metadata": {
            "tags": []
          },
          "execution_count": 56
        }
      ]
    },
    {
      "cell_type": "code",
      "metadata": {
        "colab": {
          "base_uri": "https://localhost:8080/",
          "height": 243
        },
        "id": "P5TPPXqwBxR9",
        "outputId": "99da2a66-6b8c-4404-d399-2de14896a258"
      },
      "source": [
        "from sklearn.preprocessing import LabelEncoder#label encoder can't handle missing values\n",
        "\n",
        "label_encoder = LabelEncoder()\n",
        "data_set['_conds'] = label_encoder.fit_transform(data_set['_conds'])# Print sample of dataset\n",
        "data_set.head()"
      ],
      "execution_count": null,
      "outputs": [
        {
          "output_type": "execute_result",
          "data": {
            "text/html": [
              "<div>\n",
              "<style scoped>\n",
              "    .dataframe tbody tr th:only-of-type {\n",
              "        vertical-align: middle;\n",
              "    }\n",
              "\n",
              "    .dataframe tbody tr th {\n",
              "        vertical-align: top;\n",
              "    }\n",
              "\n",
              "    .dataframe thead th {\n",
              "        text-align: right;\n",
              "    }\n",
              "</style>\n",
              "<table border=\"1\" class=\"dataframe\">\n",
              "  <thead>\n",
              "    <tr style=\"text-align: right;\">\n",
              "      <th></th>\n",
              "      <th>Unnamed: 0</th>\n",
              "      <th>datetime_utc</th>\n",
              "      <th>_conds</th>\n",
              "      <th>_dewptm</th>\n",
              "      <th>_fog</th>\n",
              "      <th>_hail</th>\n",
              "      <th>_hum</th>\n",
              "      <th>_pressurem</th>\n",
              "      <th>_rain</th>\n",
              "      <th>_snow</th>\n",
              "      <th>_tempm</th>\n",
              "      <th>_thunder</th>\n",
              "      <th>_tornado</th>\n",
              "      <th>_vism</th>\n",
              "      <th>_wdird</th>\n",
              "      <th>_wdire</th>\n",
              "      <th>_wspdm</th>\n",
              "    </tr>\n",
              "  </thead>\n",
              "  <tbody>\n",
              "    <tr>\n",
              "      <th>0</th>\n",
              "      <td>0</td>\n",
              "      <td>19961101-11:00</td>\n",
              "      <td>30</td>\n",
              "      <td>9.0</td>\n",
              "      <td>0</td>\n",
              "      <td>0</td>\n",
              "      <td>27.0</td>\n",
              "      <td>1010.0</td>\n",
              "      <td>0</td>\n",
              "      <td>0</td>\n",
              "      <td>30.0</td>\n",
              "      <td>0</td>\n",
              "      <td>0</td>\n",
              "      <td>5.0</td>\n",
              "      <td>280.0</td>\n",
              "      <td>West</td>\n",
              "      <td>7.4</td>\n",
              "    </tr>\n",
              "    <tr>\n",
              "      <th>1</th>\n",
              "      <td>1</td>\n",
              "      <td>19961101-12:00</td>\n",
              "      <td>30</td>\n",
              "      <td>10.0</td>\n",
              "      <td>0</td>\n",
              "      <td>0</td>\n",
              "      <td>32.0</td>\n",
              "      <td>1008.0</td>\n",
              "      <td>0</td>\n",
              "      <td>0</td>\n",
              "      <td>28.0</td>\n",
              "      <td>0</td>\n",
              "      <td>0</td>\n",
              "      <td>2.0</td>\n",
              "      <td>0.0</td>\n",
              "      <td>North</td>\n",
              "      <td>7.0</td>\n",
              "    </tr>\n",
              "    <tr>\n",
              "      <th>2</th>\n",
              "      <td>2</td>\n",
              "      <td>19961101-13:00</td>\n",
              "      <td>30</td>\n",
              "      <td>11.0</td>\n",
              "      <td>0</td>\n",
              "      <td>0</td>\n",
              "      <td>44.0</td>\n",
              "      <td>1008.0</td>\n",
              "      <td>0</td>\n",
              "      <td>0</td>\n",
              "      <td>24.0</td>\n",
              "      <td>0</td>\n",
              "      <td>0</td>\n",
              "      <td>2.0</td>\n",
              "      <td>0.0</td>\n",
              "      <td>North</td>\n",
              "      <td>7.0</td>\n",
              "    </tr>\n",
              "    <tr>\n",
              "      <th>3</th>\n",
              "      <td>3</td>\n",
              "      <td>19961101-14:00</td>\n",
              "      <td>30</td>\n",
              "      <td>10.0</td>\n",
              "      <td>0</td>\n",
              "      <td>0</td>\n",
              "      <td>41.0</td>\n",
              "      <td>1010.0</td>\n",
              "      <td>0</td>\n",
              "      <td>0</td>\n",
              "      <td>24.0</td>\n",
              "      <td>0</td>\n",
              "      <td>0</td>\n",
              "      <td>2.0</td>\n",
              "      <td>0.0</td>\n",
              "      <td>North</td>\n",
              "      <td>7.0</td>\n",
              "    </tr>\n",
              "    <tr>\n",
              "      <th>4</th>\n",
              "      <td>4</td>\n",
              "      <td>19961101-16:00</td>\n",
              "      <td>30</td>\n",
              "      <td>11.0</td>\n",
              "      <td>0</td>\n",
              "      <td>0</td>\n",
              "      <td>47.0</td>\n",
              "      <td>1011.0</td>\n",
              "      <td>0</td>\n",
              "      <td>0</td>\n",
              "      <td>23.0</td>\n",
              "      <td>0</td>\n",
              "      <td>0</td>\n",
              "      <td>1.2</td>\n",
              "      <td>0.0</td>\n",
              "      <td>North</td>\n",
              "      <td>0.0</td>\n",
              "    </tr>\n",
              "  </tbody>\n",
              "</table>\n",
              "</div>"
            ],
            "text/plain": [
              "   Unnamed: 0    datetime_utc  _conds  _dewptm  ...  _vism  _wdird  _wdire  _wspdm\n",
              "0           0  19961101-11:00      30      9.0  ...    5.0   280.0    West     7.4\n",
              "1           1  19961101-12:00      30     10.0  ...    2.0     0.0   North     7.0\n",
              "2           2  19961101-13:00      30     11.0  ...    2.0     0.0   North     7.0\n",
              "3           3  19961101-14:00      30     10.0  ...    2.0     0.0   North     7.0\n",
              "4           4  19961101-16:00      30     11.0  ...    1.2     0.0   North     0.0\n",
              "\n",
              "[5 rows x 17 columns]"
            ]
          },
          "metadata": {
            "tags": []
          },
          "execution_count": 72
        }
      ]
    },
    {
      "cell_type": "code",
      "metadata": {
        "id": "oL5oumo3Eou8"
      },
      "source": [
        "from sklearn.compose import ColumnTransformer\n",
        "from sklearn.preprocessing import OneHotEncoder\n",
        "# creating one hot encoder object with categorical feature 0\n",
        "# indicating the first column\n",
        "columnTransformer = ColumnTransformer([('encoder',\n",
        "                                        OneHotEncoder(),\n",
        "                                        [2])],\n",
        "                                      remainder='passthrough')\n",
        "  \n",
        "data_set = pd.DataFrame(columnTransformer.fit_transform(data_set))"
      ],
      "execution_count": null,
      "outputs": []
    },
    {
      "cell_type": "code",
      "metadata": {
        "colab": {
          "base_uri": "https://localhost:8080/",
          "height": 444
        },
        "id": "vq6KqR89H_Ur",
        "outputId": "b26dfb0b-9f1f-49db-e7b6-70d40062cfc2"
      },
      "source": [
        "data_set"
      ],
      "execution_count": null,
      "outputs": [
        {
          "output_type": "execute_result",
          "data": {
            "text/html": [
              "<div>\n",
              "<style scoped>\n",
              "    .dataframe tbody tr th:only-of-type {\n",
              "        vertical-align: middle;\n",
              "    }\n",
              "\n",
              "    .dataframe tbody tr th {\n",
              "        vertical-align: top;\n",
              "    }\n",
              "\n",
              "    .dataframe thead th {\n",
              "        text-align: right;\n",
              "    }\n",
              "</style>\n",
              "<table border=\"1\" class=\"dataframe\">\n",
              "  <thead>\n",
              "    <tr style=\"text-align: right;\">\n",
              "      <th></th>\n",
              "      <th>0</th>\n",
              "      <th>1</th>\n",
              "      <th>2</th>\n",
              "      <th>3</th>\n",
              "      <th>4</th>\n",
              "      <th>5</th>\n",
              "      <th>6</th>\n",
              "      <th>7</th>\n",
              "      <th>8</th>\n",
              "      <th>9</th>\n",
              "      <th>10</th>\n",
              "      <th>11</th>\n",
              "      <th>12</th>\n",
              "      <th>13</th>\n",
              "      <th>14</th>\n",
              "      <th>15</th>\n",
              "      <th>16</th>\n",
              "      <th>17</th>\n",
              "      <th>18</th>\n",
              "      <th>19</th>\n",
              "      <th>20</th>\n",
              "      <th>21</th>\n",
              "      <th>22</th>\n",
              "      <th>23</th>\n",
              "      <th>24</th>\n",
              "      <th>25</th>\n",
              "      <th>26</th>\n",
              "      <th>27</th>\n",
              "      <th>28</th>\n",
              "      <th>29</th>\n",
              "      <th>30</th>\n",
              "      <th>31</th>\n",
              "      <th>32</th>\n",
              "      <th>33</th>\n",
              "      <th>34</th>\n",
              "      <th>35</th>\n",
              "      <th>36</th>\n",
              "      <th>37</th>\n",
              "      <th>38</th>\n",
              "      <th>39</th>\n",
              "      <th>40</th>\n",
              "      <th>41</th>\n",
              "      <th>42</th>\n",
              "      <th>43</th>\n",
              "      <th>44</th>\n",
              "      <th>45</th>\n",
              "      <th>46</th>\n",
              "      <th>47</th>\n",
              "      <th>48</th>\n",
              "      <th>49</th>\n",
              "      <th>50</th>\n",
              "      <th>51</th>\n",
              "      <th>52</th>\n",
              "      <th>53</th>\n",
              "    </tr>\n",
              "  </thead>\n",
              "  <tbody>\n",
              "    <tr>\n",
              "      <th>0</th>\n",
              "      <td>0</td>\n",
              "      <td>0</td>\n",
              "      <td>0</td>\n",
              "      <td>0</td>\n",
              "      <td>0</td>\n",
              "      <td>0</td>\n",
              "      <td>0</td>\n",
              "      <td>0</td>\n",
              "      <td>0</td>\n",
              "      <td>0</td>\n",
              "      <td>0</td>\n",
              "      <td>0</td>\n",
              "      <td>0</td>\n",
              "      <td>0</td>\n",
              "      <td>0</td>\n",
              "      <td>0</td>\n",
              "      <td>0</td>\n",
              "      <td>0</td>\n",
              "      <td>0</td>\n",
              "      <td>0</td>\n",
              "      <td>0</td>\n",
              "      <td>0</td>\n",
              "      <td>0</td>\n",
              "      <td>0</td>\n",
              "      <td>0</td>\n",
              "      <td>0</td>\n",
              "      <td>0</td>\n",
              "      <td>0</td>\n",
              "      <td>0</td>\n",
              "      <td>0</td>\n",
              "      <td>1</td>\n",
              "      <td>0</td>\n",
              "      <td>0</td>\n",
              "      <td>0</td>\n",
              "      <td>0</td>\n",
              "      <td>0</td>\n",
              "      <td>0</td>\n",
              "      <td>0</td>\n",
              "      <td>0</td>\n",
              "      <td>19961101-11:00</td>\n",
              "      <td>9</td>\n",
              "      <td>0</td>\n",
              "      <td>0</td>\n",
              "      <td>27</td>\n",
              "      <td>1010</td>\n",
              "      <td>0</td>\n",
              "      <td>0</td>\n",
              "      <td>30</td>\n",
              "      <td>0</td>\n",
              "      <td>0</td>\n",
              "      <td>5</td>\n",
              "      <td>280</td>\n",
              "      <td>West</td>\n",
              "      <td>7.4</td>\n",
              "    </tr>\n",
              "    <tr>\n",
              "      <th>1</th>\n",
              "      <td>0</td>\n",
              "      <td>0</td>\n",
              "      <td>0</td>\n",
              "      <td>0</td>\n",
              "      <td>0</td>\n",
              "      <td>0</td>\n",
              "      <td>0</td>\n",
              "      <td>0</td>\n",
              "      <td>0</td>\n",
              "      <td>0</td>\n",
              "      <td>0</td>\n",
              "      <td>0</td>\n",
              "      <td>0</td>\n",
              "      <td>0</td>\n",
              "      <td>0</td>\n",
              "      <td>0</td>\n",
              "      <td>0</td>\n",
              "      <td>0</td>\n",
              "      <td>0</td>\n",
              "      <td>0</td>\n",
              "      <td>0</td>\n",
              "      <td>0</td>\n",
              "      <td>0</td>\n",
              "      <td>0</td>\n",
              "      <td>0</td>\n",
              "      <td>0</td>\n",
              "      <td>0</td>\n",
              "      <td>0</td>\n",
              "      <td>0</td>\n",
              "      <td>0</td>\n",
              "      <td>1</td>\n",
              "      <td>0</td>\n",
              "      <td>0</td>\n",
              "      <td>0</td>\n",
              "      <td>0</td>\n",
              "      <td>0</td>\n",
              "      <td>0</td>\n",
              "      <td>0</td>\n",
              "      <td>1</td>\n",
              "      <td>19961101-12:00</td>\n",
              "      <td>10</td>\n",
              "      <td>0</td>\n",
              "      <td>0</td>\n",
              "      <td>32</td>\n",
              "      <td>1008</td>\n",
              "      <td>0</td>\n",
              "      <td>0</td>\n",
              "      <td>28</td>\n",
              "      <td>0</td>\n",
              "      <td>0</td>\n",
              "      <td>2</td>\n",
              "      <td>0</td>\n",
              "      <td>North</td>\n",
              "      <td>7</td>\n",
              "    </tr>\n",
              "    <tr>\n",
              "      <th>2</th>\n",
              "      <td>0</td>\n",
              "      <td>0</td>\n",
              "      <td>0</td>\n",
              "      <td>0</td>\n",
              "      <td>0</td>\n",
              "      <td>0</td>\n",
              "      <td>0</td>\n",
              "      <td>0</td>\n",
              "      <td>0</td>\n",
              "      <td>0</td>\n",
              "      <td>0</td>\n",
              "      <td>0</td>\n",
              "      <td>0</td>\n",
              "      <td>0</td>\n",
              "      <td>0</td>\n",
              "      <td>0</td>\n",
              "      <td>0</td>\n",
              "      <td>0</td>\n",
              "      <td>0</td>\n",
              "      <td>0</td>\n",
              "      <td>0</td>\n",
              "      <td>0</td>\n",
              "      <td>0</td>\n",
              "      <td>0</td>\n",
              "      <td>0</td>\n",
              "      <td>0</td>\n",
              "      <td>0</td>\n",
              "      <td>0</td>\n",
              "      <td>0</td>\n",
              "      <td>0</td>\n",
              "      <td>1</td>\n",
              "      <td>0</td>\n",
              "      <td>0</td>\n",
              "      <td>0</td>\n",
              "      <td>0</td>\n",
              "      <td>0</td>\n",
              "      <td>0</td>\n",
              "      <td>0</td>\n",
              "      <td>2</td>\n",
              "      <td>19961101-13:00</td>\n",
              "      <td>11</td>\n",
              "      <td>0</td>\n",
              "      <td>0</td>\n",
              "      <td>44</td>\n",
              "      <td>1008</td>\n",
              "      <td>0</td>\n",
              "      <td>0</td>\n",
              "      <td>24</td>\n",
              "      <td>0</td>\n",
              "      <td>0</td>\n",
              "      <td>2</td>\n",
              "      <td>0</td>\n",
              "      <td>North</td>\n",
              "      <td>7</td>\n",
              "    </tr>\n",
              "    <tr>\n",
              "      <th>3</th>\n",
              "      <td>0</td>\n",
              "      <td>0</td>\n",
              "      <td>0</td>\n",
              "      <td>0</td>\n",
              "      <td>0</td>\n",
              "      <td>0</td>\n",
              "      <td>0</td>\n",
              "      <td>0</td>\n",
              "      <td>0</td>\n",
              "      <td>0</td>\n",
              "      <td>0</td>\n",
              "      <td>0</td>\n",
              "      <td>0</td>\n",
              "      <td>0</td>\n",
              "      <td>0</td>\n",
              "      <td>0</td>\n",
              "      <td>0</td>\n",
              "      <td>0</td>\n",
              "      <td>0</td>\n",
              "      <td>0</td>\n",
              "      <td>0</td>\n",
              "      <td>0</td>\n",
              "      <td>0</td>\n",
              "      <td>0</td>\n",
              "      <td>0</td>\n",
              "      <td>0</td>\n",
              "      <td>0</td>\n",
              "      <td>0</td>\n",
              "      <td>0</td>\n",
              "      <td>0</td>\n",
              "      <td>1</td>\n",
              "      <td>0</td>\n",
              "      <td>0</td>\n",
              "      <td>0</td>\n",
              "      <td>0</td>\n",
              "      <td>0</td>\n",
              "      <td>0</td>\n",
              "      <td>0</td>\n",
              "      <td>3</td>\n",
              "      <td>19961101-14:00</td>\n",
              "      <td>10</td>\n",
              "      <td>0</td>\n",
              "      <td>0</td>\n",
              "      <td>41</td>\n",
              "      <td>1010</td>\n",
              "      <td>0</td>\n",
              "      <td>0</td>\n",
              "      <td>24</td>\n",
              "      <td>0</td>\n",
              "      <td>0</td>\n",
              "      <td>2</td>\n",
              "      <td>0</td>\n",
              "      <td>North</td>\n",
              "      <td>7</td>\n",
              "    </tr>\n",
              "    <tr>\n",
              "      <th>4</th>\n",
              "      <td>0</td>\n",
              "      <td>0</td>\n",
              "      <td>0</td>\n",
              "      <td>0</td>\n",
              "      <td>0</td>\n",
              "      <td>0</td>\n",
              "      <td>0</td>\n",
              "      <td>0</td>\n",
              "      <td>0</td>\n",
              "      <td>0</td>\n",
              "      <td>0</td>\n",
              "      <td>0</td>\n",
              "      <td>0</td>\n",
              "      <td>0</td>\n",
              "      <td>0</td>\n",
              "      <td>0</td>\n",
              "      <td>0</td>\n",
              "      <td>0</td>\n",
              "      <td>0</td>\n",
              "      <td>0</td>\n",
              "      <td>0</td>\n",
              "      <td>0</td>\n",
              "      <td>0</td>\n",
              "      <td>0</td>\n",
              "      <td>0</td>\n",
              "      <td>0</td>\n",
              "      <td>0</td>\n",
              "      <td>0</td>\n",
              "      <td>0</td>\n",
              "      <td>0</td>\n",
              "      <td>1</td>\n",
              "      <td>0</td>\n",
              "      <td>0</td>\n",
              "      <td>0</td>\n",
              "      <td>0</td>\n",
              "      <td>0</td>\n",
              "      <td>0</td>\n",
              "      <td>0</td>\n",
              "      <td>4</td>\n",
              "      <td>19961101-16:00</td>\n",
              "      <td>11</td>\n",
              "      <td>0</td>\n",
              "      <td>0</td>\n",
              "      <td>47</td>\n",
              "      <td>1011</td>\n",
              "      <td>0</td>\n",
              "      <td>0</td>\n",
              "      <td>23</td>\n",
              "      <td>0</td>\n",
              "      <td>0</td>\n",
              "      <td>1.2</td>\n",
              "      <td>0</td>\n",
              "      <td>North</td>\n",
              "      <td>0</td>\n",
              "    </tr>\n",
              "    <tr>\n",
              "      <th>...</th>\n",
              "      <td>...</td>\n",
              "      <td>...</td>\n",
              "      <td>...</td>\n",
              "      <td>...</td>\n",
              "      <td>...</td>\n",
              "      <td>...</td>\n",
              "      <td>...</td>\n",
              "      <td>...</td>\n",
              "      <td>...</td>\n",
              "      <td>...</td>\n",
              "      <td>...</td>\n",
              "      <td>...</td>\n",
              "      <td>...</td>\n",
              "      <td>...</td>\n",
              "      <td>...</td>\n",
              "      <td>...</td>\n",
              "      <td>...</td>\n",
              "      <td>...</td>\n",
              "      <td>...</td>\n",
              "      <td>...</td>\n",
              "      <td>...</td>\n",
              "      <td>...</td>\n",
              "      <td>...</td>\n",
              "      <td>...</td>\n",
              "      <td>...</td>\n",
              "      <td>...</td>\n",
              "      <td>...</td>\n",
              "      <td>...</td>\n",
              "      <td>...</td>\n",
              "      <td>...</td>\n",
              "      <td>...</td>\n",
              "      <td>...</td>\n",
              "      <td>...</td>\n",
              "      <td>...</td>\n",
              "      <td>...</td>\n",
              "      <td>...</td>\n",
              "      <td>...</td>\n",
              "      <td>...</td>\n",
              "      <td>...</td>\n",
              "      <td>...</td>\n",
              "      <td>...</td>\n",
              "      <td>...</td>\n",
              "      <td>...</td>\n",
              "      <td>...</td>\n",
              "      <td>...</td>\n",
              "      <td>...</td>\n",
              "      <td>...</td>\n",
              "      <td>...</td>\n",
              "      <td>...</td>\n",
              "      <td>...</td>\n",
              "      <td>...</td>\n",
              "      <td>...</td>\n",
              "      <td>...</td>\n",
              "      <td>...</td>\n",
              "    </tr>\n",
              "    <tr>\n",
              "      <th>85573</th>\n",
              "      <td>0</td>\n",
              "      <td>0</td>\n",
              "      <td>0</td>\n",
              "      <td>0</td>\n",
              "      <td>0</td>\n",
              "      <td>1</td>\n",
              "      <td>0</td>\n",
              "      <td>0</td>\n",
              "      <td>0</td>\n",
              "      <td>0</td>\n",
              "      <td>0</td>\n",
              "      <td>0</td>\n",
              "      <td>0</td>\n",
              "      <td>0</td>\n",
              "      <td>0</td>\n",
              "      <td>0</td>\n",
              "      <td>0</td>\n",
              "      <td>0</td>\n",
              "      <td>0</td>\n",
              "      <td>0</td>\n",
              "      <td>0</td>\n",
              "      <td>0</td>\n",
              "      <td>0</td>\n",
              "      <td>0</td>\n",
              "      <td>0</td>\n",
              "      <td>0</td>\n",
              "      <td>0</td>\n",
              "      <td>0</td>\n",
              "      <td>0</td>\n",
              "      <td>0</td>\n",
              "      <td>0</td>\n",
              "      <td>0</td>\n",
              "      <td>0</td>\n",
              "      <td>0</td>\n",
              "      <td>0</td>\n",
              "      <td>0</td>\n",
              "      <td>0</td>\n",
              "      <td>0</td>\n",
              "      <td>100985</td>\n",
              "      <td>20170424-06:00</td>\n",
              "      <td>17</td>\n",
              "      <td>0</td>\n",
              "      <td>0</td>\n",
              "      <td>25</td>\n",
              "      <td>1005</td>\n",
              "      <td>0</td>\n",
              "      <td>0</td>\n",
              "      <td>34</td>\n",
              "      <td>0</td>\n",
              "      <td>0</td>\n",
              "      <td>4</td>\n",
              "      <td>320</td>\n",
              "      <td>NW</td>\n",
              "      <td>11.1</td>\n",
              "    </tr>\n",
              "    <tr>\n",
              "      <th>85574</th>\n",
              "      <td>0</td>\n",
              "      <td>0</td>\n",
              "      <td>0</td>\n",
              "      <td>0</td>\n",
              "      <td>0</td>\n",
              "      <td>1</td>\n",
              "      <td>0</td>\n",
              "      <td>0</td>\n",
              "      <td>0</td>\n",
              "      <td>0</td>\n",
              "      <td>0</td>\n",
              "      <td>0</td>\n",
              "      <td>0</td>\n",
              "      <td>0</td>\n",
              "      <td>0</td>\n",
              "      <td>0</td>\n",
              "      <td>0</td>\n",
              "      <td>0</td>\n",
              "      <td>0</td>\n",
              "      <td>0</td>\n",
              "      <td>0</td>\n",
              "      <td>0</td>\n",
              "      <td>0</td>\n",
              "      <td>0</td>\n",
              "      <td>0</td>\n",
              "      <td>0</td>\n",
              "      <td>0</td>\n",
              "      <td>0</td>\n",
              "      <td>0</td>\n",
              "      <td>0</td>\n",
              "      <td>0</td>\n",
              "      <td>0</td>\n",
              "      <td>0</td>\n",
              "      <td>0</td>\n",
              "      <td>0</td>\n",
              "      <td>0</td>\n",
              "      <td>0</td>\n",
              "      <td>0</td>\n",
              "      <td>100986</td>\n",
              "      <td>20170424-09:00</td>\n",
              "      <td>14</td>\n",
              "      <td>0</td>\n",
              "      <td>0</td>\n",
              "      <td>16</td>\n",
              "      <td>1003</td>\n",
              "      <td>0</td>\n",
              "      <td>0</td>\n",
              "      <td>38</td>\n",
              "      <td>0</td>\n",
              "      <td>0</td>\n",
              "      <td>4</td>\n",
              "      <td>320</td>\n",
              "      <td>NW</td>\n",
              "      <td>22.2</td>\n",
              "    </tr>\n",
              "    <tr>\n",
              "      <th>85575</th>\n",
              "      <td>0</td>\n",
              "      <td>0</td>\n",
              "      <td>0</td>\n",
              "      <td>0</td>\n",
              "      <td>0</td>\n",
              "      <td>1</td>\n",
              "      <td>0</td>\n",
              "      <td>0</td>\n",
              "      <td>0</td>\n",
              "      <td>0</td>\n",
              "      <td>0</td>\n",
              "      <td>0</td>\n",
              "      <td>0</td>\n",
              "      <td>0</td>\n",
              "      <td>0</td>\n",
              "      <td>0</td>\n",
              "      <td>0</td>\n",
              "      <td>0</td>\n",
              "      <td>0</td>\n",
              "      <td>0</td>\n",
              "      <td>0</td>\n",
              "      <td>0</td>\n",
              "      <td>0</td>\n",
              "      <td>0</td>\n",
              "      <td>0</td>\n",
              "      <td>0</td>\n",
              "      <td>0</td>\n",
              "      <td>0</td>\n",
              "      <td>0</td>\n",
              "      <td>0</td>\n",
              "      <td>0</td>\n",
              "      <td>0</td>\n",
              "      <td>0</td>\n",
              "      <td>0</td>\n",
              "      <td>0</td>\n",
              "      <td>0</td>\n",
              "      <td>0</td>\n",
              "      <td>0</td>\n",
              "      <td>100987</td>\n",
              "      <td>20170424-12:00</td>\n",
              "      <td>12</td>\n",
              "      <td>0</td>\n",
              "      <td>0</td>\n",
              "      <td>14</td>\n",
              "      <td>1002</td>\n",
              "      <td>0</td>\n",
              "      <td>0</td>\n",
              "      <td>36</td>\n",
              "      <td>0</td>\n",
              "      <td>0</td>\n",
              "      <td>4</td>\n",
              "      <td>270</td>\n",
              "      <td>West</td>\n",
              "      <td>18.5</td>\n",
              "    </tr>\n",
              "    <tr>\n",
              "      <th>85576</th>\n",
              "      <td>0</td>\n",
              "      <td>0</td>\n",
              "      <td>0</td>\n",
              "      <td>0</td>\n",
              "      <td>0</td>\n",
              "      <td>1</td>\n",
              "      <td>0</td>\n",
              "      <td>0</td>\n",
              "      <td>0</td>\n",
              "      <td>0</td>\n",
              "      <td>0</td>\n",
              "      <td>0</td>\n",
              "      <td>0</td>\n",
              "      <td>0</td>\n",
              "      <td>0</td>\n",
              "      <td>0</td>\n",
              "      <td>0</td>\n",
              "      <td>0</td>\n",
              "      <td>0</td>\n",
              "      <td>0</td>\n",
              "      <td>0</td>\n",
              "      <td>0</td>\n",
              "      <td>0</td>\n",
              "      <td>0</td>\n",
              "      <td>0</td>\n",
              "      <td>0</td>\n",
              "      <td>0</td>\n",
              "      <td>0</td>\n",
              "      <td>0</td>\n",
              "      <td>0</td>\n",
              "      <td>0</td>\n",
              "      <td>0</td>\n",
              "      <td>0</td>\n",
              "      <td>0</td>\n",
              "      <td>0</td>\n",
              "      <td>0</td>\n",
              "      <td>0</td>\n",
              "      <td>0</td>\n",
              "      <td>100988</td>\n",
              "      <td>20170424-15:00</td>\n",
              "      <td>15</td>\n",
              "      <td>0</td>\n",
              "      <td>0</td>\n",
              "      <td>27</td>\n",
              "      <td>1004</td>\n",
              "      <td>0</td>\n",
              "      <td>0</td>\n",
              "      <td>32</td>\n",
              "      <td>0</td>\n",
              "      <td>0</td>\n",
              "      <td>2</td>\n",
              "      <td>320</td>\n",
              "      <td>NW</td>\n",
              "      <td>3.7</td>\n",
              "    </tr>\n",
              "    <tr>\n",
              "      <th>85577</th>\n",
              "      <td>0</td>\n",
              "      <td>0</td>\n",
              "      <td>0</td>\n",
              "      <td>0</td>\n",
              "      <td>0</td>\n",
              "      <td>1</td>\n",
              "      <td>0</td>\n",
              "      <td>0</td>\n",
              "      <td>0</td>\n",
              "      <td>0</td>\n",
              "      <td>0</td>\n",
              "      <td>0</td>\n",
              "      <td>0</td>\n",
              "      <td>0</td>\n",
              "      <td>0</td>\n",
              "      <td>0</td>\n",
              "      <td>0</td>\n",
              "      <td>0</td>\n",
              "      <td>0</td>\n",
              "      <td>0</td>\n",
              "      <td>0</td>\n",
              "      <td>0</td>\n",
              "      <td>0</td>\n",
              "      <td>0</td>\n",
              "      <td>0</td>\n",
              "      <td>0</td>\n",
              "      <td>0</td>\n",
              "      <td>0</td>\n",
              "      <td>0</td>\n",
              "      <td>0</td>\n",
              "      <td>0</td>\n",
              "      <td>0</td>\n",
              "      <td>0</td>\n",
              "      <td>0</td>\n",
              "      <td>0</td>\n",
              "      <td>0</td>\n",
              "      <td>0</td>\n",
              "      <td>0</td>\n",
              "      <td>100989</td>\n",
              "      <td>20170424-18:00</td>\n",
              "      <td>15</td>\n",
              "      <td>0</td>\n",
              "      <td>0</td>\n",
              "      <td>30</td>\n",
              "      <td>1005</td>\n",
              "      <td>0</td>\n",
              "      <td>0</td>\n",
              "      <td>30</td>\n",
              "      <td>0</td>\n",
              "      <td>0</td>\n",
              "      <td>2</td>\n",
              "      <td>320</td>\n",
              "      <td>NW</td>\n",
              "      <td>3.7</td>\n",
              "    </tr>\n",
              "  </tbody>\n",
              "</table>\n",
              "<p>85578 rows × 54 columns</p>\n",
              "</div>"
            ],
            "text/plain": [
              "      0  1  2  3  4  5  6  7  8   ... 45 46  47 48 49   50   51     52    53\n",
              "0      0  0  0  0  0  0  0  0  0  ...  0  0  30  0  0    5  280   West   7.4\n",
              "1      0  0  0  0  0  0  0  0  0  ...  0  0  28  0  0    2    0  North     7\n",
              "2      0  0  0  0  0  0  0  0  0  ...  0  0  24  0  0    2    0  North     7\n",
              "3      0  0  0  0  0  0  0  0  0  ...  0  0  24  0  0    2    0  North     7\n",
              "4      0  0  0  0  0  0  0  0  0  ...  0  0  23  0  0  1.2    0  North     0\n",
              "...   .. .. .. .. .. .. .. .. ..  ... .. ..  .. .. ..  ...  ...    ...   ...\n",
              "85573  0  0  0  0  0  1  0  0  0  ...  0  0  34  0  0    4  320     NW  11.1\n",
              "85574  0  0  0  0  0  1  0  0  0  ...  0  0  38  0  0    4  320     NW  22.2\n",
              "85575  0  0  0  0  0  1  0  0  0  ...  0  0  36  0  0    4  270   West  18.5\n",
              "85576  0  0  0  0  0  1  0  0  0  ...  0  0  32  0  0    2  320     NW   3.7\n",
              "85577  0  0  0  0  0  1  0  0  0  ...  0  0  30  0  0    2  320     NW   3.7\n",
              "\n",
              "[85578 rows x 54 columns]"
            ]
          },
          "metadata": {
            "tags": []
          },
          "execution_count": 75
        }
      ]
    },
    {
      "cell_type": "code",
      "metadata": {
        "id": "loS0WXhcIeyv"
      },
      "source": [
        "from sklearn.compose import ColumnTransformer\n",
        "from sklearn.preprocessing import OneHotEncoder\n",
        "# creating one hot encoder object with categorical feature 0\n",
        "# indicating the first column\n",
        "columnTransformer = ColumnTransformer([('encoder',\n",
        "                                        OneHotEncoder(),\n",
        "                                        [53])],\n",
        "                                      remainder='passthrough')\n",
        "  \n",
        "data_set = pd.DataFrame(columnTransformer.fit_transform(data_set))"
      ],
      "execution_count": null,
      "outputs": []
    },
    {
      "cell_type": "code",
      "metadata": {
        "id": "AfVLtPdSOhWm"
      },
      "source": [
        "y = np.array(y, dtype=np.float)"
      ],
      "execution_count": null,
      "outputs": []
    },
    {
      "cell_type": "code",
      "metadata": {
        "colab": {
          "base_uri": "https://localhost:8080/"
        },
        "id": "CY_jdr7bLgag",
        "outputId": "95a844a3-9130-4496-9230-4c879734aa6b"
      },
      "source": [
        "y.shape"
      ],
      "execution_count": null,
      "outputs": [
        {
          "output_type": "execute_result",
          "data": {
            "text/plain": [
              "(85578,)"
            ]
          },
          "metadata": {
            "tags": []
          },
          "execution_count": 81
        }
      ]
    },
    {
      "cell_type": "code",
      "metadata": {
        "colab": {
          "base_uri": "https://localhost:8080/"
        },
        "id": "zBbwgnKvNB1w",
        "outputId": "ffc34769-bb2a-4547-e980-6a7299a9f3d7"
      },
      "source": [
        "y = y.reshape(-1, 1)\n",
        "y.shape"
      ],
      "execution_count": null,
      "outputs": [
        {
          "output_type": "execute_result",
          "data": {
            "text/plain": [
              "(85578, 1)"
            ]
          },
          "metadata": {
            "tags": []
          },
          "execution_count": 82
        }
      ]
    },
    {
      "cell_type": "code",
      "metadata": {
        "id": "JctSIcjBMe1E"
      },
      "source": [
        "x = data_set.iloc[:,:].values"
      ],
      "execution_count": null,
      "outputs": []
    },
    {
      "cell_type": "code",
      "metadata": {
        "id": "6v0aKnl4M36Q"
      },
      "source": [
        "x = np.array(x, dtype=np.int)"
      ],
      "execution_count": null,
      "outputs": []
    },
    {
      "cell_type": "code",
      "metadata": {
        "colab": {
          "base_uri": "https://localhost:8080/"
        },
        "id": "JBwR6Fe7MsbT",
        "outputId": "fa9db728-a83c-4cbf-9042-cb74c2685997"
      },
      "source": [
        "x.shape"
      ],
      "execution_count": null,
      "outputs": [
        {
          "output_type": "execute_result",
          "data": {
            "text/plain": [
              "(85578, 67)"
            ]
          },
          "metadata": {
            "tags": []
          },
          "execution_count": 88
        }
      ]
    },
    {
      "cell_type": "code",
      "metadata": {
        "id": "mGeu0_wfMtkR"
      },
      "source": [
        "from sklearn.model_selection import train_test_split\n",
        "\n",
        "X_train, X_test, y_train, y_test = train_test_split(x, y, test_size=0.2, random_state=2, shuffle=True)"
      ],
      "execution_count": null,
      "outputs": []
    },
    {
      "cell_type": "code",
      "metadata": {
        "colab": {
          "base_uri": "https://localhost:8080/"
        },
        "id": "76Tq0j6fNv8r",
        "outputId": "14e3167f-84ff-4c27-fad3-311fecc80ae3"
      },
      "source": [
        "print(X_train.shape, X_test.shape, y_train.shape, y_test.shape)"
      ],
      "execution_count": null,
      "outputs": [
        {
          "output_type": "stream",
          "text": [
            "(68462, 67) (17116, 67) (68462, 1) (17116, 1)\n"
          ],
          "name": "stdout"
        }
      ]
    },
    {
      "cell_type": "code",
      "metadata": {
        "colab": {
          "base_uri": "https://localhost:8080/"
        },
        "id": "ZHeiAb2KUvIK",
        "outputId": "c0ca723b-337d-48be-a549-fc0f48bd8d36"
      },
      "source": [
        "X_train"
      ],
      "execution_count": null,
      "outputs": [
        {
          "output_type": "execute_result",
          "data": {
            "text/plain": [
              "array([[  0,   0,   1, ...,   3,  80,  11],\n",
              "       [  0,   0,   0, ...,   3, 130,  16],\n",
              "       [  0,   0,   0, ...,   2, 320,  11],\n",
              "       ...,\n",
              "       [  0,   0,   0, ...,   0,   0,   0],\n",
              "       [  0,   0,   0, ...,   2, 290,   7],\n",
              "       [  0,   0,   0, ...,   2, 320,   7]])"
            ]
          },
          "metadata": {
            "tags": []
          },
          "execution_count": 91
        }
      ]
    },
    {
      "cell_type": "code",
      "metadata": {
        "id": "I_7G2c4WN-GU"
      },
      "source": [
        "from sklearn.preprocessing import MinMaxScaler\n",
        "scaler=MinMaxScaler(feature_range=(0,1))\n",
        "y_train=scaler.fit_transform(np.array(y_train).reshape(-1,1))"
      ],
      "execution_count": null,
      "outputs": []
    },
    {
      "cell_type": "code",
      "metadata": {
        "colab": {
          "base_uri": "https://localhost:8080/"
        },
        "id": "cz9UeVxIQTpK",
        "outputId": "447be570-e1aa-4f86-89ab-95d0681c2937"
      },
      "source": [
        "y_train"
      ],
      "execution_count": null,
      "outputs": [
        {
          "output_type": "execute_result",
          "data": {
            "text/plain": [
              "array([[0.44927536],\n",
              "       [0.49275362],\n",
              "       [0.43478261],\n",
              "       ...,\n",
              "       [0.17391304],\n",
              "       [0.49275362],\n",
              "       [0.4057971 ]])"
            ]
          },
          "metadata": {
            "tags": []
          },
          "execution_count": 93
        }
      ]
    },
    {
      "cell_type": "code",
      "metadata": {
        "id": "T9qAh9iiQ-YX"
      },
      "source": [
        "import tensorflow as tf\n",
        "from tensorflow.keras.layers import Dense, Dropout"
      ],
      "execution_count": null,
      "outputs": []
    },
    {
      "cell_type": "code",
      "metadata": {
        "id": "jCSI8v_8PFEI"
      },
      "source": [
        "new_model = tf.keras.models.load_model('/content/drive/MyDrive/my_model/')"
      ],
      "execution_count": null,
      "outputs": []
    },
    {
      "cell_type": "code",
      "metadata": {
        "colab": {
          "base_uri": "https://localhost:8080/"
        },
        "id": "mp2XSRGWPpKG",
        "outputId": "4d0b0376-2722-4b2f-8963-2370b850bb26"
      },
      "source": [
        "new_model.summary()"
      ],
      "execution_count": null,
      "outputs": [
        {
          "output_type": "stream",
          "text": [
            "Model: \"sequential_7\"\n",
            "_________________________________________________________________\n",
            "Layer (type)                 Output Shape              Param #   \n",
            "=================================================================\n",
            "dense_26 (Dense)             (None, 30)                2040      \n",
            "_________________________________________________________________\n",
            "dense_27 (Dense)             (None, 30)                930       \n",
            "_________________________________________________________________\n",
            "dense_28 (Dense)             (None, 15)                465       \n",
            "_________________________________________________________________\n",
            "dense_29 (Dense)             (None, 10)                160       \n",
            "_________________________________________________________________\n",
            "dense_30 (Dense)             (None, 5)                 55        \n",
            "_________________________________________________________________\n",
            "dense_31 (Dense)             (None, 1)                 6         \n",
            "=================================================================\n",
            "Total params: 3,656\n",
            "Trainable params: 3,656\n",
            "Non-trainable params: 0\n",
            "_________________________________________________________________\n"
          ],
          "name": "stdout"
        }
      ]
    },
    {
      "cell_type": "code",
      "metadata": {
        "id": "HyiCvhL7RMYY"
      },
      "source": [
        "model = tf.keras.Sequential()\n",
        "model.add(Dense(30, activation='relu'))\n",
        "model.add(Dense(30, activation='relu'))\n",
        "\n",
        "model.add(Dense(15, activation='relu'))\n",
        "\n",
        "\n",
        "model.add(Dense(10, activation='relu'))\n",
        "\n",
        "\n",
        "model.add(Dense(5, activation='relu'))\n",
        "\n",
        "model.add(Dense(1))"
      ],
      "execution_count": null,
      "outputs": []
    },
    {
      "cell_type": "code",
      "metadata": {
        "id": "cesXmdrrSZZr"
      },
      "source": [
        "model.compile(loss='mean_squared_error',optimizer='adam', metrics=['accuracy'])"
      ],
      "execution_count": null,
      "outputs": []
    },
    {
      "cell_type": "code",
      "metadata": {
        "colab": {
          "base_uri": "https://localhost:8080/"
        },
        "id": "tA3BjblZUMBg",
        "outputId": "4d3cf519-5b70-4928-d475-221f629a8915"
      },
      "source": [
        "history = model.fit(X_train,y_train,validation_data=(X_test,y_test),epochs=100,batch_size=64,verbose=1)"
      ],
      "execution_count": null,
      "outputs": [
        {
          "output_type": "stream",
          "text": [
            "Epoch 1/100\n",
            "1070/1070 [==============================] - 6s 3ms/step - loss: 14.1545 - accuracy: 2.7833e-05 - val_loss: 734.8997 - val_accuracy: 0.0000e+00\n",
            "Epoch 2/100\n",
            "1070/1070 [==============================] - 3s 3ms/step - loss: 0.1683 - accuracy: 3.2541e-05 - val_loss: 733.6755 - val_accuracy: 0.0000e+00\n",
            "Epoch 3/100\n",
            "1070/1070 [==============================] - 3s 3ms/step - loss: 0.0165 - accuracy: 1.4824e-05 - val_loss: 733.6907 - val_accuracy: 0.0000e+00\n",
            "Epoch 4/100\n",
            "1070/1070 [==============================] - 3s 3ms/step - loss: 0.1882 - accuracy: 1.5143e-05 - val_loss: 733.8177 - val_accuracy: 0.0000e+00\n",
            "Epoch 5/100\n",
            "1070/1070 [==============================] - 3s 3ms/step - loss: 0.0426 - accuracy: 1.4084e-05 - val_loss: 733.6482 - val_accuracy: 0.0000e+00\n",
            "Epoch 6/100\n",
            "1070/1070 [==============================] - 3s 3ms/step - loss: 0.0150 - accuracy: 3.5428e-05 - val_loss: 733.7094 - val_accuracy: 0.0000e+00\n",
            "Epoch 7/100\n",
            "1070/1070 [==============================] - 3s 3ms/step - loss: 0.0149 - accuracy: 1.9283e-05 - val_loss: 733.6580 - val_accuracy: 0.0000e+00\n",
            "Epoch 8/100\n",
            "1070/1070 [==============================] - 3s 3ms/step - loss: 0.0149 - accuracy: 1.7781e-05 - val_loss: 733.5637 - val_accuracy: 0.0000e+00\n",
            "Epoch 9/100\n",
            "1070/1070 [==============================] - 3s 3ms/step - loss: 0.0150 - accuracy: 2.1714e-05 - val_loss: 734.0197 - val_accuracy: 0.0000e+00\n",
            "Epoch 10/100\n",
            "1070/1070 [==============================] - 3s 3ms/step - loss: 0.0149 - accuracy: 3.5841e-05 - val_loss: 733.6099 - val_accuracy: 0.0000e+00\n",
            "Epoch 11/100\n",
            "1070/1070 [==============================] - 3s 3ms/step - loss: 0.0149 - accuracy: 2.8761e-05 - val_loss: 734.0549 - val_accuracy: 0.0000e+00\n",
            "Epoch 12/100\n",
            "1070/1070 [==============================] - 3s 3ms/step - loss: 0.0149 - accuracy: 1.5579e-05 - val_loss: 733.8197 - val_accuracy: 0.0000e+00\n",
            "Epoch 13/100\n",
            "1070/1070 [==============================] - 3s 3ms/step - loss: 0.0150 - accuracy: 1.4365e-05 - val_loss: 733.5971 - val_accuracy: 0.0000e+00\n",
            "Epoch 14/100\n",
            "1070/1070 [==============================] - 3s 3ms/step - loss: 0.0149 - accuracy: 3.0035e-05 - val_loss: 733.5745 - val_accuracy: 0.0000e+00\n",
            "Epoch 15/100\n",
            "1070/1070 [==============================] - 3s 3ms/step - loss: 0.0149 - accuracy: 6.3246e-06 - val_loss: 733.7839 - val_accuracy: 0.0000e+00\n",
            "Epoch 16/100\n",
            "1070/1070 [==============================] - 3s 3ms/step - loss: 0.0148 - accuracy: 2.6403e-06 - val_loss: 733.9574 - val_accuracy: 0.0000e+00\n",
            "Epoch 17/100\n",
            "1070/1070 [==============================] - 3s 3ms/step - loss: 0.0150 - accuracy: 8.0303e-06 - val_loss: 733.2103 - val_accuracy: 0.0000e+00\n",
            "Epoch 18/100\n",
            "1070/1070 [==============================] - 3s 3ms/step - loss: 0.0148 - accuracy: 4.4331e-05 - val_loss: 733.7952 - val_accuracy: 0.0000e+00\n",
            "Epoch 19/100\n",
            "1070/1070 [==============================] - 3s 3ms/step - loss: 0.0149 - accuracy: 4.1845e-05 - val_loss: 733.8824 - val_accuracy: 0.0000e+00\n",
            "Epoch 20/100\n",
            "1070/1070 [==============================] - 3s 3ms/step - loss: 0.0150 - accuracy: 2.9054e-05 - val_loss: 733.7910 - val_accuracy: 0.0000e+00\n",
            "Epoch 21/100\n",
            "1070/1070 [==============================] - 3s 3ms/step - loss: 0.0150 - accuracy: 2.7553e-05 - val_loss: 733.4642 - val_accuracy: 0.0000e+00\n",
            "Epoch 22/100\n",
            "1070/1070 [==============================] - 3s 3ms/step - loss: 0.0150 - accuracy: 3.0781e-05 - val_loss: 733.5715 - val_accuracy: 0.0000e+00\n",
            "Epoch 23/100\n",
            "1070/1070 [==============================] - 3s 3ms/step - loss: 0.0150 - accuracy: 1.1461e-05 - val_loss: 733.8032 - val_accuracy: 0.0000e+00\n",
            "Epoch 24/100\n",
            "1070/1070 [==============================] - 3s 3ms/step - loss: 0.0149 - accuracy: 5.1094e-05 - val_loss: 733.9880 - val_accuracy: 0.0000e+00\n",
            "Epoch 25/100\n",
            "1070/1070 [==============================] - 3s 3ms/step - loss: 0.0149 - accuracy: 7.2234e-05 - val_loss: 733.5485 - val_accuracy: 0.0000e+00\n",
            "Epoch 26/100\n",
            "1070/1070 [==============================] - 3s 3ms/step - loss: 0.0150 - accuracy: 1.2062e-05 - val_loss: 733.5729 - val_accuracy: 0.0000e+00\n",
            "Epoch 27/100\n",
            "1070/1070 [==============================] - 3s 3ms/step - loss: 0.0148 - accuracy: 2.7027e-05 - val_loss: 733.8647 - val_accuracy: 0.0000e+00\n",
            "Epoch 28/100\n",
            "1070/1070 [==============================] - 3s 3ms/step - loss: 0.0150 - accuracy: 5.5370e-06 - val_loss: 733.7819 - val_accuracy: 0.0000e+00\n",
            "Epoch 29/100\n",
            "1070/1070 [==============================] - 3s 3ms/step - loss: 0.0150 - accuracy: 6.4766e-05 - val_loss: 733.9703 - val_accuracy: 0.0000e+00\n",
            "Epoch 30/100\n",
            "1070/1070 [==============================] - 3s 3ms/step - loss: 0.0148 - accuracy: 1.5318e-05 - val_loss: 733.3766 - val_accuracy: 0.0000e+00\n",
            "Epoch 31/100\n",
            "1070/1070 [==============================] - 3s 3ms/step - loss: 0.0151 - accuracy: 2.8941e-05 - val_loss: 733.4919 - val_accuracy: 0.0000e+00\n",
            "Epoch 32/100\n",
            "1070/1070 [==============================] - 3s 3ms/step - loss: 0.0149 - accuracy: 2.6171e-05 - val_loss: 733.8461 - val_accuracy: 0.0000e+00\n",
            "Epoch 33/100\n",
            "1070/1070 [==============================] - 3s 3ms/step - loss: 0.0150 - accuracy: 1.8463e-05 - val_loss: 733.5946 - val_accuracy: 0.0000e+00\n",
            "Epoch 34/100\n",
            "1070/1070 [==============================] - 3s 3ms/step - loss: 0.0150 - accuracy: 1.3957e-05 - val_loss: 733.7510 - val_accuracy: 0.0000e+00\n",
            "Epoch 35/100\n",
            "1070/1070 [==============================] - 3s 3ms/step - loss: 0.0149 - accuracy: 1.9849e-05 - val_loss: 733.9621 - val_accuracy: 0.0000e+00\n",
            "Epoch 36/100\n",
            "1070/1070 [==============================] - 3s 3ms/step - loss: 0.0149 - accuracy: 4.7037e-05 - val_loss: 733.6536 - val_accuracy: 0.0000e+00\n",
            "Epoch 37/100\n",
            "1070/1070 [==============================] - 3s 3ms/step - loss: 0.0149 - accuracy: 3.5304e-05 - val_loss: 733.7684 - val_accuracy: 0.0000e+00\n",
            "Epoch 38/100\n",
            "1070/1070 [==============================] - 3s 3ms/step - loss: 0.0149 - accuracy: 4.8811e-05 - val_loss: 733.4064 - val_accuracy: 0.0000e+00\n",
            "Epoch 39/100\n",
            "1070/1070 [==============================] - 3s 3ms/step - loss: 0.0150 - accuracy: 2.1508e-05 - val_loss: 733.6154 - val_accuracy: 0.0000e+00\n",
            "Epoch 40/100\n",
            "1070/1070 [==============================] - 3s 3ms/step - loss: 0.0150 - accuracy: 4.6473e-06 - val_loss: 733.4161 - val_accuracy: 0.0000e+00\n",
            "Epoch 41/100\n",
            "1070/1070 [==============================] - 3s 3ms/step - loss: 0.0151 - accuracy: 4.5193e-05 - val_loss: 733.9385 - val_accuracy: 0.0000e+00\n",
            "Epoch 42/100\n",
            "1070/1070 [==============================] - 3s 3ms/step - loss: 0.0150 - accuracy: 3.0424e-06 - val_loss: 733.5780 - val_accuracy: 0.0000e+00\n",
            "Epoch 43/100\n",
            "1070/1070 [==============================] - 3s 3ms/step - loss: 0.0150 - accuracy: 1.7461e-06 - val_loss: 733.7858 - val_accuracy: 0.0000e+00\n",
            "Epoch 44/100\n",
            "1070/1070 [==============================] - 3s 3ms/step - loss: 0.0149 - accuracy: 6.3795e-05 - val_loss: 733.8703 - val_accuracy: 0.0000e+00\n",
            "Epoch 45/100\n",
            "1070/1070 [==============================] - 3s 3ms/step - loss: 0.0149 - accuracy: 1.7439e-05 - val_loss: 733.8317 - val_accuracy: 0.0000e+00\n",
            "Epoch 46/100\n",
            "1070/1070 [==============================] - 3s 3ms/step - loss: 0.0149 - accuracy: 2.5941e-05 - val_loss: 733.9575 - val_accuracy: 0.0000e+00\n",
            "Epoch 47/100\n",
            "1070/1070 [==============================] - 3s 3ms/step - loss: 0.0150 - accuracy: 4.0667e-05 - val_loss: 733.4544 - val_accuracy: 0.0000e+00\n",
            "Epoch 48/100\n",
            "1070/1070 [==============================] - 3s 3ms/step - loss: 0.0150 - accuracy: 2.1526e-05 - val_loss: 733.4549 - val_accuracy: 0.0000e+00\n",
            "Epoch 49/100\n",
            "1070/1070 [==============================] - 3s 3ms/step - loss: 0.0149 - accuracy: 1.0158e-05 - val_loss: 733.6938 - val_accuracy: 0.0000e+00\n",
            "Epoch 50/100\n",
            "1070/1070 [==============================] - 3s 3ms/step - loss: 0.0151 - accuracy: 2.3291e-05 - val_loss: 733.6235 - val_accuracy: 0.0000e+00\n",
            "Epoch 51/100\n",
            "1070/1070 [==============================] - 3s 3ms/step - loss: 0.0149 - accuracy: 5.7188e-05 - val_loss: 734.1513 - val_accuracy: 0.0000e+00\n",
            "Epoch 52/100\n",
            "1070/1070 [==============================] - 3s 3ms/step - loss: 0.0151 - accuracy: 8.6797e-05 - val_loss: 733.3964 - val_accuracy: 0.0000e+00\n",
            "Epoch 53/100\n",
            "1070/1070 [==============================] - 3s 3ms/step - loss: 0.0150 - accuracy: 3.2159e-05 - val_loss: 733.9138 - val_accuracy: 0.0000e+00\n",
            "Epoch 54/100\n",
            "1070/1070 [==============================] - 3s 3ms/step - loss: 0.0149 - accuracy: 1.8538e-05 - val_loss: 733.7721 - val_accuracy: 0.0000e+00\n",
            "Epoch 55/100\n",
            "1070/1070 [==============================] - 3s 3ms/step - loss: 0.0149 - accuracy: 1.6640e-05 - val_loss: 733.7999 - val_accuracy: 0.0000e+00\n",
            "Epoch 56/100\n",
            "1070/1070 [==============================] - 3s 3ms/step - loss: 0.0149 - accuracy: 2.7848e-05 - val_loss: 733.2286 - val_accuracy: 0.0000e+00\n",
            "Epoch 57/100\n",
            "1070/1070 [==============================] - 3s 3ms/step - loss: 0.0150 - accuracy: 2.4553e-05 - val_loss: 733.4236 - val_accuracy: 0.0000e+00\n",
            "Epoch 58/100\n",
            "1070/1070 [==============================] - 3s 3ms/step - loss: 0.0149 - accuracy: 1.2829e-05 - val_loss: 733.6813 - val_accuracy: 0.0000e+00\n",
            "Epoch 59/100\n",
            "1070/1070 [==============================] - 3s 3ms/step - loss: 0.0150 - accuracy: 6.7200e-06 - val_loss: 733.4721 - val_accuracy: 0.0000e+00\n",
            "Epoch 60/100\n",
            "1070/1070 [==============================] - 3s 3ms/step - loss: 0.0150 - accuracy: 4.9189e-05 - val_loss: 733.6481 - val_accuracy: 0.0000e+00\n",
            "Epoch 61/100\n",
            "1070/1070 [==============================] - 3s 3ms/step - loss: 0.0150 - accuracy: 4.0700e-05 - val_loss: 733.8877 - val_accuracy: 0.0000e+00\n",
            "Epoch 62/100\n",
            "1070/1070 [==============================] - 3s 3ms/step - loss: 0.0150 - accuracy: 5.8404e-06 - val_loss: 733.4875 - val_accuracy: 0.0000e+00\n",
            "Epoch 63/100\n",
            "1070/1070 [==============================] - 3s 3ms/step - loss: 0.0149 - accuracy: 8.3351e-06 - val_loss: 733.7903 - val_accuracy: 0.0000e+00\n",
            "Epoch 64/100\n",
            "1070/1070 [==============================] - 3s 3ms/step - loss: 0.0149 - accuracy: 2.9860e-05 - val_loss: 733.7034 - val_accuracy: 0.0000e+00\n",
            "Epoch 65/100\n",
            "1070/1070 [==============================] - 3s 3ms/step - loss: 0.0150 - accuracy: 1.3679e-05 - val_loss: 733.5201 - val_accuracy: 0.0000e+00\n",
            "Epoch 66/100\n",
            "1070/1070 [==============================] - 3s 3ms/step - loss: 0.0149 - accuracy: 1.9896e-05 - val_loss: 733.9663 - val_accuracy: 0.0000e+00\n",
            "Epoch 67/100\n",
            "1070/1070 [==============================] - 3s 3ms/step - loss: 0.0150 - accuracy: 1.0860e-05 - val_loss: 733.5727 - val_accuracy: 0.0000e+00\n",
            "Epoch 68/100\n",
            "1070/1070 [==============================] - 3s 3ms/step - loss: 0.0150 - accuracy: 2.3468e-05 - val_loss: 733.8923 - val_accuracy: 0.0000e+00\n",
            "Epoch 69/100\n",
            "1070/1070 [==============================] - 3s 3ms/step - loss: 0.0150 - accuracy: 6.5393e-06 - val_loss: 733.5483 - val_accuracy: 0.0000e+00\n",
            "Epoch 70/100\n",
            "1070/1070 [==============================] - 3s 3ms/step - loss: 0.0151 - accuracy: 4.8995e-05 - val_loss: 733.6528 - val_accuracy: 0.0000e+00\n",
            "Epoch 71/100\n",
            "1070/1070 [==============================] - 3s 3ms/step - loss: 0.0150 - accuracy: 2.6538e-05 - val_loss: 733.7185 - val_accuracy: 0.0000e+00\n",
            "Epoch 72/100\n",
            "1070/1070 [==============================] - 3s 3ms/step - loss: 0.0150 - accuracy: 1.2510e-05 - val_loss: 733.8060 - val_accuracy: 0.0000e+00\n",
            "Epoch 73/100\n",
            "1070/1070 [==============================] - 3s 3ms/step - loss: 0.0150 - accuracy: 1.4452e-05 - val_loss: 733.5968 - val_accuracy: 0.0000e+00\n",
            "Epoch 74/100\n",
            "1070/1070 [==============================] - 3s 3ms/step - loss: 0.0150 - accuracy: 2.4683e-05 - val_loss: 733.7427 - val_accuracy: 0.0000e+00\n",
            "Epoch 75/100\n",
            "1070/1070 [==============================] - 3s 3ms/step - loss: 0.0150 - accuracy: 4.8145e-05 - val_loss: 733.6962 - val_accuracy: 0.0000e+00\n",
            "Epoch 76/100\n",
            "1070/1070 [==============================] - 3s 3ms/step - loss: 0.0149 - accuracy: 1.6384e-05 - val_loss: 733.8000 - val_accuracy: 0.0000e+00\n",
            "Epoch 77/100\n",
            "1070/1070 [==============================] - 3s 3ms/step - loss: 0.0148 - accuracy: 1.4473e-05 - val_loss: 733.5908 - val_accuracy: 0.0000e+00\n",
            "Epoch 78/100\n",
            "1070/1070 [==============================] - 3s 3ms/step - loss: 0.0150 - accuracy: 2.0746e-05 - val_loss: 733.6476 - val_accuracy: 0.0000e+00\n",
            "Epoch 79/100\n",
            "1070/1070 [==============================] - 3s 3ms/step - loss: 0.0150 - accuracy: 1.6902e-05 - val_loss: 733.8144 - val_accuracy: 0.0000e+00\n",
            "Epoch 80/100\n",
            "1070/1070 [==============================] - 3s 3ms/step - loss: 0.0150 - accuracy: 7.3364e-05 - val_loss: 733.3997 - val_accuracy: 0.0000e+00\n",
            "Epoch 81/100\n",
            "1070/1070 [==============================] - 3s 3ms/step - loss: 0.0150 - accuracy: 1.1204e-05 - val_loss: 733.6711 - val_accuracy: 0.0000e+00\n",
            "Epoch 82/100\n",
            "1070/1070 [==============================] - 3s 3ms/step - loss: 0.0149 - accuracy: 3.1976e-05 - val_loss: 733.9691 - val_accuracy: 0.0000e+00\n",
            "Epoch 83/100\n",
            "1070/1070 [==============================] - 3s 3ms/step - loss: 0.0150 - accuracy: 7.5399e-06 - val_loss: 733.8238 - val_accuracy: 0.0000e+00\n",
            "Epoch 84/100\n",
            "1070/1070 [==============================] - 3s 3ms/step - loss: 0.0151 - accuracy: 3.3280e-06 - val_loss: 733.8176 - val_accuracy: 0.0000e+00\n",
            "Epoch 85/100\n",
            "1070/1070 [==============================] - 3s 3ms/step - loss: 0.0149 - accuracy: 2.0514e-05 - val_loss: 733.5936 - val_accuracy: 0.0000e+00\n",
            "Epoch 86/100\n",
            "1070/1070 [==============================] - 3s 3ms/step - loss: 0.0150 - accuracy: 4.5666e-05 - val_loss: 733.4705 - val_accuracy: 0.0000e+00\n",
            "Epoch 87/100\n",
            "1070/1070 [==============================] - 3s 3ms/step - loss: 0.0149 - accuracy: 2.7903e-05 - val_loss: 733.9474 - val_accuracy: 0.0000e+00\n",
            "Epoch 88/100\n",
            "1070/1070 [==============================] - 3s 3ms/step - loss: 0.0150 - accuracy: 3.1923e-06 - val_loss: 733.6012 - val_accuracy: 0.0000e+00\n",
            "Epoch 89/100\n",
            "1070/1070 [==============================] - 3s 3ms/step - loss: 0.0148 - accuracy: 1.6672e-05 - val_loss: 733.7803 - val_accuracy: 0.0000e+00\n",
            "Epoch 90/100\n",
            "1070/1070 [==============================] - 3s 3ms/step - loss: 0.0149 - accuracy: 3.1345e-05 - val_loss: 733.7326 - val_accuracy: 0.0000e+00\n",
            "Epoch 91/100\n",
            "1070/1070 [==============================] - 3s 3ms/step - loss: 0.0149 - accuracy: 2.1591e-05 - val_loss: 733.7922 - val_accuracy: 0.0000e+00\n",
            "Epoch 92/100\n",
            "1070/1070 [==============================] - 3s 3ms/step - loss: 0.0148 - accuracy: 1.5019e-05 - val_loss: 733.4242 - val_accuracy: 0.0000e+00\n",
            "Epoch 93/100\n",
            "1070/1070 [==============================] - 3s 3ms/step - loss: 0.0150 - accuracy: 5.2911e-05 - val_loss: 733.9479 - val_accuracy: 0.0000e+00\n",
            "Epoch 94/100\n",
            "1070/1070 [==============================] - 3s 3ms/step - loss: 0.0150 - accuracy: 2.5536e-05 - val_loss: 733.9136 - val_accuracy: 0.0000e+00\n",
            "Epoch 95/100\n",
            "1070/1070 [==============================] - 3s 3ms/step - loss: 0.0149 - accuracy: 2.5670e-05 - val_loss: 733.5223 - val_accuracy: 0.0000e+00\n",
            "Epoch 96/100\n",
            "1070/1070 [==============================] - 3s 3ms/step - loss: 0.0150 - accuracy: 5.3664e-05 - val_loss: 733.8748 - val_accuracy: 0.0000e+00\n",
            "Epoch 97/100\n",
            "1070/1070 [==============================] - 3s 3ms/step - loss: 0.0149 - accuracy: 2.0325e-05 - val_loss: 733.6714 - val_accuracy: 0.0000e+00\n",
            "Epoch 98/100\n",
            "1070/1070 [==============================] - 3s 3ms/step - loss: 0.0149 - accuracy: 1.2351e-05 - val_loss: 733.7775 - val_accuracy: 0.0000e+00\n",
            "Epoch 99/100\n",
            "1070/1070 [==============================] - 3s 3ms/step - loss: 0.0150 - accuracy: 6.4034e-06 - val_loss: 733.5674 - val_accuracy: 0.0000e+00\n",
            "Epoch 100/100\n",
            "1070/1070 [==============================] - 3s 3ms/step - loss: 0.0149 - accuracy: 2.1826e-05 - val_loss: 733.4119 - val_accuracy: 0.0000e+00\n"
          ],
          "name": "stdout"
        }
      ]
    },
    {
      "cell_type": "code",
      "metadata": {
        "colab": {
          "base_uri": "https://localhost:8080/"
        },
        "id": "nGya28pRUS4p",
        "outputId": "af0060b3-8b1e-4d99-98b9-cef6ce5cf1d7"
      },
      "source": [
        "model.summary()"
      ],
      "execution_count": null,
      "outputs": [
        {
          "output_type": "stream",
          "text": [
            "Model: \"sequential\"\n",
            "_________________________________________________________________\n",
            "Layer (type)                 Output Shape              Param #   \n",
            "=================================================================\n",
            "dense (Dense)                (None, 30)                2040      \n",
            "_________________________________________________________________\n",
            "dense_1 (Dense)              (None, 30)                930       \n",
            "_________________________________________________________________\n",
            "dense_2 (Dense)              (None, 15)                465       \n",
            "_________________________________________________________________\n",
            "dense_3 (Dense)              (None, 10)                160       \n",
            "_________________________________________________________________\n",
            "dense_4 (Dense)              (None, 5)                 55        \n",
            "_________________________________________________________________\n",
            "dense_5 (Dense)              (None, 1)                 6         \n",
            "=================================================================\n",
            "Total params: 3,656\n",
            "Trainable params: 3,656\n",
            "Non-trainable params: 0\n",
            "_________________________________________________________________\n"
          ],
          "name": "stdout"
        }
      ]
    },
    {
      "cell_type": "code",
      "metadata": {
        "id": "AcL57FMLXh1Q"
      },
      "source": [
        "train_predict=model.predict(X_train)\n",
        "test_predict=model.predict(X_test)"
      ],
      "execution_count": null,
      "outputs": []
    },
    {
      "cell_type": "code",
      "metadata": {
        "id": "aKfwqsgAYNjp"
      },
      "source": [
        "train_predict=scaler.inverse_transform(train_predict)\n",
        "test_predict=scaler.inverse_transform(test_predict)"
      ],
      "execution_count": null,
      "outputs": []
    },
    {
      "cell_type": "code",
      "metadata": {
        "colab": {
          "base_uri": "https://localhost:8080/"
        },
        "id": "0b2nP9iXYQ-C",
        "outputId": "523b2a6d-c337-42a1-c459-44c9a0555f38"
      },
      "source": [
        "import math\n",
        "from sklearn.metrics import mean_squared_error\n",
        "math.sqrt(mean_squared_error(y_train,train_predict))"
      ],
      "execution_count": null,
      "outputs": [
        {
          "output_type": "execute_result",
          "data": {
            "text/plain": [
              "26.116380335430062"
            ]
          },
          "metadata": {
            "tags": []
          },
          "execution_count": 105
        }
      ]
    },
    {
      "cell_type": "code",
      "metadata": {
        "colab": {
          "base_uri": "https://localhost:8080/"
        },
        "id": "fG7ebpIrZFEF",
        "outputId": "4cb42517-0d6f-4803-c184-0b808f29a6c7"
      },
      "source": [
        "model.save('/content/drive/MyDrive/my_model')"
      ],
      "execution_count": null,
      "outputs": [
        {
          "output_type": "stream",
          "text": [
            "INFO:tensorflow:Assets written to: /content/drive/MyDrive/my_model/assets\n"
          ],
          "name": "stdout"
        }
      ]
    }
  ]
}